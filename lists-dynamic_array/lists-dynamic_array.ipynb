{
 "cells": [
  {
   "cell_type": "markdown",
   "id": "dd4e0f5a",
   "metadata": {},
   "source": [
    "<h1>Python Lists</h1>"
   ]
  },
  {
   "cell_type": "markdown",
   "id": "6e3c6e8a",
   "metadata": {},
   "source": [
    "<i><b>Python lists are dynamic arrays which store objects in contiguous memory locations.</b></i>\n",
    "    \n",
    "<i><u>Note:</u> Unlike Java and C++, in which we can store only items of similar data types in arrays (homogeneous), Python lists are heterogeneous in nature as each array element is treated as an object.</i>"
   ]
  },
  {
   "cell_type": "markdown",
   "id": "d01bed54",
   "metadata": {},
   "source": [
    "<h2>Operations on Python Lists</h2>"
   ]
  },
  {
   "cell_type": "markdown",
   "id": "27104e6b",
   "metadata": {},
   "source": [
    "<h3>Initialise a list with prices of a stock for a week</h3>"
   ]
  },
  {
   "cell_type": "code",
   "execution_count": 1,
   "id": "159ec18d",
   "metadata": {},
   "outputs": [],
   "source": [
    "stock_prices = [98, 100, 103, 101, 102, 99, 101]"
   ]
  },
  {
   "cell_type": "markdown",
   "id": "f4200b66",
   "metadata": {},
   "source": [
    "<h3>Access elements</h3>"
   ]
  },
  {
   "cell_type": "markdown",
   "id": "0e141366",
   "metadata": {},
   "source": [
    "<i>Index starts with 0</i>"
   ]
  },
  {
   "cell_type": "code",
   "execution_count": 2,
   "id": "fed4a443",
   "metadata": {},
   "outputs": [
    {
     "data": {
      "text/plain": [
       "98"
      ]
     },
     "execution_count": 2,
     "metadata": {},
     "output_type": "execute_result"
    }
   ],
   "source": [
    "#Price on Day 1\n",
    "stock_prices[0]"
   ]
  },
  {
   "cell_type": "code",
   "execution_count": 3,
   "id": "0ce2d4ff",
   "metadata": {},
   "outputs": [
    {
     "data": {
      "text/plain": [
       "103"
      ]
     },
     "execution_count": 3,
     "metadata": {},
     "output_type": "execute_result"
    }
   ],
   "source": [
    "#Price on Day 3\n",
    "stock_prices[2]"
   ]
  },
  {
   "cell_type": "markdown",
   "id": "db68ae4a",
   "metadata": {},
   "source": [
    "<i><b>Access or look-up time complexity for array elements by index is O(1).</b></i>\n",
    "    \n",
    "<i><u>Explanation:</u> The array name variable points to the address of only the first array element (index 0 address - referred to as \"base_address\" of the array). Based on the index we specify, the element is accessed by, <b>element_address = base_address + (specified_index * size_of_each_element)</b> which is a contsant time operation.</i>"
   ]
  },
  {
   "cell_type": "markdown",
   "id": "23c8f0dd",
   "metadata": {},
   "source": [
    "<h3>Search and/or access by value</h3>"
   ]
  },
  {
   "cell_type": "code",
   "execution_count": 4,
   "id": "5dcadd65",
   "metadata": {},
   "outputs": [
    {
     "name": "stdout",
     "output_type": "stream",
     "text": [
      "Enter element to search: 99\n",
      "\n",
      "Linear Search:\n",
      "Stock price was 99 on day 6\n",
      "\n",
      "Binary Search:\n",
      "Stock price was 99 on one of the days in the given week's stock prices.     Can not comment on which day as stock_prices was sorted for binary_search to perform successfully     and the original order of stock_prices with respect to day has been lost.\n",
      "Stock price was 99 at position 2 in sorted list.\n"
     ]
    }
   ],
   "source": [
    "#Linear Search - O(n)\n",
    "def linear_search(stock_prices, n):\n",
    "    for i, stock_price in enumerate(stock_prices):\n",
    "        if stock_price == n:\n",
    "            return i\n",
    "        \n",
    "    return 0\n",
    "    \n",
    "#Binary Search - O(log n)\n",
    "def binary_search(stock_prices, n):\n",
    "    l, h = 0, (len(stock_prices) - 1)\n",
    "    \n",
    "    while l <= h:\n",
    "        mid = (l + h) // 2\n",
    "        \n",
    "        if stock_prices[mid] == n:\n",
    "            return mid\n",
    "        \n",
    "        elif stock_prices[mid] > n:\n",
    "            h = mid - 1\n",
    "            \n",
    "        elif stock_prices[mid] < n:\n",
    "            l = mid + 1\n",
    "            \n",
    "    return 0\n",
    "\n",
    "#Driver code\n",
    "stock_prices = [98, 100, 103, 101, 102, 99, 101]\n",
    "n = int(input(\"Enter element to search: \"))\n",
    "\n",
    "print(\"\\nLinear Search:\")\n",
    "if linear_search(stock_prices, n):\n",
    "    print(\"Stock price was\", n, \"on day\",  (linear_search(stock_prices, n) + 1))\n",
    "else:\n",
    "    print(\"Stock price was never\" + str(n) + \"in the given week's stock prices.\")\n",
    "    \n",
    "print(\"\\nBinary Search:\")\n",
    "if binary_search(sorted(stock_prices), n):\n",
    "    print(\"Stock price was\", n, \"on one of the days in the given week's stock prices. \\\n",
    "    Can not comment on which day as stock_prices was sorted for binary_search to perform successfully \\\n",
    "    and the original order of stock_prices with respect to day has been lost.\")\n",
    "    print(\"Stock price was\", n, \"at position\",  (binary_search(sorted(stock_prices), n) + 1), \"in sorted list.\")\n",
    "else:\n",
    "    print(\"Stock price was never\", n, \"in the given week's stock prices.\")"
   ]
  },
  {
   "cell_type": "markdown",
   "id": "4fed2237",
   "metadata": {},
   "source": [
    "<i><b>Access or look-up time for array index by value, or, search for existence of array element or array index, is O(n) for unsorted data - <u>Linear Search</u></b></i><br>\n",
    "\n",
    "<i><b>Search for exitence of array element or array index by value is O(log n) for SORTED data - <u>Binary Search</u></b></i>"
   ]
  },
  {
   "cell_type": "markdown",
   "id": "0788da52",
   "metadata": {},
   "source": [
    "<h3>Array Traversal</h3>"
   ]
  },
  {
   "cell_type": "code",
   "execution_count": 5,
   "id": "bd0ac69d",
   "metadata": {},
   "outputs": [
    {
     "name": "stdout",
     "output_type": "stream",
     "text": [
      "98\n",
      "100\n",
      "103\n",
      "101\n",
      "102\n",
      "99\n",
      "101\n"
     ]
    }
   ],
   "source": [
    "for stock_price in stock_prices:\n",
    "    print(stock_price)"
   ]
  },
  {
   "cell_type": "markdown",
   "id": "b7f20cb9",
   "metadata": {},
   "source": [
    "<i><b>Array traversal time complexity is O(n).</b></i>"
   ]
  },
  {
   "cell_type": "markdown",
   "id": "b7ed73cd",
   "metadata": {},
   "source": [
    "<h3>Insert element at given index</h3>"
   ]
  },
  {
   "cell_type": "code",
   "execution_count": 6,
   "id": "4084a8bc",
   "metadata": {},
   "outputs": [
    {
     "data": {
      "text/plain": [
       "[98, 97, 100, 103, 101, 102, 99, 101]"
      ]
     },
     "execution_count": 6,
     "metadata": {},
     "output_type": "execute_result"
    }
   ],
   "source": [
    "#Insert new price 97 in stock_prices at index 1\n",
    "#Syntax - array_name.insert(index_to_insert_into, value_to_insert)\n",
    "\n",
    "stock_prices = [98, 100, 103, 101, 102, 99, 101]\n",
    "stock_prices.insert(1, 97)\n",
    "stock_prices"
   ]
  },
  {
   "cell_type": "markdown",
   "id": "05749af5",
   "metadata": {},
   "source": [
    "<i><b>Insertion element at given index time complexity is O(n).</b></i>\n",
    "    \n",
    "<i><u>Explanation:</u> Once we insert at element at a given position, we need to copy all the following elements to the next memory location. Since at most, we might need to move n elements, thus worst case time complexity is O(n).\n",
    "</i>"
   ]
  },
  {
   "cell_type": "markdown",
   "id": "b72bb777",
   "metadata": {},
   "source": [
    "<h3>Delete element by value and/or index</h3>"
   ]
  },
  {
   "cell_type": "code",
   "execution_count": 7,
   "id": "d443c34e",
   "metadata": {},
   "outputs": [
    {
     "name": "stdout",
     "output_type": "stream",
     "text": [
      "[98, 100, 103, 102, 99, 101]\n",
      "[98, 100, 101, 102, 99, 101]\n"
     ]
    }
   ],
   "source": [
    "#Remove by value - For elements (values) with multiple occurences (duplicates),\n",
    "#by default first occurence will be removed.\n",
    "\n",
    "stock_prices = [98, 100, 103, 101, 102, 99, 101]\n",
    "stock_prices.remove(101)\n",
    "print(stock_prices)\n",
    "\n",
    "#Remove by index\n",
    "stock_prices = [98, 100, 103, 101, 102, 99, 101]\n",
    "stock_prices.pop(2)\n",
    "print(stock_prices)"
   ]
  },
  {
   "cell_type": "markdown",
   "id": "13ddadc5",
   "metadata": {},
   "source": [
    "<i><b>Time complexity for element deletion will be O(n).</b></i>\n",
    "    \n",
    "<i><u>Explanation:</u> Once an element is removed, we need to copy all the following elements to the previous memory location. Since at most, we might need to move n elements, thus worst case time complexity is O(n).\n",
    "</i>"
   ]
  },
  {
   "cell_type": "markdown",
   "id": "fed4c43d",
   "metadata": {},
   "source": [
    "<h2>Static Array vs Dynamic Array</h2>"
   ]
  },
  {
   "cell_type": "markdown",
   "id": "25c47cb8",
   "metadata": {},
   "source": [
    "<h3><i>Python lists are dynamic arrays</i></h3>"
   ]
  },
  {
   "cell_type": "markdown",
   "id": "a35bdc16",
   "metadata": {},
   "source": [
    "<h4>Example using JAVA</h4>\n",
    "\n",
    "<h5>Static Array</h5>\n",
    "\n",
    "int stockPrices[] = new int[5]; <b><i>Initialises intereger array with max 5 elements.</i></b>\n",
    "\n",
    "stockPrices[0] = 98;<br>\n",
    "stockPrices[1] = 100;<br>\n",
    "stockPrices[2] = 103;<br>\n",
    "stockPrices[3] = 101;<br>\n",
    "stockPrices[4] = 102;\n",
    "\n",
    "stockPrices[6] = 101; <b><i><font color=\"red\">Not allowed. Throws ArrayIndexOutOfBound exception.</i></b>\n",
    "\n",
    "<u>Explanation:</u> \"<i><u>int stockPrices[] = new int[5];</u></i>\" initilised an integer array with max_size of 5 (allowed index 0 to 4). Whenever we try to insert an additional element, we get ArrayIndexOutOfBound exception. <b>Size of static arrays is immutable.</b>"
   ]
  },
  {
   "cell_type": "markdown",
   "id": "82327440",
   "metadata": {},
   "source": [
    "<h4>Example using JAVA</h4>\n",
    "\n",
    "<h5>Dynamic Array</h5>\n",
    "\n",
    "ArrayList\\<Integer\\> stockPrices = new ArrayList\\<Integer\\>(); <b><i>Initialises dynamic intereger array. Dynamic arrays do not have any max element constaint.</i></b>\n",
    "\n",
    "stockPrices.add(98);<br>\n",
    "stockPrices.add(100);<br>\n",
    "stockPrices.add(103);<br>\n",
    "stockPrices.add(101);<br>\n",
    "stockPrices.add(102);<br>\n",
    "stockPrices.add(99);<br>\n",
    "stockPrices.add(101);\n",
    "\n",
    "<u>Explanation:</u> When we initilised a dynamic integer array object with \"<i><u>ArrayList\\<Integer\\> stockPrices = new ArrayList\\<Integer\\>();</u></i>\", a fixed amount of continuous memory is allocated in the RAM for the array. The neighbouring areas to these memory locations can be allocated to other programs or other variables of the same program, thus making them unavailable for expansion of our dynamic array when the initially allocated memory space is exhausted. When we have exhausted the initially allocated memory and try to insert newer elements, the array will be allocated a new memory area in different memory location with an additional memory twice the existing memory allocated, thus making the total size 3x - copy over the existing elements and then keep inserting newer elements. This is a continuous process for as many elements are to be inserted and the array size keeps growing. Thus, the <b>size of dynamic arrays is expandable (mutable).</b>\n",
    "    \n",
    "<u>Note:</u> When dynamic arrays grow, there is an overhead of allocating new memory and copying over existing elememts to new memory area repeatedly. The memory thus grows in Geometric Progression."
   ]
  },
  {
   "cell_type": "markdown",
   "id": "e0b22b49",
   "metadata": {},
   "source": [
    "<b>Python lists are heterogeneous in nature as it treats all list elements at objects (with references, i.e. their values) and can store integers, strings, dictionaries, even other lists as elements of the same list.</b>"
   ]
  },
  {
   "cell_type": "markdown",
   "id": "f06abbdf",
   "metadata": {},
   "source": [
    "<h2>n-Dimensional Array</h2>"
   ]
  },
  {
   "cell_type": "markdown",
   "id": "d2f46ae5",
   "metadata": {},
   "source": [
    "<h3>2-Dimensional Array</h3>"
   ]
  },
  {
   "cell_type": "code",
   "execution_count": 8,
   "id": "890001c6",
   "metadata": {},
   "outputs": [
    {
     "data": {
      "text/plain": [
       "95"
      ]
     },
     "execution_count": 8,
     "metadata": {},
     "output_type": "execute_result"
    }
   ],
   "source": [
    "stock_prices = [\n",
    "    [2, 3, 5, 6],\n",
    "    [97, 92, 95, 98],\n",
    "    [41, 48, 59, 62, 88]\n",
    "]\n",
    "\n",
    "stock_prices[1][2] #Access element of row 2, column 3"
   ]
  },
  {
   "cell_type": "markdown",
   "id": "b187d575",
   "metadata": {},
   "source": [
    "<h1>Exercise 1</h1>\n",
    "\n",
    "Let us say your expense for every month are listed below:<br>\n",
    "January - 2200<br>\n",
    "February - 2350<br>\n",
    "March - 2600<br>\n",
    "April - 2130<br>\n",
    "May - 2190<br>\n",
    "\n",
    "Create a list to store these monthly expenses and using that find out:\n",
    "\n",
    "1. In Feb, how many dollars you spent extra compare to January?\n",
    "2. Find out your total expense in first quarter (first three months) of the year.\n",
    "3. Find out if you spent exactly 2000 dollars in any month\n",
    "4. June month just finished and your expense is 1980 dollar. Add this item to our monthly expense list\n",
    "5. You returned an item that you bought in a month of April and got a refund of 200$. Make a correction to your monthly expense list based on this"
   ]
  },
  {
   "cell_type": "code",
   "execution_count": 9,
   "id": "97d586ff",
   "metadata": {},
   "outputs": [
    {
     "data": {
      "text/plain": [
       "[2200, 2350, 2600, 2130, 2190]"
      ]
     },
     "execution_count": 9,
     "metadata": {},
     "output_type": "execute_result"
    }
   ],
   "source": [
    "#Initilise list\n",
    "monthly_expense = [2200, 2350, 2600, 2130, 2190]\n",
    "monthly_expense"
   ]
  },
  {
   "cell_type": "code",
   "execution_count": 10,
   "id": "44ae73ae",
   "metadata": {},
   "outputs": [
    {
     "name": "stdout",
     "output_type": "stream",
     "text": [
      "150\n"
     ]
    }
   ],
   "source": [
    "#1\n",
    "if monthly_expense[1] - monthly_expense[0] > 0:\n",
    "    print(monthly_expense[1] - monthly_expense[0])\n",
    "else:\n",
    "    print(\"Expense is February was not more than January.\")"
   ]
  },
  {
   "cell_type": "code",
   "execution_count": 11,
   "id": "3662316d",
   "metadata": {},
   "outputs": [
    {
     "data": {
      "text/plain": [
       "7150"
      ]
     },
     "execution_count": 11,
     "metadata": {},
     "output_type": "execute_result"
    }
   ],
   "source": [
    "#2\n",
    "sum(monthly_expense[:3])"
   ]
  },
  {
   "cell_type": "code",
   "execution_count": 12,
   "id": "44c52e56",
   "metadata": {},
   "outputs": [
    {
     "name": "stdout",
     "output_type": "stream",
     "text": [
      "No\n"
     ]
    }
   ],
   "source": [
    "#3\n",
    "if 200 in monthly_expense:\n",
    "    print(\"Yes\")\n",
    "else:\n",
    "    print(\"No\")"
   ]
  },
  {
   "cell_type": "code",
   "execution_count": 13,
   "id": "18fc1f22",
   "metadata": {},
   "outputs": [
    {
     "data": {
      "text/plain": [
       "[2200, 2350, 2600, 2130, 2190, 1980]"
      ]
     },
     "execution_count": 13,
     "metadata": {},
     "output_type": "execute_result"
    }
   ],
   "source": [
    "#4\n",
    "monthly_expense.append(1980)\n",
    "monthly_expense"
   ]
  },
  {
   "cell_type": "code",
   "execution_count": 14,
   "id": "49e5c270",
   "metadata": {},
   "outputs": [
    {
     "data": {
      "text/plain": [
       "1930"
      ]
     },
     "execution_count": 14,
     "metadata": {},
     "output_type": "execute_result"
    }
   ],
   "source": [
    "#5\n",
    "monthly_expense[3] = monthly_expense[3] - 200\n",
    "monthly_expense[3]"
   ]
  },
  {
   "cell_type": "markdown",
   "id": "725d18c9",
   "metadata": {},
   "source": [
    "<h1>Exercise 2</h1>\n",
    "\n",
    "You have a list of your favourite marvel super heros.<br>\n",
    "heros=['spider man','thor','hulk','iron man','captain america']\n",
    "\n",
    "Using this find out:\n",
    "\n",
    "1. Length of the list\n",
    "2. Add 'black panther' at the end of this list\n",
    "3. You realize that you need to add 'black panther' after 'hulk',\n",
    "   so remove it from the list first and then add it after 'hulk'\n",
    "4. Now you don't like thor and hulk because they get angry easily :\n",
    "   So you want to remove thor and hulk from list and replace them with doctor strange (because he is cool).\n",
    "   Do that with one line of code.\n",
    "5. Sort the heros list in alphabetical order (Hint - Use dir() functions to list down all functions available in list)"
   ]
  },
  {
   "cell_type": "code",
   "execution_count": 15,
   "id": "29f85266",
   "metadata": {},
   "outputs": [
    {
     "data": {
      "text/plain": [
       "['spider man', 'thor', 'hulk', 'iron man', 'captain america']"
      ]
     },
     "execution_count": 15,
     "metadata": {},
     "output_type": "execute_result"
    }
   ],
   "source": [
    "#Initialise list\n",
    "heros = ['spider man','thor','hulk','iron man','captain america']\n",
    "heros"
   ]
  },
  {
   "cell_type": "code",
   "execution_count": 16,
   "id": "b6e4063d",
   "metadata": {},
   "outputs": [
    {
     "data": {
      "text/plain": [
       "5"
      ]
     },
     "execution_count": 16,
     "metadata": {},
     "output_type": "execute_result"
    }
   ],
   "source": [
    "#1\n",
    "len(heros)"
   ]
  },
  {
   "cell_type": "code",
   "execution_count": 17,
   "id": "457ad76f",
   "metadata": {},
   "outputs": [
    {
     "data": {
      "text/plain": [
       "['spider man', 'thor', 'hulk', 'iron man', 'captain america', 'black panther']"
      ]
     },
     "execution_count": 17,
     "metadata": {},
     "output_type": "execute_result"
    }
   ],
   "source": [
    "#2\n",
    "heros.append(\"black panther\")\n",
    "heros"
   ]
  },
  {
   "cell_type": "code",
   "execution_count": 18,
   "id": "61986de1",
   "metadata": {},
   "outputs": [
    {
     "data": {
      "text/plain": [
       "['spider man', 'thor', 'hulk', 'black panther', 'iron man', 'captain america']"
      ]
     },
     "execution_count": 18,
     "metadata": {},
     "output_type": "execute_result"
    }
   ],
   "source": [
    "#3\n",
    "heros.remove(\"black panther\")\n",
    "\n",
    "for i, hero in enumerate(heros):\n",
    "    if hero == \"hulk\":\n",
    "        index = i\n",
    "        break\n",
    "        \n",
    "heros.insert(index + 1, \"black panther\")\n",
    "heros"
   ]
  },
  {
   "cell_type": "code",
   "execution_count": 19,
   "id": "8abb97df",
   "metadata": {},
   "outputs": [
    {
     "data": {
      "text/plain": [
       "['spider man',\n",
       " 'doctor strange',\n",
       " 'black panther',\n",
       " 'iron man',\n",
       " 'captain america']"
      ]
     },
     "execution_count": 19,
     "metadata": {},
     "output_type": "execute_result"
    }
   ],
   "source": [
    "#4\n",
    "heros[1:3] = [\"doctor strange\"]\n",
    "heros"
   ]
  },
  {
   "cell_type": "code",
   "execution_count": 20,
   "id": "219cfde5",
   "metadata": {},
   "outputs": [
    {
     "data": {
      "text/plain": [
       "['__add__',\n",
       " '__class__',\n",
       " '__class_getitem__',\n",
       " '__contains__',\n",
       " '__delattr__',\n",
       " '__delitem__',\n",
       " '__dir__',\n",
       " '__doc__',\n",
       " '__eq__',\n",
       " '__format__',\n",
       " '__ge__',\n",
       " '__getattribute__',\n",
       " '__getitem__',\n",
       " '__gt__',\n",
       " '__hash__',\n",
       " '__iadd__',\n",
       " '__imul__',\n",
       " '__init__',\n",
       " '__init_subclass__',\n",
       " '__iter__',\n",
       " '__le__',\n",
       " '__len__',\n",
       " '__lt__',\n",
       " '__mul__',\n",
       " '__ne__',\n",
       " '__new__',\n",
       " '__reduce__',\n",
       " '__reduce_ex__',\n",
       " '__repr__',\n",
       " '__reversed__',\n",
       " '__rmul__',\n",
       " '__setattr__',\n",
       " '__setitem__',\n",
       " '__sizeof__',\n",
       " '__str__',\n",
       " '__subclasshook__',\n",
       " 'append',\n",
       " 'clear',\n",
       " 'copy',\n",
       " 'count',\n",
       " 'extend',\n",
       " 'index',\n",
       " 'insert',\n",
       " 'pop',\n",
       " 'remove',\n",
       " 'reverse',\n",
       " 'sort']"
      ]
     },
     "execution_count": 20,
     "metadata": {},
     "output_type": "execute_result"
    }
   ],
   "source": [
    "#5 - Hint\n",
    "dir(heros)"
   ]
  },
  {
   "cell_type": "code",
   "execution_count": 21,
   "id": "818ecd1b",
   "metadata": {},
   "outputs": [
    {
     "name": "stdout",
     "output_type": "stream",
     "text": [
      "['captain america', 'doctor strange', 'iron man', 'spider man']\n",
      "['spider man', 'doctor strange', 'iron man', 'captain america']\n",
      "['captain america', 'doctor strange', 'iron man', 'spider man']\n"
     ]
    }
   ],
   "source": [
    "#5\n",
    "heros = ['spider man', 'doctor strange', 'iron man', 'captain america']\n",
    "\n",
    "#Shallow sort\n",
    "print(sorted(heros))\n",
    "print(heros)\n",
    "\n",
    "#In-place sort\n",
    "heros.sort()\n",
    "print(heros)"
   ]
  },
  {
   "cell_type": "markdown",
   "id": "7ef2bbd1",
   "metadata": {},
   "source": [
    "<h2>Exercise 3</h2>\n",
    "\n",
    "Create a list of all odd numbers between 1 and a max number. Max number is something you need to take from a user using input() function"
   ]
  },
  {
   "cell_type": "code",
   "execution_count": 22,
   "id": "99a4c2da",
   "metadata": {},
   "outputs": [
    {
     "name": "stdout",
     "output_type": "stream",
     "text": [
      "Enter n: 72\n",
      "[1, 3, 5, 7, 9, 11, 13, 15, 17, 19, 21, 23, 25, 27, 29, 31, 33, 35, 37, 39, 41, 43, 45, 47, 49, 51, 53, 55, 57, 59, 61, 63, 65, 67, 69, 71]\n"
     ]
    }
   ],
   "source": [
    "def create_list(n):\n",
    "    arr = list()\n",
    "    \n",
    "    for i in range(1,n,2):\n",
    "        arr.append(i)\n",
    "        \n",
    "    return arr\n",
    "\n",
    "#Driver code\n",
    "n = int(input(\"Enter n: \"))\n",
    "print(create_list(n))"
   ]
  }
 ],
 "metadata": {
  "kernelspec": {
   "display_name": "Python 3 (ipykernel)",
   "language": "python",
   "name": "python3"
  },
  "language_info": {
   "codemirror_mode": {
    "name": "ipython",
    "version": 3
   },
   "file_extension": ".py",
   "mimetype": "text/x-python",
   "name": "python",
   "nbconvert_exporter": "python",
   "pygments_lexer": "ipython3",
   "version": "3.9.12"
  }
 },
 "nbformat": 4,
 "nbformat_minor": 5
}
