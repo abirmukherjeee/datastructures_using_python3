{
 "cells": [
  {
   "cell_type": "markdown",
   "id": "0c05c7ec",
   "metadata": {},
   "source": [
    "<h1>Binary Tree in Python</h1>"
   ]
  },
  {
   "cell_type": "markdown",
   "id": "5ad47439",
   "metadata": {},
   "source": [
    "<b><i>Binary Tree is defined as a Tree data structure with at most 2 children. Since each element in a binary tree can have only 2 children, we typically name them the left and right child.</i></b>\n",
    "\n",
    "Please read <a href=\"https://www.geeksforgeeks.org/binary-tree-data-structure/\" target=\"_blank\">Binary Tree Data Structure</a> from GFG."
   ]
  },
  {
   "cell_type": "markdown",
   "id": "18195b44",
   "metadata": {},
   "source": [
    "<b><i>Binary Search Tree is a special binary tree data structure which has the following properties:</i></b>\n",
    "\n",
    "1. <i>The left subtree of a node contains only nodes with keys lesser than the node’s key.</i>\n",
    "2. <i>The right subtree of a node contains only nodes with keys greater than the node’s key.</i>\n",
    "3. <i>The left and right subtree each must also be a binary search tree.</i>\n",
    "4. <i>As evident from points 1 and 2, no two nodes can have the same value or data in a binary search tree.</i>\n",
    "\n",
    "Please read <a href=\"https://www.geeksforgeeks.org/binary-search-tree-data-structure/\" target=\"_blank\">Binary Search Tree</a> from GFG."
   ]
  },
  {
   "cell_type": "markdown",
   "id": "bf28911c",
   "metadata": {},
   "source": [
    "<b><i>AVL tree is a self-balancing Binary Search Tree (BST) where the difference between heights of left and right subtrees cannot be more than one for all nodes.</i></b>\n",
    "\n",
    "Please read <a href=\"https://www.geeksforgeeks.org/insertion-in-an-avl-tree/\" target=\"_blank\">AVL Tree (Balanced BST)</a> from GFG."
   ]
  },
  {
   "cell_type": "markdown",
   "id": "6b176e93",
   "metadata": {},
   "source": [
    "<b><i>One application of AVL Tree is the implementation of an ADT like set() in Python, which is mostly similar to a list, but that it cannot contain duplicate elements.</i></b>\n",
    "\n",
    "Please read <a href=\"https://www.geeksforgeeks.org/sets-in-python/\" target=\"_blank\">Sets in Python</a> from GFG."
   ]
  },
  {
   "cell_type": "markdown",
   "id": "0bfed958",
   "metadata": {},
   "source": [
    "<h3>Sets in Python</h3>"
   ]
  },
  {
   "cell_type": "code",
   "execution_count": 1,
   "id": "257f46a5",
   "metadata": {},
   "outputs": [
    {
     "data": {
      "text/plain": [
       "['India', 'USA', 'India', 'China', 'USA']"
      ]
     },
     "execution_count": 1,
     "metadata": {},
     "output_type": "execute_result"
    }
   ],
   "source": [
    "#Initialise list of countries\n",
    "countries = [\"India\", \"USA\", \"India\", \"China\", \"USA\"]\n",
    "\n",
    "countries #Should return entire list including duplicates"
   ]
  },
  {
   "cell_type": "code",
   "execution_count": 2,
   "id": "6ca74c97",
   "metadata": {},
   "outputs": [
    {
     "data": {
      "text/plain": [
       "{'China', 'India', 'USA'}"
      ]
     },
     "execution_count": 2,
     "metadata": {},
     "output_type": "execute_result"
    }
   ],
   "source": [
    "#Initialise set of countries\n",
    "countries = set([\"India\", \"USA\", \"India\", \"China\", \"USA\"])\n",
    "\n",
    "countries #Should return unique elements only"
   ]
  },
  {
   "cell_type": "markdown",
   "id": "50e222cf",
   "metadata": {},
   "source": [
    "<i>We also notice that the elements in a set got re-ordered alphabetically (sorted). More on that below.</i>"
   ]
  },
  {
   "cell_type": "markdown",
   "id": "422d1640",
   "metadata": {},
   "source": [
    "<h2>Time Complexity of Search and Insertion in AVL Tree</h2>"
   ]
  },
  {
   "cell_type": "markdown",
   "id": "920ba25a",
   "metadata": {},
   "source": [
    "<h3>Search Operation</h3>"
   ]
  },
  {
   "cell_type": "markdown",
   "id": "f7abfd40",
   "metadata": {},
   "source": [
    "<i>Suppose we are seraching for 14 in the AVL tree shown below:</i>\n",
    "\n",
    "<img align=\"left\" src=\"Search Operation.png\" alt=\"Search Operation\">"
   ]
  },
  {
   "cell_type": "markdown",
   "id": "2de18586",
   "metadata": {},
   "source": [
    "<i>We start with the root node, 15 and compare the value of the root node with the element we are searching for, 14. Since 14 is less than 15, we directly to the left sub-tree of 15 and completely omit the right sub-tree from our search space reducing our search space by half.</i>\n",
    "\n",
    "<i>The left child of 15 is 12, so now we compare 12 with our search element, 14. Since 14 is greater than 14, this time we go directly to the right sub-tree of 12 and completely omit the left sub-tree of 12 again reducing our search space by half in the second iteration.</i>\n",
    "\n",
    "<i>Next, the right child of 12 is 14, which is equal to our search element and we conclude in the third iteration that 14 is present in the tree.</i>"
   ]
  },
  {
   "cell_type": "markdown",
   "id": "0b3c7061",
   "metadata": {},
   "source": [
    "<i>Had we used any unsorted linear data-structure, we would have required to iterate over all the elements in the worst case scenario to conclusiely assertain the presence of an element. However, using AVL tree data-structure, even in the worst case scenario, we can assertain the presence of an element in <b>O(log n)</b> time-complexity since the search space is reduced by half at the end of every single iteration. Hence the <b>maximum number of iterations required will be log n is the original search space consists of n elements.</b></i>\n",
    "\n",
    "<img align=\"left\" src=\"Search Time Complexity.png\" alt=\"Search Time Complexity\">"
   ]
  },
  {
   "cell_type": "markdown",
   "id": "4c9b3b0f",
   "metadata": {},
   "source": [
    "<h3>Insert Operation</h3>"
   ]
  },
  {
   "cell_type": "markdown",
   "id": "4dbeaa41",
   "metadata": {},
   "source": [
    "<i>Suppose we are insert 13 in the AVL tree shown above:</i>\n",
    "\n",
    "<img align=\"left\" src=\"Insert Operation.png\" alt=\"Insert Operation\" style=\"height:500px;\">"
   ]
  },
  {
   "cell_type": "markdown",
   "id": "2fde3a0c",
   "metadata": {},
   "source": [
    "<i>We start with the root node and compare the element value of the node, 15 with the element to be inserted, 13. Since 13 is less than 15, so proceed to the left sub-tree of 15.</i>\n",
    "\n",
    "<i>The left child node of 15 is 12, with which we compare the element to be inserted, 13. Since 13 is greater than 12, we now proceed to the right sub-tree of 12.</i>\n",
    "\n",
    "<i>The right child node of 12 is 14, which is greater than the element to be inserted, 13. So we proceed to the left sub-tree of 14. But 14 has no left child node, hence we insert 13 at this location.</i>"
   ]
  },
  {
   "cell_type": "markdown",
   "id": "f776b419",
   "metadata": {},
   "source": [
    "<i>Similar to our search operation, for insertion operation too, to identify the position at which to insert our element, we reduce the space by half at every iteration. Thus the insertion complexity of AVL tree is also <b>O(log n).</b></i>"
   ]
  },
  {
   "cell_type": "markdown",
   "id": "46d522c4",
   "metadata": {},
   "source": [
    "<img align=\"left\" src=\"Insert Time Complexity.png\" alt=\"Insert Time Complexity\" style=\"height:500px;\">"
   ]
  },
  {
   "cell_type": "markdown",
   "id": "2af67ae7",
   "metadata": {},
   "source": [
    "<h2>Tree Traversal</h2>"
   ]
  },
  {
   "cell_type": "markdown",
   "id": "ced5553f",
   "metadata": {},
   "source": [
    "<b><i>Unlike linear data structures (Array, Linked List, Queues, Stacks, etc) which have only one logical way to traverse them, trees can be traversed in different ways. The following are the generally used methods for traversing trees:</i></b>\n",
    "\n",
    "<b><i>Breadth First Search (BFS)</i></b>\n",
    "\n",
    "<b><i>Depth First Search (DFS)</i></b><br>\n",
    "<i>There are 3 techniques in DFS:</i>\n",
    "1. <i><u>In-order Traversal:</u> Left, Node, Right</i>\n",
    "2. <i><u>Pre-order Traversal:</u> Node, Left, Right</i>\n",
    "3. <i><u>Post-order Traversal:</u> Left, Right, Node</i>\n",
    "\n",
    "<i><u>Note:</u> Regardless of which traversal technique, a non-negotiable point to remember is that the left sub-tree is always visited before the right sub-tree. In-order, Pre-order or Post-order is decided by the difference in the position of the root node.</i>\n",
    "\n",
    "Please read <a href=\"https://www.geeksforgeeks.org/tree-traversals-inorder-preorder-and-postorder/\" target=\"_blank\">Tree Traversals (Inorder, Preorder and Postorder)</a> from GFG."
   ]
  },
  {
   "cell_type": "markdown",
   "id": "2bfc923e",
   "metadata": {},
   "source": [
    "<i>Let's look at the DFS Tree Traversal of the AVL tree used in the above examples:</i>\n",
    "\n",
    "<img align=\"left\" src=\"DFS Tree Traversal.png\" alt=\"DFS Tree Traversal\">"
   ]
  },
  {
   "cell_type": "markdown",
   "id": "bc4fd8c2",
   "metadata": {},
   "source": [
    "<i>We recursively traverse every nodes of the tree, applying the same in-order, pre-order or post-order algorithm to each individual node recursively and pick up an element when there are no childs left to be traversed in the direction of the traversal.</i>"
   ]
  },
  {
   "cell_type": "markdown",
   "id": "c5ef392d",
   "metadata": {},
   "source": [
    "<h2>Implement Binary Search Tree in Python</h2>"
   ]
  },
  {
   "cell_type": "markdown",
   "id": "5865578c",
   "metadata": {},
   "source": [
    "<h3>Search and Insert Operation</h3>"
   ]
  },
  {
   "cell_type": "code",
   "execution_count": 3,
   "id": "bab82c14",
   "metadata": {},
   "outputs": [],
   "source": [
    "class BinarySearchTreeNode:\n",
    "    def __init__(self, data):\n",
    "        self.data = data\n",
    "        self.left = None\n",
    "        self.right = None\n",
    "        \n",
    "    def add_child(self, data):\n",
    "        if data == self.data: #Check for duplicate\n",
    "            return #BST does not contain duplicate elements\n",
    "        \n",
    "        elif data < self.data:\n",
    "            #Add data to left sub-tree\n",
    "            if self.left: #Check if left child node is present, if not, then self is a left node\n",
    "                self.left.add_child(data) #Recurvisely call add_child(data) function to insert data correctly\n",
    "            else:\n",
    "                #Self is a left node, add data to as left child of self\n",
    "                self.left = BinarySearchTreeNode(data)\n",
    "            \n",
    "        else:\n",
    "            #Add data to right sub-tree\n",
    "            if self.right:\n",
    "                self.right.add_child(data)\n",
    "            else:\n",
    "                self.right = BinarySearchTreeNode(data)\n",
    "                \n",
    "    def in_order_traversal(self): #L-N-R\n",
    "        elements = list() #Empty list to be populted by in-order traversal in the BST\n",
    "                          #Will be returned at the end of the function as the output\n",
    "\n",
    "        #First visit left node\n",
    "        if self.left:\n",
    "            elements += self.left.in_order_traversal()\n",
    "\n",
    "        #Append base node\n",
    "        elements.append(self.data)\n",
    "\n",
    "        #Visit right node\n",
    "        if self.right:\n",
    "            elements += self.right.in_order_traversal()\n",
    "\n",
    "        return elements\n",
    "    \n",
    "    def search(self, data):\n",
    "        if self.data == data:\n",
    "            return True\n",
    "        \n",
    "        elif self.data > data:\n",
    "            #\"data\" might be present in left sub-tree\n",
    "            if self.left:\n",
    "                return self.left.search(data) #Recursively search left sub-tree\n",
    "                \n",
    "            else: #Reached leaf node and does not match\n",
    "                return False\n",
    "            \n",
    "        else:\n",
    "            #\"data\" might be present in right sub-tree\n",
    "            if self.right:\n",
    "                return self.right.search(data)\n",
    "                \n",
    "            else:\n",
    "                return False"
   ]
  },
  {
   "cell_type": "code",
   "execution_count": 4,
   "id": "5504507d",
   "metadata": {},
   "outputs": [],
   "source": [
    "#Helper function to build a BST\n",
    "def build_bst(elements):\n",
    "    root = BinarySearchTreeNode(elements[0])\n",
    "    \n",
    "    for i in range(1, len(elements)):\n",
    "        root.add_child(elements[i])\n",
    "        \n",
    "    return root"
   ]
  },
  {
   "cell_type": "code",
   "execution_count": 5,
   "id": "b4561b81",
   "metadata": {},
   "outputs": [
    {
     "name": "stdout",
     "output_type": "stream",
     "text": [
      "[1, 4, 9, 17, 18, 20, 23, 34]\n"
     ]
    }
   ],
   "source": [
    "if __name__ == \"__main__\":\n",
    "    elements = [17, 4, 1, 20, 9, 23, 18, 34]\n",
    "    bst = build_bst(elements)\n",
    "    print(bst.in_order_traversal())"
   ]
  },
  {
   "cell_type": "markdown",
   "id": "8403c443",
   "metadata": {},
   "source": [
    "<i>We see the list returned is sorted in ascending order, which is an application of in-order traversal of binary search tree. Also alove, when we saw the behaviour a set ADT, we noticed that all duplicated were removed and the values that were returned in a sorted order.</i>"
   ]
  },
  {
   "cell_type": "code",
   "execution_count": 6,
   "id": "a96ce306",
   "metadata": {},
   "outputs": [
    {
     "name": "stdout",
     "output_type": "stream",
     "text": [
      "[1, 4, 9, 17, 18, 20, 23, 34]\n"
     ]
    }
   ],
   "source": [
    "#Check if duplicate elements are skipped\n",
    "if __name__ == \"__main__\":\n",
    "    elements = [17, 4, 1, 20, 9, 23, 18, 34, 18, 4, 20, 4] #Added duplicates for 18, 4 and 20\n",
    "    bst = build_bst(elements)\n",
    "    print(bst.in_order_traversal())"
   ]
  },
  {
   "cell_type": "markdown",
   "id": "49160f32",
   "metadata": {},
   "source": [
    "<i>All duplicates were removed.</i>"
   ]
  },
  {
   "cell_type": "code",
   "execution_count": 7,
   "id": "59ba5ae3",
   "metadata": {},
   "outputs": [
    {
     "name": "stdout",
     "output_type": "stream",
     "text": [
      "True\n",
      "False\n",
      "True\n",
      "False\n"
     ]
    }
   ],
   "source": [
    "#Search for elements\n",
    "if __name__ == \"__main__\":\n",
    "    elements = [17, 4, 1, 20, 9, 23, 18, 34]\n",
    "    bst = build_bst(elements)\n",
    "    print(bst.search(20)) #True\n",
    "    print(bst.search(21)) #False\n",
    "    print(bst.search(4)) #True\n",
    "    print(bst.search(200)) #False"
   ]
  },
  {
   "cell_type": "code",
   "execution_count": 8,
   "id": "57cb7151",
   "metadata": {},
   "outputs": [
    {
     "name": "stdout",
     "output_type": "stream",
     "text": [
      "List of countries: ['Argentina', 'Australia', 'China', 'Germany', 'India', 'UK', 'USA']\n",
      "Is UK present in the list of countries? True\n",
      "Is Sweden present in the list of countries? False\n"
     ]
    }
   ],
   "source": [
    "if __name__ == \"__main__\":\n",
    "    countries = [\"India\", \"Australia\", \"USA\", \"Germany\", \"China\", \"India\", \"UK\", \"USA\", \"Argentina\"]\n",
    "    bst = build_bst(countries)\n",
    "    print(\"List of countries:\", bst.in_order_traversal())\n",
    "    print(\"Is UK present in the list of countries?\", bst.search(\"UK\")) #True\n",
    "    print(\"Is Sweden present in the list of countries?\", bst.search(\"Sweden\")) #True"
   ]
  },
  {
   "cell_type": "markdown",
   "id": "0867dc0f",
   "metadata": {},
   "source": [
    "<h2>Exercise 1</h2>"
   ]
  },
  {
   "cell_type": "markdown",
   "id": "3dca2879",
   "metadata": {},
   "source": [
    "Add following methods to BinarySearchTreeNode class above:\n",
    "\n",
    "1. find_min(): finds minimum element in entire binary tree\n",
    "2. find_max(): finds maximum element in entire binary tree\n",
    "3. calculate_sum(): calcualtes sum of all elements\n",
    "4. post_order_traversal(): performs post order traversal of a binary tree\n",
    "5. pre_order_traversal(): perofrms pre order traversal of a binary tree"
   ]
  },
  {
   "cell_type": "code",
   "execution_count": 9,
   "id": "f7cbe67a",
   "metadata": {},
   "outputs": [],
   "source": [
    "class BinarySearchTreeNode:\n",
    "    def __init__(self, data):\n",
    "        self.data = data\n",
    "        self.left = None\n",
    "        self.right = None\n",
    "        \n",
    "    def add_child(self, data):\n",
    "        if data == self.data: #Check for duplicate\n",
    "            return #BST does not contain duplicate elements\n",
    "        \n",
    "        elif data < self.data:\n",
    "            #Add data to left sub-tree\n",
    "            if self.left: #Check if left child node is present, if not, then self is a left node\n",
    "                self.left.add_child(data) #Recurvisely call add_child(data) function to insert data correctly\n",
    "            else:\n",
    "                #Self is a left node, add data to as left child of self\n",
    "                self.left = BinarySearchTreeNode(data)\n",
    "            \n",
    "        else:\n",
    "            #Add data to right sub-tree\n",
    "            if self.right:\n",
    "                self.right.add_child(data)\n",
    "            else:\n",
    "                self.right = BinarySearchTreeNode(data)\n",
    "                \n",
    "    def in_order_traversal(self): #L-N-R\n",
    "        elements = list() #Empty list to be populted by in-order traversal in the BST\n",
    "                          #Will be returned at the end of the function as the output\n",
    "\n",
    "        #First visit left node\n",
    "        if self.left:\n",
    "            elements += self.left.in_order_traversal()\n",
    "\n",
    "        #Append base node\n",
    "        elements.append(self.data)\n",
    "\n",
    "        #Visit right node\n",
    "        if self.right:\n",
    "            elements += self.right.in_order_traversal()\n",
    "\n",
    "        return elements\n",
    "    \n",
    "    def search(self, data):\n",
    "        if self.data == data:\n",
    "            return True\n",
    "        \n",
    "        elif self.data > data:\n",
    "            #\"data\" might be present in left sub-tree\n",
    "            if self.left:\n",
    "                return self.left.search(data) #Recursively search left sub-tree\n",
    "                \n",
    "            else: #Reached leaf node and does not match\n",
    "                return False\n",
    "            \n",
    "        else:\n",
    "            #\"data\" might be present in right sub-tree\n",
    "            if self.right:\n",
    "                return self.right.search(data)\n",
    "                \n",
    "            else:\n",
    "                return False\n",
    "            \n",
    "    def find_min(self):\n",
    "        if not self.left:\n",
    "            return self.data\n",
    "        else:\n",
    "            return self.left.find_min()\n",
    "        \n",
    "    def find_max(self):\n",
    "        if not self.right:\n",
    "            return self.data\n",
    "        else:\n",
    "            return self.right.find_max()\n",
    "        \n",
    "    def calculate_sum(self):\n",
    "        left_sum = self.left.calculate_sum() if self.left else 0\n",
    "        right_sum = self.right.calculate_sum() if self.right else 0\n",
    "        return self.data + left_sum + right_sum\n",
    "    \n",
    "    def pre_order_traversal(self): #N-L-R\n",
    "        elements = list() #Empty list to be populted by in-order traversal in the BST\n",
    "                          #Will be returned at the end of the function as the output\n",
    "            \n",
    "        #Append base node\n",
    "        elements.append(self.data)\n",
    "\n",
    "        #First visit left node\n",
    "        if self.left:\n",
    "            elements += self.left.in_order_traversal()\n",
    "\n",
    "        #Visit right node\n",
    "        if self.right:\n",
    "            elements += self.right.in_order_traversal()\n",
    "\n",
    "        return elements\n",
    "    \n",
    "    def post_order_traversal(self): #L-R-N\n",
    "        elements = list() #Empty list to be populted by in-order traversal in the BST\n",
    "                          #Will be returned at the end of the function as the output\n",
    "\n",
    "        #First visit left node\n",
    "        if self.left:\n",
    "            elements += self.left.in_order_traversal()\n",
    "\n",
    "        #Visit right node\n",
    "        if self.right:\n",
    "            elements += self.right.in_order_traversal()\n",
    "            \n",
    "        #Append base node\n",
    "        elements.append(self.data)\n",
    "\n",
    "        return elements"
   ]
  },
  {
   "cell_type": "code",
   "execution_count": 10,
   "id": "badc690c",
   "metadata": {},
   "outputs": [],
   "source": [
    "def build_tree(elements):\n",
    "    root = BinarySearchTreeNode(elements[0])\n",
    "\n",
    "    for i in range(1,len(elements)):\n",
    "        root.add_child(elements[i])\n",
    "\n",
    "    return root"
   ]
  },
  {
   "cell_type": "code",
   "execution_count": 11,
   "id": "de22468b",
   "metadata": {},
   "outputs": [
    {
     "name": "stdout",
     "output_type": "stream",
     "text": [
      "Input numbers: [17, 4, 1, 20, 9, 23, 18, 34]\n",
      "Min: 1\n",
      "Max: 34\n",
      "Sum: 126\n",
      "In-order traversal: [1, 4, 9, 17, 18, 20, 23, 34]\n",
      "Pre-order traversal: [17, 1, 4, 9, 18, 20, 23, 34]\n",
      "Post-order traversal: [1, 4, 9, 18, 20, 23, 34, 17]\n"
     ]
    }
   ],
   "source": [
    "if __name__ == '__main__':\n",
    "    elements = [17, 4, 1, 20, 9, 23, 18, 34]\n",
    "    \n",
    "    numbers_tree = build_tree(elements)\n",
    "    \n",
    "    print(\"Input numbers:\", elements)\n",
    "    print(\"Min:\", numbers_tree.find_min())\n",
    "    print(\"Max:\", numbers_tree.find_max())\n",
    "    print(\"Sum:\", numbers_tree.calculate_sum())\n",
    "    print(\"In-order traversal:\", numbers_tree.in_order_traversal())\n",
    "    print(\"Pre-order traversal:\", numbers_tree.pre_order_traversal())\n",
    "    print(\"Post-order traversal:\", numbers_tree.post_order_traversal())"
   ]
  },
  {
   "cell_type": "code",
   "execution_count": 12,
   "id": "548878ab",
   "metadata": {},
   "outputs": [
    {
     "name": "stdout",
     "output_type": "stream",
     "text": [
      "Input numbers: [15, 12, 7, 14, 27, 20, 23, 88]\n",
      "Min: 7\n",
      "Max: 88\n",
      "Sum: 206\n",
      "In-order traversal: [7, 12, 14, 15, 20, 23, 27, 88]\n",
      "Pre-order traversal: [15, 7, 12, 14, 20, 23, 27, 88]\n",
      "Post-order traversal: [7, 12, 14, 20, 23, 27, 88, 15]\n"
     ]
    }
   ],
   "source": [
    "if __name__ == '__main__':\n",
    "    elements = [15, 12, 7, 14, 27, 20, 23, 88]\n",
    "    \n",
    "    numbers_tree = build_tree(elements)\n",
    "    \n",
    "    print(\"Input numbers:\", elements)\n",
    "    print(\"Min:\", numbers_tree.find_min())\n",
    "    print(\"Max:\", numbers_tree.find_max())\n",
    "    print(\"Sum:\", numbers_tree.calculate_sum())\n",
    "    print(\"In-order traversal:\", numbers_tree.in_order_traversal())\n",
    "    print(\"Pre-order traversal:\", numbers_tree.pre_order_traversal())\n",
    "    print(\"Post-order traversal:\", numbers_tree.post_order_traversal())"
   ]
  },
  {
   "cell_type": "markdown",
   "id": "a6472d5c",
   "metadata": {},
   "source": [
    "<h2>Delete Operation in Binary Search Tree</h2>"
   ]
  },
  {
   "cell_type": "markdown",
   "id": "78476ec2",
   "metadata": {},
   "source": [
    "<i>There can be 3 different scenario's of deleting a node in a Binary Search Tree. Let's see them below.</i>"
   ]
  },
  {
   "cell_type": "markdown",
   "id": "c99f4a1a",
   "metadata": {},
   "source": [
    "<h5>Scenario 1: Deleting a node with no child (leaf node)</h5>"
   ]
  },
  {
   "cell_type": "markdown",
   "id": "7088b936",
   "metadata": {},
   "source": [
    "<i>This scenario is the simplest where we simply remove the node. No other action is required. For example, suppose we want to remove node with value 9 from the below BST.</i>\n",
    "\n",
    "<img align=\"left\" src=\"Delete Leaf Node Problem.png\" alt=\"Delete Leaf Node Problem\">"
   ]
  },
  {
   "cell_type": "markdown",
   "id": "c8f93c20",
   "metadata": {},
   "source": [
    "<i>Node with data 9 is simply removed from the BST. Node with data 4 now has no right child.</i>\n",
    "\n",
    "<img align=\"left\" src=\"Delete Leaf Node Solution.png\" alt=\"Delete Leaf Node Solution\">"
   ]
  },
  {
   "cell_type": "markdown",
   "id": "40fda2c0",
   "metadata": {},
   "source": [
    "<h5>Scenario 2: Deleting a node with one child or one sub-tree</h5>"
   ]
  },
  {
   "cell_type": "markdown",
   "id": "13083692",
   "metadata": {},
   "source": [
    "<i>This scenario is fairly simple too. Here we remove the Node and replace it with it's only direct child. For example, suppose to want to remove node with value 23 from the below BST.</i>\n",
    "\n",
    "<img align=\"left\" src=\"Delete Node With One Child Problem.png\" alt=\"Delete Node With One Child Problem\">"
   ]
  },
  {
   "cell_type": "markdown",
   "id": "ba5bcb2d",
   "metadata": {},
   "source": [
    "<i>Node with data 23 is replaced by it's only direct child node, 34.<i>\n",
    "\n",
    "<img align=\"left\" src=\"Delete Node With One Child Solution.png\" alt=\"Delete Node With One Child Solution\">"
   ]
  },
  {
   "cell_type": "markdown",
   "id": "924ba946",
   "metadata": {},
   "source": [
    "<h5>Scenario 3: Deleting a node with two children or two sub-trees</h5>"
   ]
  },
  {
   "cell_type": "markdown",
   "id": "a9ac91ae",
   "metadata": {},
   "source": [
    "<i>This is the most interesting scenario where after removing the target node, we need to ensure the properties of a Binary Search Tree still hold good. The basic properties to be ensured post performing a the delete operation are:</i>\n",
    "\n",
    "1. <i>There are no nodes with duplicates values\n",
    "2. <i>For any given node, the nodes of the left sub-tree should have a value lesser than the current node value.</i>\n",
    "3. <i>For any given node, the nodes of the right sub-tree should have a value higher than the current node value.</i>"
   ]
  },
  {
   "cell_type": "markdown",
   "id": "b5048cb6",
   "metadata": {},
   "source": [
    "<i>This scenario can be dealt in 2 alternative approaches:</i>"
   ]
  },
  {
   "cell_type": "markdown",
   "id": "d3b5cc82",
   "metadata": {},
   "source": [
    "<b><i><u>Approach 1:</u> Replace with minimum of right sub-tree</i></b>"
   ]
  },
  {
   "cell_type": "markdown",
   "id": "3a64461a",
   "metadata": {},
   "source": [
    "<i>In this approach, we replace the node to be deleted with the minimum value from the right sub-tree of the node. The minimum value from the right sub-tree replacing the original node, is greater than the value of the original node since it was a part of it's right sub-tree. This ensures that all values of the left sub-tree are certainly lesser than the new value of the new node replacing the original node. Also, since the minimum value node was the minimum value in the right sub-tree, all other nodes of the right sub-tree are already greater than the minimum node. Finally, we delete the minimum value node from the right sub-tree to ensure only unique values are present in the BST.</i>\n",
    "\n",
    "<i>For example, suppose we want to delete node with value 20 from the below BST.</i>\n",
    "\n",
    "<img align=\"left\" src=\"Delete Node With Two Children Problem 1.png\" alt=\"Delete Node With Two Children Problem 1\">"
   ]
  },
  {
   "cell_type": "markdown",
   "id": "44e545ce",
   "metadata": {},
   "source": [
    "<i>We copy the value of the node with the smallest value from the right sub-tree of the node with value 20 to the node with value 20, which in this case is the node with value 23.</i>\n",
    "\n",
    "<i>Value of nodes in the right sub-tree of 20 are 23 and 34, of which the minimum is 23.</i>\n",
    "\n",
    "<img align=\"left\" src=\"Delete Node With Two Children Copy 1.png\" alt=\"Delete Node With Two Children Copy 1\">"
   ]
  },
  {
   "cell_type": "markdown",
   "id": "e9985726",
   "metadata": {},
   "source": [
    "<i>Finally, the duplicate value from the right sub-tree is deleted.</i>\n",
    "\n",
    "<img align=\"left\" src=\"Delete Node With Two Children Solution 1.png\" alt=\"Delete Node With Two Children Solution 1\">"
   ]
  },
  {
   "cell_type": "markdown",
   "id": "1d4a85c8",
   "metadata": {},
   "source": [
    "<b><i><u>Approach 2:</u> Replace with maximum of left sub-tree</i></b>"
   ]
  },
  {
   "cell_type": "markdown",
   "id": "a52badc0",
   "metadata": {},
   "source": [
    "<i>In this approach, we replace the node to be deleted with the maximum value from the left sub-tree of the node. The maximum value from the left sub-tree replacing the original node, is lesser than the value of the original node since it was a part of it's left sub-tree. This ensures that all values of the right sub-tree are certainly greater than the new value of the new node replacing the original node. Also, since the maximum value node was the maximum value in the left sub-tree, all other nodes of the left sub-tree are already lesser than the maximum node. Finally, we delete the maximum value node from the left sub-tree to ensure only unique values are present in the BST.</i>\n",
    "\n",
    "<i>For example, suppose we want to delete node with value 20 from the below BST.</i>\n",
    "\n",
    "<img align=\"left\" src=\"Delete Node With Two Children Problem 2.png\" alt=\"Delete Node With Two Children Problem 2\">"
   ]
  },
  {
   "cell_type": "markdown",
   "id": "c40689e4",
   "metadata": {},
   "source": [
    "<i>We copy the value of the node with the greatest value from the left sub-tree of the node with value 20 to the node with value 20, which in this case is the node with value 19.</i>\n",
    "\n",
    "<i>Value of nodes in the left sub-tree of 20 are 13, 18 and 19, of which the maximum is 19.</i>\n",
    "\n",
    "<img align=\"left\" src=\"Delete Node With Two Children Copy 2.png\" alt=\"Delete Node With Two Children Copy 2\">"
   ]
  },
  {
   "cell_type": "markdown",
   "id": "e68040ba",
   "metadata": {},
   "source": [
    "<i>Finally, the duplicate value from the left sub-tree is deleted.</i>\n",
    "\n",
    "<img align=\"left\" src=\"Delete Node With Two Children Solution 2.png\" alt=\"Delete Node With Two Children Solution 2\">"
   ]
  },
  {
   "cell_type": "markdown",
   "id": "79d68a79",
   "metadata": {},
   "source": [
    "<h2>Implement Delete Operation in Binary Search Tree using Python</h2>"
   ]
  },
  {
   "cell_type": "code",
   "execution_count": 13,
   "id": "90ca4f65",
   "metadata": {},
   "outputs": [],
   "source": [
    "class BinarySearchTreeNode:\n",
    "    def __init__(self, data):\n",
    "        self.data = data\n",
    "        self.left = None\n",
    "        self.right = None\n",
    "        \n",
    "    def add_child(self, data):\n",
    "        if data == self.data: #Check for duplicate\n",
    "            return #BST does not contain duplicate elements\n",
    "        \n",
    "        elif data < self.data:\n",
    "            #Add data to left sub-tree\n",
    "            if self.left: #Check if left child node is present, if not, then self is a left node\n",
    "                self.left.add_child(data) #Recurvisely call add_child(data) function to insert data correctly\n",
    "            else:\n",
    "                #Self is a left node, add data to as left child of self\n",
    "                self.left = BinarySearchTreeNode(data)\n",
    "            \n",
    "        else:\n",
    "            #Add data to right sub-tree\n",
    "            if self.right:\n",
    "                self.right.add_child(data)\n",
    "            else:\n",
    "                self.right = BinarySearchTreeNode(data)\n",
    "                \n",
    "    def in_order_traversal(self): #L-N-R\n",
    "        elements = list() #Empty list to be populted by in-order traversal in the BST\n",
    "                          #Will be returned at the end of the function as the output\n",
    "\n",
    "        #First visit left node\n",
    "        if self.left:\n",
    "            elements += self.left.in_order_traversal()\n",
    "\n",
    "        #Append base node\n",
    "        elements.append(self.data)\n",
    "\n",
    "        #Visit right node\n",
    "        if self.right:\n",
    "            elements += self.right.in_order_traversal()\n",
    "\n",
    "        return elements\n",
    "    \n",
    "    def search(self, data):\n",
    "        if self.data == data:\n",
    "            return True\n",
    "        \n",
    "        elif self.data > data:\n",
    "            #\"data\" might be present in left sub-tree\n",
    "            if self.left:\n",
    "                return self.left.search(data) #Recursively search left sub-tree\n",
    "                \n",
    "            else: #Reached leaf node and does not match\n",
    "                return False\n",
    "            \n",
    "        else:\n",
    "            #\"data\" might be present in right sub-tree\n",
    "            if self.right:\n",
    "                return self.right.search(data)\n",
    "                \n",
    "            else:\n",
    "                return False\n",
    "            \n",
    "    def find_min(self):\n",
    "        if not self.left:\n",
    "            return self.data\n",
    "        else:\n",
    "            return self.left.find_min()\n",
    "        \n",
    "    def find_max(self):\n",
    "        if not self.right:\n",
    "            return self.data\n",
    "        else:\n",
    "            return self.right.find_max()\n",
    "        \n",
    "    def calculate_sum(self):\n",
    "        left_sum = self.left.calculate_sum() if self.left else 0\n",
    "        right_sum = self.right.calculate_sum() if self.right else 0\n",
    "        return self.data + left_sum + right_sum\n",
    "    \n",
    "    def pre_order_traversal(self): #N-L-R\n",
    "        elements = list() #Empty list to be populted by in-order traversal in the BST\n",
    "                          #Will be returned at the end of the function as the output\n",
    "            \n",
    "        #Append base node\n",
    "        elements.append(self.data)\n",
    "\n",
    "        #First visit left node\n",
    "        if self.left:\n",
    "            elements += self.left.in_order_traversal()\n",
    "\n",
    "        #Visit right node\n",
    "        if self.right:\n",
    "            elements += self.right.in_order_traversal()\n",
    "\n",
    "        return elements\n",
    "    \n",
    "    def post_order_traversal(self): #L-R-N\n",
    "        elements = list() #Empty list to be populted by in-order traversal in the BST\n",
    "                          #Will be returned at the end of the function as the output\n",
    "\n",
    "        #First visit left node\n",
    "        if self.left:\n",
    "            elements += self.left.in_order_traversal()\n",
    "\n",
    "        #Visit right node\n",
    "        if self.right:\n",
    "            elements += self.right.in_order_traversal()\n",
    "            \n",
    "        #Append base node\n",
    "        elements.append(self.data)\n",
    "\n",
    "        return elements\n",
    "    \n",
    "    def delete_approach_1(self, data): #Minimum of right sub-tree\n",
    "        if data < self.data: #If data to be deleted is less than current node, search for node to be deleted in\n",
    "                             #left sub-tree\n",
    "            if self.left: #Check if left sub-tree exists\n",
    "                self.left = self.left.delete_approach_1(data) #Recursively call delete() method on left sub-tree\n",
    "                \n",
    "        elif data > self.data:\n",
    "            if self.right:\n",
    "                self.right = self.right.delete_approach_1(data)\n",
    "                \n",
    "        else: #If node to be deleted is matched\n",
    "            if self.left is None and self.right is None: #No node to replace node to be deleted\n",
    "                return None\n",
    "            \n",
    "            if self.left is None: #No left sub-tree\n",
    "                return self.right #Replace with right child\n",
    "            \n",
    "            if self.right is None: #No right sub-tree\n",
    "                return self.left #Replace with left child\n",
    "            \n",
    "            min_value = self.right.find_min() #Find minimum in right sub-tree\n",
    "            self.data = min_value #Replace current node's data with minimum of right sub-tree\n",
    "            self.right = self.right.delete_approach_1(min_value) #Delete duplicate node from right sub-tree\n",
    "            \n",
    "        return self\n",
    "    \n",
    "    def delete_approach_2(self, data): #Maximum of left sub-tree\n",
    "        if data < self.data: #If data to be deleted is less than current node, search for node to be deleted in\n",
    "                             #left sub-tree\n",
    "            if self.left: #Check if left sub-tree exists\n",
    "                self.left = self.left.delete_approach_1(data) #Recursively call delete() method on left sub-tree\n",
    "                \n",
    "        elif data > self.data:\n",
    "            if self.right:\n",
    "                self.right = self.right.delete_approach_1(data)\n",
    "                \n",
    "        else: #If node to be deleted is matched\n",
    "            if self.left is None and self.right is None: #No node to replace node to be deleted\n",
    "                return None\n",
    "            \n",
    "            if self.left is None: #No left sub-tree\n",
    "                return self.right #Replace with right child\n",
    "            \n",
    "            if self.right is None: #No right sub-tree\n",
    "                return self.left #Replace with left child\n",
    "            \n",
    "            max_value = self.left.find_max() #Find maximum in left sub-tree\n",
    "            self.data = max_value #Replace current node's data with maximum of left sub-tree\n",
    "            self.left = self.left.delete_approach_1(max_value) #Delete duplicate node from left sub-tree\n",
    "            \n",
    "        return self"
   ]
  },
  {
   "cell_type": "code",
   "execution_count": 14,
   "id": "f2b65555",
   "metadata": {},
   "outputs": [],
   "source": [
    "def build_tree(elements):\n",
    "    print(\"Building tree with these elements:\", elements)\n",
    "    root = BinarySearchTreeNode(elements[0])\n",
    "\n",
    "    for i in range(1, len(elements)):\n",
    "        root.add_child(elements[i])\n",
    "\n",
    "    return root"
   ]
  },
  {
   "cell_type": "code",
   "execution_count": 15,
   "id": "53a6ffb9",
   "metadata": {},
   "outputs": [
    {
     "name": "stdout",
     "output_type": "stream",
     "text": [
      "Building tree with these elements: [17, 4, 1, 20, 9, 23, 18, 34]\n",
      "Before deletion:  [1, 4, 9, 17, 18, 20, 23, 34]\n",
      "After deleting 20:  [1, 4, 9, 17, 18, 23, 34]\n",
      "\n",
      "Building tree with these elements: [17, 4, 1, 20, 9, 23, 18, 34]\n",
      "Before deletion:  [1, 4, 9, 17, 18, 20, 23, 34]\n",
      "After deleting 9:  [1, 4, 17, 18, 20, 23, 34]\n",
      "\n",
      "Building tree with these elements: [17, 4, 1, 20, 9, 23, 18, 34]\n",
      "Before deletion:  [1, 4, 9, 17, 18, 20, 23, 34]\n",
      "After deleting 17:  [1, 4, 9, 18, 20, 23, 34]\n",
      "After deleting 4:  [1, 9, 18, 20, 23, 34]\n"
     ]
    }
   ],
   "source": [
    "if __name__ == '__main__':\n",
    "    numbers_tree = build_tree([17, 4, 1, 20, 9, 23, 18, 34])\n",
    "    print(\"Before deletion: \", numbers_tree.in_order_traversal()) #This should print [1, 4, 9, 17, 18, 20, 23, 34]\n",
    "    numbers_tree.delete_approach_1(20)\n",
    "    print(\"After deleting 20: \", numbers_tree.in_order_traversal()) #This should print [1, 4, 9, 17, 18, 23, 34]\n",
    "    print()\n",
    "\n",
    "    numbers_tree = build_tree([17, 4, 1, 20, 9, 23, 18, 34])\n",
    "    print(\"Before deletion: \", numbers_tree.in_order_traversal()) #This should print [1, 4, 9, 17, 18, 20, 23, 34]\n",
    "    numbers_tree.delete_approach_2(9)\n",
    "    print(\"After deleting 9: \", numbers_tree.in_order_traversal())  #This should print [1, 4, 17, 18, 20, 23, 34]\n",
    "    print()\n",
    "\n",
    "    numbers_tree = build_tree([17, 4, 1, 20, 9, 23, 18, 34])\n",
    "    print(\"Before deletion: \", numbers_tree.in_order_traversal()) #This should print [1, 4, 9, 17, 18, 20, 23, 34]\n",
    "    numbers_tree.delete_approach_1(17)\n",
    "    print(\"After deleting 17: \", numbers_tree.in_order_traversal())  #This should print [1, 4, 9, 18, 20, 23, 34]\n",
    "    numbers_tree.delete_approach_2(4)\n",
    "    print(\"After deleting 4: \", numbers_tree.in_order_traversal())  #This should print [1, 9, 18, 20, 23, 34]"
   ]
  }
 ],
 "metadata": {
  "kernelspec": {
   "display_name": "Python 3 (ipykernel)",
   "language": "python",
   "name": "python3"
  },
  "language_info": {
   "codemirror_mode": {
    "name": "ipython",
    "version": 3
   },
   "file_extension": ".py",
   "mimetype": "text/x-python",
   "name": "python",
   "nbconvert_exporter": "python",
   "pygments_lexer": "ipython3",
   "version": "3.9.12"
  }
 },
 "nbformat": 4,
 "nbformat_minor": 5
}
