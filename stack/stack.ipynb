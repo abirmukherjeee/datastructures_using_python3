{
 "cells": [
  {
   "cell_type": "markdown",
   "id": "c8b8e4ab",
   "metadata": {},
   "source": [
    "<h1>Python Stack</h1>"
   ]
  },
  {
   "cell_type": "markdown",
   "id": "a8bee72b",
   "metadata": {},
   "source": [
    "<b><i>Stack is a linear data structure which follows a particular order in which the operations are performed. The order may be LIFO(Last In First Out) or FILO(First In Last Out).</i></b>"
   ]
  },
  {
   "cell_type": "markdown",
   "id": "0b504b2e",
   "metadata": {},
   "source": [
    "<i>There are many real-life examples of a stack. Consider an example of plates stacked over one another in the canteen. The plate which is at the top is the first one to be removed, i.e. the plate which has been placed at the bottommost position remains in the stack for the longest period of time. So, it can be simply seen to follow LIFO(Last In First Out)/FILO(First In Last Out) order.</i>"
   ]
  },
  {
   "cell_type": "markdown",
   "id": "30fb27a2",
   "metadata": {},
   "source": [
    "<b><i>One such implementation of stack in the space of computers can be seen in the maintenance of browser history. Let us consider, we are navigating through the website of CNN. From the CNN home page, we navigate to CNN World news, then the CNN India news page, followed by the CNN China news page. Now, if we press the browser's back button, we should go back to CNN India news page. Similarly, if we keep pressing the back button from here, we should first go to CNN World news page, followed by the CNN home page.</i></b>\n",
    "\n",
    "<img align=\"centre\" src=\"Browser History.png\" alt=\"Browser History\" style=\"height:300px; border: 5px solid #555;\">"
   ]
  },
  {
   "cell_type": "markdown",
   "id": "62e30c12",
   "metadata": {},
   "source": [
    "<b><i><font color=\"red\">If we were a browser developer, how would we manage this history in the form of a data structure? Or rather, which data structure would we use for this implementation?</i></b>"
   ]
  },
  {
   "cell_type": "markdown",
   "id": "79b6ab7d",
   "metadata": {},
   "source": [
    "<h3>How about using Arrays?</h3>"
   ]
  },
  {
   "cell_type": "markdown",
   "id": "45547b19",
   "metadata": {},
   "source": [
    "<img align=\"left\" src=\"Stack using Array.png\" alt=\"Stack using Array\">"
   ]
  },
  {
   "cell_type": "markdown",
   "id": "dd165bb4",
   "metadata": {},
   "source": [
    "<h5>A regular implementation of array would not quite match the data structure that is defined by Stack.</h5>\n",
    "\n",
    "1. Random access to elements is not allowed in a Stack, unlike in Arrays. In a Stack, we can only know about or perform actions on the \"top\" of the stack, i.e. the last pushed element in the stack.\n",
    "2. In Stack data structure, we are only allowed to perform linear search, just at the \"top\" of the Stack.\n",
    "3. Only push, pop, peek, etc. functions should be available to be performed at the top of the Stack. No other Array functions like sorting, traversing, reversing, etc. can be performed.\n",
    "4. Stacks have only one pointer - the \"top\". This pointer indicates the address of the topmost element or the last inserted one of the stack."
   ]
  },
  {
   "cell_type": "markdown",
   "id": "2da60e79",
   "metadata": {},
   "source": [
    "<h5>Implementation of Stack using Arrays, by restricting the varied functionalities of the Array and maintaining a top pointer is however one of the most common implementations of Stack. In Python however, there is a better implementation of Stack.</h5>\n",
    "\n",
    "<i>More on that later.</i>"
   ]
  },
  {
   "cell_type": "markdown",
   "id": "ccd9c782",
   "metadata": {},
   "source": [
    "<h3>How about using Linked Lists?</h3>"
   ]
  },
  {
   "cell_type": "markdown",
   "id": "afb38ca5",
   "metadata": {},
   "source": [
    "<img align=\"left\" src=\"Stack using Linked List.png\" alt=\"Stack using Linked List\">"
   ]
  },
  {
   "cell_type": "markdown",
   "id": "ffcc622a",
   "metadata": {},
   "source": [
    "<h5>A stack is an abstract data type that serves as a collection of elements with two principal operations which are push and pop. In contrast, a linked list is a linear collection of data elements whose order is not given by their location in memory.</h5>"
   ]
  },
  {
   "cell_type": "markdown",
   "id": "baa06da0",
   "metadata": {},
   "source": [
    "<i>As was the case with Arrays, Stacks implemention using Linked Lists is possible and quite common too. Infact the recommended Stack implementation in Python is using a special form of Doubly Linked List called <b>collection.deque()</b></i>"
   ]
  },
  {
   "cell_type": "markdown",
   "id": "c64073f8",
   "metadata": {},
   "source": [
    "<h3>A closer look at Stack ADT's primary functionalities</h3>"
   ]
  },
  {
   "cell_type": "markdown",
   "id": "2a89e78d",
   "metadata": {},
   "source": [
    "<img align=\"left\" src=\"Stack LIFO.png\" alt=\"Stack LIFO\" style=\"border: 5px solid #555;\">"
   ]
  },
  {
   "cell_type": "markdown",
   "id": "9d5bae74",
   "metadata": {},
   "source": [
    "<h3>Time Complexity</h3>"
   ]
  },
  {
   "cell_type": "markdown",
   "id": "8f08eb31",
   "metadata": {},
   "source": [
    "<b><i><font color=\"green\">Push, pop and peek at the top of the Stack are constant time operations. Hence, the time complexity is O(1).</i></b>\n",
    "\n",
    "<b><i><font color=\"red\">Stack traversal/search/navigation is not an allowed Stack function. However, Stack is an ADT that is implemented using other data structures which make it possible to perform these actions. If done, the time complexity is O(n).</i></b>"
   ]
  },
  {
   "cell_type": "markdown",
   "id": "abb0ea59",
   "metadata": {},
   "source": [
    "<a href=\"https://www.geeksforgeeks.org/applications-advantages-and-disadvantages-of-stack/\" target=\"_blank\">Applications, Advantages and Disadvantages of Stack</a> from GFG."
   ]
  },
  {
   "cell_type": "markdown",
   "id": "e499097c",
   "metadata": {},
   "source": [
    "<h2>Python Stack ADT Implementation using Python List</h2>"
   ]
  },
  {
   "cell_type": "code",
   "execution_count": 13,
   "id": "b6abeda3",
   "metadata": {},
   "outputs": [],
   "source": [
    "s = list()\n",
    "s.append(\"https://edition.cnn.com/\")\n",
    "s.append(\"https://edition.cnn.com/world\")\n",
    "s.append(\"https://edition.cnn.com/india\")\n",
    "s.append(\"https://edition.cnn.com/china\")"
   ]
  },
  {
   "cell_type": "code",
   "execution_count": 14,
   "id": "49b64f6d",
   "metadata": {},
   "outputs": [
    {
     "data": {
      "text/plain": [
       "['https://edition.cnn.com/',\n",
       " 'https://edition.cnn.com/world',\n",
       " 'https://edition.cnn.com/india',\n",
       " 'https://edition.cnn.com/china']"
      ]
     },
     "execution_count": 14,
     "metadata": {},
     "output_type": "execute_result"
    }
   ],
   "source": [
    "s"
   ]
  },
  {
   "cell_type": "code",
   "execution_count": 15,
   "id": "5713f820",
   "metadata": {},
   "outputs": [
    {
     "data": {
      "text/plain": [
       "'https://edition.cnn.com/china'"
      ]
     },
     "execution_count": 15,
     "metadata": {},
     "output_type": "execute_result"
    }
   ],
   "source": [
    "s.pop()"
   ]
  },
  {
   "cell_type": "code",
   "execution_count": 16,
   "id": "50f48620",
   "metadata": {},
   "outputs": [
    {
     "data": {
      "text/plain": [
       "['https://edition.cnn.com/',\n",
       " 'https://edition.cnn.com/world',\n",
       " 'https://edition.cnn.com/india']"
      ]
     },
     "execution_count": 16,
     "metadata": {},
     "output_type": "execute_result"
    }
   ],
   "source": [
    "s"
   ]
  },
  {
   "cell_type": "code",
   "execution_count": 17,
   "id": "5847fc2c",
   "metadata": {},
   "outputs": [
    {
     "data": {
      "text/plain": [
       "'https://edition.cnn.com/india'"
      ]
     },
     "execution_count": 17,
     "metadata": {},
     "output_type": "execute_result"
    }
   ],
   "source": [
    "#Suppose we don't want to remove the element from the list, but look at the element at the top of the stack,\n",
    "#we know we can use the negative indexing capability of iterable objects in Python\n",
    "\n",
    "s[-1]"
   ]
  },
  {
   "cell_type": "code",
   "execution_count": 18,
   "id": "47f85da6",
   "metadata": {},
   "outputs": [
    {
     "data": {
      "text/plain": [
       "'https://edition.cnn.com/india'"
      ]
     },
     "execution_count": 18,
     "metadata": {},
     "output_type": "execute_result"
    }
   ],
   "source": [
    "#Now remove it from the stack\n",
    "\n",
    "s.pop()"
   ]
  },
  {
   "cell_type": "code",
   "execution_count": 19,
   "id": "d8cf211e",
   "metadata": {},
   "outputs": [
    {
     "data": {
      "text/plain": [
       "['https://edition.cnn.com/', 'https://edition.cnn.com/world']"
      ]
     },
     "execution_count": 19,
     "metadata": {},
     "output_type": "execute_result"
    }
   ],
   "source": [
    "s"
   ]
  },
  {
   "cell_type": "code",
   "execution_count": 20,
   "id": "c44ba251",
   "metadata": {},
   "outputs": [
    {
     "data": {
      "text/plain": [
       "'https://edition.cnn.com/world'"
      ]
     },
     "execution_count": 20,
     "metadata": {},
     "output_type": "execute_result"
    }
   ],
   "source": [
    "s[-1]"
   ]
  },
  {
   "cell_type": "code",
   "execution_count": 21,
   "id": "b2834b25",
   "metadata": {},
   "outputs": [
    {
     "data": {
      "text/plain": [
       "'https://edition.cnn.com/world'"
      ]
     },
     "execution_count": 21,
     "metadata": {},
     "output_type": "execute_result"
    }
   ],
   "source": [
    "s.pop()"
   ]
  },
  {
   "cell_type": "code",
   "execution_count": 22,
   "id": "16a7e8e0",
   "metadata": {},
   "outputs": [
    {
     "data": {
      "text/plain": [
       "['https://edition.cnn.com/']"
      ]
     },
     "execution_count": 22,
     "metadata": {},
     "output_type": "execute_result"
    }
   ],
   "source": [
    "s"
   ]
  },
  {
   "cell_type": "code",
   "execution_count": 23,
   "id": "60ee0960",
   "metadata": {},
   "outputs": [
    {
     "data": {
      "text/plain": [
       "'https://edition.cnn.com/'"
      ]
     },
     "execution_count": 23,
     "metadata": {},
     "output_type": "execute_result"
    }
   ],
   "source": [
    "s.pop()"
   ]
  },
  {
   "cell_type": "code",
   "execution_count": 24,
   "id": "a89480db",
   "metadata": {},
   "outputs": [
    {
     "data": {
      "text/plain": [
       "[]"
      ]
     },
     "execution_count": 24,
     "metadata": {},
     "output_type": "execute_result"
    }
   ],
   "source": [
    "s"
   ]
  },
  {
   "cell_type": "code",
   "execution_count": 25,
   "id": "00e949d8",
   "metadata": {},
   "outputs": [
    {
     "ename": "IndexError",
     "evalue": "pop from empty list",
     "output_type": "error",
     "traceback": [
      "\u001b[0;31m---------------------------------------------------------------------------\u001b[0m",
      "\u001b[0;31mIndexError\u001b[0m                                Traceback (most recent call last)",
      "Input \u001b[0;32mIn [25]\u001b[0m, in \u001b[0;36m<cell line: 1>\u001b[0;34m()\u001b[0m\n\u001b[0;32m----> 1\u001b[0m \u001b[43ms\u001b[49m\u001b[38;5;241;43m.\u001b[39;49m\u001b[43mpop\u001b[49m\u001b[43m(\u001b[49m\u001b[43m)\u001b[49m\n",
      "\u001b[0;31mIndexError\u001b[0m: pop from empty list"
     ]
    }
   ],
   "source": [
    "s.pop()"
   ]
  },
  {
   "cell_type": "markdown",
   "id": "a91b8fbf",
   "metadata": {},
   "source": [
    "<b><i><font color=\"red\">One of the disadvantages of using Python Lists for Stack implementation is the overhead of copying the existing stack elements to a new memory area is the assigned area get's exhausted, which make lists not the ideal data structure for implementing Stacks in Python, even though it's possible.</i></b>\n",
    "    \n",
    "<img align=\"left\" src=\"Stack using Array - Overheads.png\" alt=\"Stack using Array - Overheads\" style=\"border: 1px solid #555;\">"
   ]
  },
  {
   "cell_type": "markdown",
   "id": "1e7dffdd",
   "metadata": {},
   "source": [
    "<h2>Python Stack ADT Implementation using collections.deque()</h2>"
   ]
  },
  {
   "cell_type": "markdown",
   "id": "dbbf0956",
   "metadata": {},
   "source": [
    "<b><i>collections.deque() is Python's specific generalisation of Stacks and Queues which is itself implemented using Doubly Linked Lists.</i></b>\n",
    "\n",
    "<i>Reference to Python's <a href=\"https://docs.python.org/3/library/collections.html#collections.deque\" target=\"_blank\">collections.deque()</a> from Python Docs.</i>"
   ]
  },
  {
   "cell_type": "code",
   "execution_count": 30,
   "id": "abef493e",
   "metadata": {},
   "outputs": [],
   "source": [
    "from collections import deque\n",
    "\n",
    "stack = deque()"
   ]
  },
  {
   "cell_type": "code",
   "execution_count": 31,
   "id": "19474bbc",
   "metadata": {},
   "outputs": [
    {
     "data": {
      "text/plain": [
       "['__add__',\n",
       " '__bool__',\n",
       " '__class__',\n",
       " '__class_getitem__',\n",
       " '__contains__',\n",
       " '__copy__',\n",
       " '__delattr__',\n",
       " '__delitem__',\n",
       " '__dir__',\n",
       " '__doc__',\n",
       " '__eq__',\n",
       " '__format__',\n",
       " '__ge__',\n",
       " '__getattribute__',\n",
       " '__getitem__',\n",
       " '__gt__',\n",
       " '__hash__',\n",
       " '__iadd__',\n",
       " '__imul__',\n",
       " '__init__',\n",
       " '__init_subclass__',\n",
       " '__iter__',\n",
       " '__le__',\n",
       " '__len__',\n",
       " '__lt__',\n",
       " '__mul__',\n",
       " '__ne__',\n",
       " '__new__',\n",
       " '__reduce__',\n",
       " '__reduce_ex__',\n",
       " '__repr__',\n",
       " '__reversed__',\n",
       " '__rmul__',\n",
       " '__setattr__',\n",
       " '__setitem__',\n",
       " '__sizeof__',\n",
       " '__str__',\n",
       " '__subclasshook__',\n",
       " 'append',\n",
       " 'appendleft',\n",
       " 'clear',\n",
       " 'copy',\n",
       " 'count',\n",
       " 'extend',\n",
       " 'extendleft',\n",
       " 'index',\n",
       " 'insert',\n",
       " 'maxlen',\n",
       " 'pop',\n",
       " 'popleft',\n",
       " 'remove',\n",
       " 'reverse',\n",
       " 'rotate']"
      ]
     },
     "execution_count": 31,
     "metadata": {},
     "output_type": "execute_result"
    }
   ],
   "source": [
    "#Check the functions it supports\n",
    "dir(stack)"
   ]
  },
  {
   "cell_type": "markdown",
   "id": "6e3b22a1",
   "metadata": {},
   "source": [
    "<i>Referencing the available functions with the documentation of collections.deque(), we would be needing the <b>append()</b> function to push to the queue.</i>"
   ]
  },
  {
   "cell_type": "code",
   "execution_count": 32,
   "id": "aaf2144c",
   "metadata": {},
   "outputs": [],
   "source": [
    "stack.append(\"https://edition.cnn.com/\")"
   ]
  },
  {
   "cell_type": "code",
   "execution_count": 33,
   "id": "2e34b069",
   "metadata": {},
   "outputs": [
    {
     "data": {
      "text/plain": [
       "deque(['https://edition.cnn.com/'])"
      ]
     },
     "execution_count": 33,
     "metadata": {},
     "output_type": "execute_result"
    }
   ],
   "source": [
    "stack"
   ]
  },
  {
   "cell_type": "code",
   "execution_count": 34,
   "id": "0c3f49e8",
   "metadata": {},
   "outputs": [
    {
     "data": {
      "text/plain": [
       "deque(['https://edition.cnn.com/',\n",
       "       'https://edition.cnn.com/world',\n",
       "       'https://edition.cnn.com/india',\n",
       "       'https://edition.cnn.com/china'])"
      ]
     },
     "execution_count": 34,
     "metadata": {},
     "output_type": "execute_result"
    }
   ],
   "source": [
    "stack.append(\"https://edition.cnn.com/world\")\n",
    "stack.append(\"https://edition.cnn.com/india\")\n",
    "stack.append(\"https://edition.cnn.com/china\")\n",
    "\n",
    "stack"
   ]
  },
  {
   "cell_type": "code",
   "execution_count": 35,
   "id": "6a14f113",
   "metadata": {},
   "outputs": [
    {
     "data": {
      "text/plain": [
       "'https://edition.cnn.com/china'"
      ]
     },
     "execution_count": 35,
     "metadata": {},
     "output_type": "execute_result"
    }
   ],
   "source": [
    "stack.pop()"
   ]
  },
  {
   "cell_type": "code",
   "execution_count": 36,
   "id": "ec50da41",
   "metadata": {},
   "outputs": [
    {
     "data": {
      "text/plain": [
       "deque(['https://edition.cnn.com/',\n",
       "       'https://edition.cnn.com/world',\n",
       "       'https://edition.cnn.com/india'])"
      ]
     },
     "execution_count": 36,
     "metadata": {},
     "output_type": "execute_result"
    }
   ],
   "source": [
    "stack"
   ]
  },
  {
   "cell_type": "code",
   "execution_count": 38,
   "id": "2861fd55",
   "metadata": {},
   "outputs": [
    {
     "data": {
      "text/plain": [
       "'https://edition.cnn.com/india'"
      ]
     },
     "execution_count": 38,
     "metadata": {},
     "output_type": "execute_result"
    }
   ],
   "source": [
    "stack.pop()"
   ]
  },
  {
   "cell_type": "code",
   "execution_count": 39,
   "id": "a9b7897b",
   "metadata": {},
   "outputs": [
    {
     "data": {
      "text/plain": [
       "deque(['https://edition.cnn.com/', 'https://edition.cnn.com/world'])"
      ]
     },
     "execution_count": 39,
     "metadata": {},
     "output_type": "execute_result"
    }
   ],
   "source": [
    "stack"
   ]
  },
  {
   "cell_type": "markdown",
   "id": "70013a3c",
   "metadata": {},
   "source": [
    "<h2>Implement Stack ADT using collections.deque()</h2>"
   ]
  },
  {
   "cell_type": "code",
   "execution_count": 62,
   "id": "8e61f351",
   "metadata": {},
   "outputs": [],
   "source": [
    "#Custom implementation to follow the proper Stack template prototype - push(value), pop(), peek(), is_empty(), size()\n",
    "\n",
    "from collections import deque\n",
    "\n",
    "class Stack:\n",
    "    def __init__(self):\n",
    "        self.container = deque()\n",
    "        \n",
    "    def push(self, value):\n",
    "        self.container.append(value)\n",
    "        \n",
    "    def pop(self):\n",
    "        return self.container.pop()\n",
    "    \n",
    "    def peek(self):\n",
    "        return self.container[-1]\n",
    "    \n",
    "    def is_empty(self):\n",
    "        return (len(self.container) == 0)\n",
    "    \n",
    "    def size(self):\n",
    "        return len(self.container)"
   ]
  },
  {
   "cell_type": "code",
   "execution_count": 52,
   "id": "8c3da38d",
   "metadata": {},
   "outputs": [],
   "source": [
    "s = Stack()\n",
    "s.push(5)"
   ]
  },
  {
   "cell_type": "code",
   "execution_count": 53,
   "id": "fdd4ef86",
   "metadata": {},
   "outputs": [
    {
     "data": {
      "text/plain": [
       "5"
      ]
     },
     "execution_count": 53,
     "metadata": {},
     "output_type": "execute_result"
    }
   ],
   "source": [
    "s.peek() #Return but don't remove top of stack"
   ]
  },
  {
   "cell_type": "code",
   "execution_count": 54,
   "id": "19e964d0",
   "metadata": {},
   "outputs": [
    {
     "data": {
      "text/plain": [
       "5"
      ]
     },
     "execution_count": 54,
     "metadata": {},
     "output_type": "execute_result"
    }
   ],
   "source": [
    "s.peek() #Should still be available"
   ]
  },
  {
   "cell_type": "code",
   "execution_count": 55,
   "id": "750fd0f1",
   "metadata": {},
   "outputs": [
    {
     "data": {
      "text/plain": [
       "5"
      ]
     },
     "execution_count": 55,
     "metadata": {},
     "output_type": "execute_result"
    }
   ],
   "source": [
    "s.pop() #Return and remove top of stack"
   ]
  },
  {
   "cell_type": "code",
   "execution_count": 56,
   "id": "bf31b802",
   "metadata": {},
   "outputs": [
    {
     "ename": "IndexError",
     "evalue": "pop from an empty deque",
     "output_type": "error",
     "traceback": [
      "\u001b[0;31m---------------------------------------------------------------------------\u001b[0m",
      "\u001b[0;31mIndexError\u001b[0m                                Traceback (most recent call last)",
      "Input \u001b[0;32mIn [56]\u001b[0m, in \u001b[0;36m<cell line: 1>\u001b[0;34m()\u001b[0m\n\u001b[0;32m----> 1\u001b[0m \u001b[43ms\u001b[49m\u001b[38;5;241;43m.\u001b[39;49m\u001b[43mpop\u001b[49m\u001b[43m(\u001b[49m\u001b[43m)\u001b[49m\n",
      "Input \u001b[0;32mIn [51]\u001b[0m, in \u001b[0;36mStack.pop\u001b[0;34m(self)\u001b[0m\n\u001b[1;32m     12\u001b[0m \u001b[38;5;28;01mdef\u001b[39;00m \u001b[38;5;21mpop\u001b[39m(\u001b[38;5;28mself\u001b[39m):\n\u001b[0;32m---> 13\u001b[0m     \u001b[38;5;28;01mreturn\u001b[39;00m \u001b[38;5;28;43mself\u001b[39;49m\u001b[38;5;241;43m.\u001b[39;49m\u001b[43mcontainer\u001b[49m\u001b[38;5;241;43m.\u001b[39;49m\u001b[43mpop\u001b[49m\u001b[43m(\u001b[49m\u001b[43m)\u001b[49m\n",
      "\u001b[0;31mIndexError\u001b[0m: pop from an empty deque"
     ]
    }
   ],
   "source": [
    "s.pop() #Exception or error"
   ]
  },
  {
   "cell_type": "code",
   "execution_count": 57,
   "id": "5ecf561c",
   "metadata": {},
   "outputs": [
    {
     "data": {
      "text/plain": [
       "True"
      ]
     },
     "execution_count": 57,
     "metadata": {},
     "output_type": "execute_result"
    }
   ],
   "source": [
    "s.is_empty()"
   ]
  },
  {
   "cell_type": "code",
   "execution_count": 58,
   "id": "0436fefb",
   "metadata": {},
   "outputs": [
    {
     "data": {
      "text/plain": [
       "0"
      ]
     },
     "execution_count": 58,
     "metadata": {},
     "output_type": "execute_result"
    }
   ],
   "source": [
    "s.size()"
   ]
  },
  {
   "cell_type": "code",
   "execution_count": 59,
   "id": "28191db5",
   "metadata": {},
   "outputs": [
    {
     "data": {
      "text/plain": [
       "3"
      ]
     },
     "execution_count": 59,
     "metadata": {},
     "output_type": "execute_result"
    }
   ],
   "source": [
    "s.push(1)\n",
    "s.push(2)\n",
    "s.push(3)\n",
    "\n",
    "s.size()"
   ]
  },
  {
   "cell_type": "markdown",
   "id": "a5283407",
   "metadata": {},
   "source": [
    "<h2>Exercise 1</h2>"
   ]
  },
  {
   "cell_type": "markdown",
   "id": "4ef24809",
   "metadata": {},
   "source": [
    "Write a function in python that can reverse a string using stack data structure. Use Stack class from above.\n",
    "\n",
    "reverse_string(\"We will conquere COVID-19\") should return \"91-DIVOC ereuqnoc lliw eW\""
   ]
  },
  {
   "cell_type": "code",
   "execution_count": 63,
   "id": "e522da00",
   "metadata": {},
   "outputs": [],
   "source": [
    "#Function outside Stack class\n",
    "\n",
    "from collections import deque\n",
    "\n",
    "class Stack:\n",
    "    def __init__(self):\n",
    "        self.container = deque()\n",
    "        \n",
    "    def push(self, value):\n",
    "        self.container.append(value)\n",
    "        \n",
    "    def pop(self):\n",
    "        return self.container.pop()\n",
    "    \n",
    "    def peek(self):\n",
    "        return self.container[-1]\n",
    "    \n",
    "    def is_empty(self):\n",
    "        return (len(self.container) == 0)\n",
    "    \n",
    "    def size(self):\n",
    "        return len(self.container)\n",
    "\n",
    "def reverse_string(string):\n",
    "    s = Stack()\n",
    "    rev_str = \"\"\n",
    "    \n",
    "    for char in string:\n",
    "        s.push(char)\n",
    "        \n",
    "    while not s.is_empty():\n",
    "        rev_str += s.pop()\n",
    "        \n",
    "    return rev_str"
   ]
  },
  {
   "cell_type": "code",
   "execution_count": 64,
   "id": "ff3a8fb8",
   "metadata": {},
   "outputs": [
    {
     "data": {
      "text/plain": [
       "'91-DIVOC ereuqnoc lliw eW'"
      ]
     },
     "execution_count": 64,
     "metadata": {},
     "output_type": "execute_result"
    }
   ],
   "source": [
    "reverse_string(\"We will conquere COVID-19\")"
   ]
  },
  {
   "cell_type": "code",
   "execution_count": 60,
   "id": "bea04e7a",
   "metadata": {},
   "outputs": [],
   "source": [
    "#Function inside Stack class\n",
    "\n",
    "from collections import deque\n",
    "\n",
    "class Stack:\n",
    "    def __init__(self):\n",
    "        self.container = deque()\n",
    "        \n",
    "    def push(self, value):\n",
    "        self.container.append(value)\n",
    "        \n",
    "    def pop(self):\n",
    "        return self.container.pop()\n",
    "    \n",
    "    def peek(self):\n",
    "        return self.container[-1]\n",
    "    \n",
    "    def is_empty(self):\n",
    "        return (len(self.container) == 0)\n",
    "    \n",
    "    def size(self):\n",
    "        return len(self.container)\n",
    "    \n",
    "    def reverse_string(self, string):\n",
    "        rev_str = \"\"\n",
    "        \n",
    "        for char in string:\n",
    "            self.push(char)\n",
    "            \n",
    "        while not self.is_empty():\n",
    "            rev_str += self.pop()\n",
    "            \n",
    "        return rev_str"
   ]
  },
  {
   "cell_type": "code",
   "execution_count": 61,
   "id": "04c23860",
   "metadata": {},
   "outputs": [
    {
     "data": {
      "text/plain": [
       "'91-DIVOC ereuqnoc lliw eW'"
      ]
     },
     "execution_count": 61,
     "metadata": {},
     "output_type": "execute_result"
    }
   ],
   "source": [
    "s = Stack()\n",
    "s.reverse_string(\"We will conquere COVID-19\")"
   ]
  },
  {
   "cell_type": "markdown",
   "id": "280e0c96",
   "metadata": {},
   "source": [
    "<h2>Exercise 2</h2>"
   ]
  },
  {
   "cell_type": "markdown",
   "id": "51828cf0",
   "metadata": {},
   "source": [
    "Write a function in python that checks if paranthesis in the string are balanced or not. Possible parantheses are \"{}\",\"()\" or \"[]\". Use Stack class from above.\n",
    "\n",
    "is_balanced(\"({a+b})\")              --> True <br>\n",
    "is_balanced(\"))((a+b}{\")            --> False <br>\n",
    "is_balanced(\"((a+b))\")              --> True <br>\n",
    "is_balanced(\"))\")                   --> False <br>\n",
    "is_balanced(\"[a+b]*(x+2y)*{gg+kk}\") --> True"
   ]
  },
  {
   "cell_type": "code",
   "execution_count": 82,
   "id": "32855cc1",
   "metadata": {},
   "outputs": [],
   "source": [
    "from collections import deque\n",
    "\n",
    "class Stack:\n",
    "    def __init__(self):\n",
    "        self.container = deque()\n",
    "        \n",
    "    def push(self, value):\n",
    "        self.container.append(value)\n",
    "        \n",
    "    def pop(self):\n",
    "        return self.container.pop()\n",
    "    \n",
    "    def peek(self):\n",
    "        return self.container[-1]\n",
    "    \n",
    "    def is_empty(self):\n",
    "        return (len(self.container) == 0)\n",
    "    \n",
    "    def size(self):\n",
    "        return len(self.container)\n",
    "    \n",
    "def is_balanced(string):\n",
    "    s = Stack()\n",
    "    \n",
    "    for char in string:\n",
    "        if char in [\"{\", \"(\", \"[\"]:\n",
    "            s.push(char)\n",
    "            \n",
    "        elif char == \"}\":\n",
    "            if s.size() == 0 or s.pop() != \"{\":\n",
    "                return False\n",
    "            \n",
    "        elif char == \")\":\n",
    "            if s.is_empty() or s.pop() != \"(\":\n",
    "                return False\n",
    "            \n",
    "        elif char == \"]\":\n",
    "            if s.size() == 0 or s.pop() != \"[\":\n",
    "                return False\n",
    "            \n",
    "    if s.size() != 0:\n",
    "        return False\n",
    "    \n",
    "    return True"
   ]
  },
  {
   "cell_type": "code",
   "execution_count": 83,
   "id": "bbbada33",
   "metadata": {},
   "outputs": [
    {
     "data": {
      "text/plain": [
       "True"
      ]
     },
     "execution_count": 83,
     "metadata": {},
     "output_type": "execute_result"
    }
   ],
   "source": [
    "is_balanced(\"({a+b})\")"
   ]
  },
  {
   "cell_type": "code",
   "execution_count": 84,
   "id": "68bab6df",
   "metadata": {},
   "outputs": [
    {
     "data": {
      "text/plain": [
       "False"
      ]
     },
     "execution_count": 84,
     "metadata": {},
     "output_type": "execute_result"
    }
   ],
   "source": [
    "is_balanced(\"))((a+b}{\")"
   ]
  },
  {
   "cell_type": "code",
   "execution_count": 85,
   "id": "ed1544da",
   "metadata": {},
   "outputs": [
    {
     "data": {
      "text/plain": [
       "True"
      ]
     },
     "execution_count": 85,
     "metadata": {},
     "output_type": "execute_result"
    }
   ],
   "source": [
    "is_balanced(\"((a+b))\") "
   ]
  },
  {
   "cell_type": "code",
   "execution_count": 86,
   "id": "afd123be",
   "metadata": {},
   "outputs": [
    {
     "data": {
      "text/plain": [
       "False"
      ]
     },
     "execution_count": 86,
     "metadata": {},
     "output_type": "execute_result"
    }
   ],
   "source": [
    "is_balanced(\"))\")"
   ]
  },
  {
   "cell_type": "code",
   "execution_count": 87,
   "id": "52512f37",
   "metadata": {},
   "outputs": [
    {
     "data": {
      "text/plain": [
       "True"
      ]
     },
     "execution_count": 87,
     "metadata": {},
     "output_type": "execute_result"
    }
   ],
   "source": [
    "is_balanced(\"[a+b](x+2y){gg+kk}\")"
   ]
  }
 ],
 "metadata": {
  "kernelspec": {
   "display_name": "Python 3 (ipykernel)",
   "language": "python",
   "name": "python3"
  },
  "language_info": {
   "codemirror_mode": {
    "name": "ipython",
    "version": 3
   },
   "file_extension": ".py",
   "mimetype": "text/x-python",
   "name": "python",
   "nbconvert_exporter": "python",
   "pygments_lexer": "ipython3",
   "version": "3.9.12"
  }
 },
 "nbformat": 4,
 "nbformat_minor": 5
}
