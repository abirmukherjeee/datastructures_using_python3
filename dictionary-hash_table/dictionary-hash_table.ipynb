{
 "cells": [
  {
   "cell_type": "markdown",
   "id": "389566cb",
   "metadata": {},
   "source": [
    "<h1>Python Hash Table/Map - Dictionaries</h1>"
   ]
  },
  {
   "cell_type": "markdown",
   "id": "d1b38edc",
   "metadata": {},
   "source": [
    "<h5>Python implements hash table/map using an in-built data structure called dictionary, i.e. Dictionary is the Python specific implementation of hash table/map.</h5>"
   ]
  },
  {
   "cell_type": "markdown",
   "id": "fbc5b814",
   "metadata": {},
   "source": [
    "<h2>Array vs Hash Table/Map</h2>"
   ]
  },
  {
   "cell_type": "markdown",
   "id": "a3589444",
   "metadata": {},
   "source": [
    "Suppose we want to create a data structure in which we can store data in the format of key-value pairs, where the value can be accessed based on the key.\n",
    "\n",
    "<u>Example:</u> We want to store the stock prices of a share for a week and want to look up the value based on the date."
   ]
  },
  {
   "cell_type": "markdown",
   "id": "56fdfe61",
   "metadata": {},
   "source": [
    "<h3>Array Implementation of the problem</h3>"
   ]
  },
  {
   "cell_type": "code",
   "execution_count": 1,
   "id": "267d84ce",
   "metadata": {},
   "outputs": [
    {
     "data": {
      "text/plain": [
       "[['march 6', 310.0],\n",
       " ['march 7', 340.0],\n",
       " ['march 8', 380.0],\n",
       " ['march 9', 302.0],\n",
       " ['march 10', 297.0],\n",
       " ['march 11', 323.0]]"
      ]
     },
     "execution_count": 1,
     "metadata": {},
     "output_type": "execute_result"
    }
   ],
   "source": [
    "#Initialise array with date and stock prices\n",
    "\n",
    "stock_prices = [\n",
    "    [\"march 6\", 310.0],\n",
    "    [\"march 7\", 340.0],\n",
    "    [\"march 8\", 380.0],\n",
    "    [\"march 9\", 302.0],\n",
    "    [\"march 10\", 297.0],\n",
    "    [\"march 11\", 323.0]\n",
    "]\n",
    "\n",
    "stock_prices"
   ]
  },
  {
   "cell_type": "markdown",
   "id": "c06a72c7",
   "metadata": {},
   "source": [
    "Here we have created a 2D array/list, where each day's data is a sub-list in which the first element (index 0) is the date the second element (index 1) is the price of the stock on that particular day.\n",
    "\n",
    "<b>What is the complexity to find the value of a particular key using an array?</b>\n",
    "\n",
    "Or to put it simply, what is the time complexity to retrieve the price of our stock on \"march 9\"?"
   ]
  },
  {
   "cell_type": "code",
   "execution_count": 2,
   "id": "61691817",
   "metadata": {},
   "outputs": [
    {
     "name": "stdout",
     "output_type": "stream",
     "text": [
      "302.0\n"
     ]
    }
   ],
   "source": [
    "#Retrieve price of stock on \"march 9\"\n",
    "\n",
    "for stock_price in stock_prices:\n",
    "    if stock_price[0] == \"march 9\":\n",
    "        print(stock_price[1])\n",
    "        break"
   ]
  },
  {
   "cell_type": "markdown",
   "id": "dce8dbef",
   "metadata": {},
   "source": [
    "<b><font color = \"red\">The time complexity of the solution is <u>O(n)</u>.</b>\n",
    "    \n",
    "<b>Can the complexity be reduced using an alternate data structure?</b>\n",
    "\n",
    "<h5><font color = \"green\">In Python, there is a data structure called dictionary which can retrieve the price in O(1) time complexity, i.e. in constant time.</h5>"
   ]
  },
  {
   "cell_type": "markdown",
   "id": "68a1e491",
   "metadata": {},
   "source": [
    "<h3>Dictionary implementation of the problem</h3>"
   ]
  },
  {
   "cell_type": "code",
   "execution_count": 3,
   "id": "55075eec",
   "metadata": {},
   "outputs": [
    {
     "data": {
      "text/plain": [
       "{'march 6': 310.0,\n",
       " 'march 7': 340.0,\n",
       " 'march 8': 380.0,\n",
       " 'march 9': 302.0,\n",
       " 'march 10': 297.0,\n",
       " 'march 11': 323.0}"
      ]
     },
     "execution_count": 3,
     "metadata": {},
     "output_type": "execute_result"
    }
   ],
   "source": [
    "#Initialise dict() with date and stock prices\n",
    "\n",
    "stock_prices = {\n",
    "    \"march 6\": 310.0,\n",
    "    \"march 7\": 340.0,\n",
    "    \"march 8\": 380.0,\n",
    "    \"march 9\": 302.0,\n",
    "    \"march 10\": 297.0,\n",
    "    \"march 11\": 323.0\n",
    "}\n",
    "\n",
    "stock_prices"
   ]
  },
  {
   "cell_type": "code",
   "execution_count": 4,
   "id": "c56f46e2",
   "metadata": {},
   "outputs": [
    {
     "data": {
      "text/plain": [
       "302.0"
      ]
     },
     "execution_count": 4,
     "metadata": {},
     "output_type": "execute_result"
    }
   ],
   "source": [
    "#Retrieve price of stock on \"march 9\"\n",
    "\n",
    "stock_prices[\"march 9\"]"
   ]
  },
  {
   "cell_type": "markdown",
   "id": "c35a5086",
   "metadata": {},
   "source": [
    "<b><font color = \"green\">The time complexity of the retrieval from the dictionary in this case is <u>O(1)</u>.</b>\n",
    "    \n",
    "The under-lying data structure of a dictionary is a hash table/map. Let us discuss implement of a hash table in Python."
   ]
  },
  {
   "cell_type": "markdown",
   "id": "7b3930d1",
   "metadata": {},
   "source": [
    "<h3>Array Memory Presentation</h3>"
   ]
  },
  {
   "cell_type": "markdown",
   "id": "9f266ded",
   "metadata": {},
   "source": [
    "When we store data in a 2D array (list), in the memory they reside in contiguous memory locations on the RAM.\n",
    "\n",
    "<u>Example:</u> In this case of storing stock prices by date in the above 2D array, the memory representation would be something like:\n",
    "\n",
    "<img align=\"left\" src=\"2D Array Memory Presentation.png\" alt=\"2D Array Memory Presentation\" style=\"height:300px;\">"
   ]
  },
  {
   "cell_type": "markdown",
   "id": "31d9acaf",
   "metadata": {},
   "source": [
    "<h3>Dictionary (Hash Table/Map) Memory Presentation</h3>"
   ]
  },
  {
   "cell_type": "markdown",
   "id": "b727174a",
   "metadata": {},
   "source": [
    "In hash table/map, have first take a 1D array of say, size 'n'. For simplicity purpose, let us consider an array of size 10, i.e. n = 10. Now every key in our hash map is passed through a hash function (in details later), which returns a specific integer value, 'k'. The value associated with the specific key is then stored at the index 'k' which was returned by the hash function.\n",
    "\n",
    "<img align=\"left\" src=\"Hash Table Mapping.png\" alt=\"Hash Table Mapping\" style=\"height:300px;\">"
   ]
  },
  {
   "cell_type": "markdown",
   "id": "1355974a",
   "metadata": {},
   "source": [
    "So, just like a normal array uses index to access it's elements, a hash table/map uses the key to access it's elements.\n",
    "\n",
    "<img align=\"left\" src=\"Hash Table Index.png\" alt=\"Hash Table Index\" style=\"height:300px;\">"
   ]
  },
  {
   "cell_type": "markdown",
   "id": "c5cb232f",
   "metadata": {},
   "source": [
    "<h2>Hash Function<h2>\n",
    "    \n",
    "<img align=\"left\" src=\"Hash Function.png\" alt=\"Hash Function\" style=\"width:300px;\">"
   ]
  },
  {
   "cell_type": "markdown",
   "id": "f55e0d48",
   "metadata": {},
   "source": [
    "There are multiple ways of implementing hash functions, let us look at a simple one using ASCII values.\n",
    "1. Here we first take each character (including spaces) of the key and find the sum of their ASCII values.\n",
    "2. Since we need the index (at which we want to store the key's value) within the range of the array size, we do a mod (%) operation on the sum of ASCII values by the size of the array.\n",
    "\n",
    "<a href=\"https://www.geeksforgeeks.org/hash-functions-and-list-types-of-hash-functions/\" target=\"_blank\">Click here</a> for more on <b><u>Hash Functions and list/types of Hash functions</u></b> from GFG.\n",
    "\n",
    "<img align=\"left\" src=\"Hash Function Implementation.png\" alt=\"Hash Function Implementation\" style=\"height:450px;\">"
   ]
  },
  {
   "cell_type": "markdown",
   "id": "20fb3657",
   "metadata": {},
   "source": [
    "<i>\n",
    "<b>\n",
    "    Thus, time complexity for lookup for key is O(1) - amortized. <br>\n",
    "    Also, time complexity for insertion/deletion is also O(1) - amortized.\n",
    "</b>\n",
    "</i>"
   ]
  },
  {
   "cell_type": "markdown",
   "id": "95aa3229",
   "metadata": {},
   "source": [
    "In Python, we make use of the odr() fucntion to get the ASCII value of characters."
   ]
  },
  {
   "cell_type": "code",
   "execution_count": 3,
   "id": "120170d0",
   "metadata": {},
   "outputs": [
    {
     "name": "stdout",
     "output_type": "stream",
     "text": [
      "ASCII value of A-Z is in the range from 65 to 90\n",
      "ASCII value of a-z is in the range from 97 to 122\n"
     ]
    }
   ],
   "source": [
    "print(\"ASCII value of A-Z is in the range from\", ord('A'), \"to\", ord('Z'))\n",
    "print(\"ASCII value of a-z is in the range from\", ord('a'), \"to\", ord('z'))"
   ]
  },
  {
   "cell_type": "markdown",
   "id": "f47fd6d8",
   "metadata": {},
   "source": [
    "<h3>Hash Function Implementation</h3>"
   ]
  },
  {
   "cell_type": "code",
   "execution_count": 4,
   "id": "7024fcc5",
   "metadata": {},
   "outputs": [],
   "source": [
    "def get_hash(key):\n",
    "    h = 0\n",
    "    for c in key:\n",
    "        h += ord(c)\n",
    "        \n",
    "    return h % 100 #Considering array has 100 elements (0-99)"
   ]
  },
  {
   "cell_type": "code",
   "execution_count": 5,
   "id": "e56ebaaf",
   "metadata": {},
   "outputs": [
    {
     "data": {
      "text/plain": [
       "9"
      ]
     },
     "execution_count": 5,
     "metadata": {},
     "output_type": "execute_result"
    }
   ],
   "source": [
    "get_hash(\"march 6\")"
   ]
  },
  {
   "cell_type": "markdown",
   "id": "5e959d3f",
   "metadata": {},
   "source": [
    "<h2>Hash Table/Map Implementation</h2>"
   ]
  },
  {
   "cell_type": "code",
   "execution_count": 7,
   "id": "f58d6924",
   "metadata": {},
   "outputs": [],
   "source": [
    "class HashTable:\n",
    "    def __init__(self):\n",
    "        self.MAX = 100 #Specifying array size\n",
    "        self.arr = [None for i in range(self.MAX)] #Initilise array of self.MAX size using List Comprehension - list of 100 None (index 0 to 99). ##List Comprehension --> [0 for x in range(n)]\n",
    "        \n",
    "    def get_hash(self, key):\n",
    "        h = 0\n",
    "        for c in key:\n",
    "            h += ord(c)\n",
    "        \n",
    "        return h % self.MAX"
   ]
  },
  {
   "cell_type": "code",
   "execution_count": 8,
   "id": "a1015b13",
   "metadata": {},
   "outputs": [
    {
     "data": {
      "text/plain": [
       "9"
      ]
     },
     "execution_count": 8,
     "metadata": {},
     "output_type": "execute_result"
    }
   ],
   "source": [
    "t = HashTable() #Create an object of class HashTable ##__init__(self) class constrcutor is invoked\n",
    "t.get_hash(\"march 6\")"
   ]
  },
  {
   "cell_type": "markdown",
   "id": "151709ea",
   "metadata": {},
   "source": [
    "Now, we have successfully created a hash function which returns a value for our key within the bounds of the array indices in which we want to store the values. Next, we need:\n",
    "1. Function to add/remove an the key's value to the array index returned by the hash function (Insertion/Deletion) - set_item(key, value) and delete_item(key)\n",
    "2. Function to get the value from the array index returned by the hash function (Look-up/Access) - get_item(key)"
   ]
  },
  {
   "cell_type": "markdown",
   "id": "17199384",
   "metadata": {},
   "source": [
    "<b><i>More specifically, we want to add an item in our hash table/map using a statement like: <br>\n",
    "    t.add(\"march 6\", 130) <br>\n",
    "    and retriece the value from the table/map using a statement like: <br>\n",
    "    t.get(\"march 6\") </i></b>"
   ]
  },
  {
   "cell_type": "code",
   "execution_count": 30,
   "id": "361f9ca0",
   "metadata": {},
   "outputs": [],
   "source": [
    "#Create the insertion/addition function\n",
    "\n",
    "class HashTable:\n",
    "    def __init__(self):\n",
    "        self.MAX = 100 #Specifying array size\n",
    "        self.arr = [None for i in range(self.MAX)] #Initilise array of self.MAX size using List Comprehension - list of 100 None (index 0 to 99). ##List Comprehension --> [0 for x in range(n)]\n",
    "        \n",
    "    def get_hash(self, key):\n",
    "        h = 0\n",
    "        for c in key:\n",
    "            h += ord(c)\n",
    "        \n",
    "        return h % self.MAX\n",
    "    \n",
    "    def add(self, key, value):\n",
    "        h = self.get_hash(key)\n",
    "        self.arr[h] = value"
   ]
  },
  {
   "cell_type": "code",
   "execution_count": 31,
   "id": "8e6150c3",
   "metadata": {},
   "outputs": [],
   "source": [
    "t = HashTable()\n",
    "t.add(\"march 6\", 130)"
   ]
  },
  {
   "cell_type": "code",
   "execution_count": 32,
   "id": "dd92e99c",
   "metadata": {},
   "outputs": [
    {
     "name": "stdout",
     "output_type": "stream",
     "text": [
      "[None, None, None, None, None, None, None, None, None, 130, None, None, None, None, None, None, None, None, None, None, None, None, None, None, None, None, None, None, None, None, None, None, None, None, None, None, None, None, None, None, None, None, None, None, None, None, None, None, None, None, None, None, None, None, None, None, None, None, None, None, None, None, None, None, None, None, None, None, None, None, None, None, None, None, None, None, None, None, None, None, None, None, None, None, None, None, None, None, None, None, None, None, None, None, None, None, None, None, None, None]\n"
     ]
    }
   ],
   "source": [
    "#Let us see what happened to our array\n",
    "print(t.arr)"
   ]
  },
  {
   "cell_type": "markdown",
   "id": "2c4df8ff",
   "metadata": {},
   "source": [
    "<b><i>We can see 130 is inserted at index 9.</i><b>"
   ]
  },
  {
   "cell_type": "code",
   "execution_count": 12,
   "id": "b4a03fd3",
   "metadata": {},
   "outputs": [],
   "source": [
    "#Create the look-up/retrieval function\n",
    "\n",
    "class HashTable:\n",
    "    def __init__(self):\n",
    "        self.MAX = 100 #Specifying array size\n",
    "        self.arr = [None for i in range(self.MAX)] #Initilise array of self.MAX size using List Comprehension - list of 100 None (index 0 to 99). ##List Comprehension --> [0 for x in range(n)]\n",
    "        \n",
    "    def get_hash(self, key):\n",
    "        h = 0\n",
    "        for c in key:\n",
    "            h += ord(c)\n",
    "        \n",
    "        return h % self.MAX\n",
    "    \n",
    "    def add(self, key, value):\n",
    "        h = self.get_hash(key)\n",
    "        self.arr[h] = value\n",
    "        \n",
    "    def get_value(self, key):\n",
    "        h = self.get_hash(key)\n",
    "        return self.arr[h]"
   ]
  },
  {
   "cell_type": "code",
   "execution_count": 13,
   "id": "f6401e4d",
   "metadata": {},
   "outputs": [],
   "source": [
    "t = HashTable()\n",
    "t.add(\"march 6\", 130)"
   ]
  },
  {
   "cell_type": "code",
   "execution_count": 15,
   "id": "d9242187",
   "metadata": {},
   "outputs": [
    {
     "data": {
      "text/plain": [
       "130"
      ]
     },
     "execution_count": 15,
     "metadata": {},
     "output_type": "execute_result"
    }
   ],
   "source": [
    "t.get_value(\"march 6\")"
   ]
  },
  {
   "cell_type": "code",
   "execution_count": 17,
   "id": "93a1b2d6",
   "metadata": {},
   "outputs": [],
   "source": [
    "t.get_value(\"march 7\") #Not inserted yet"
   ]
  },
  {
   "cell_type": "markdown",
   "id": "ef5a771a",
   "metadata": {},
   "source": [
    "We can see <b>get_value(\"march 6\")</b> returned <b>130</b> and <b>get_value(\"march 7\")</b> returned <b>None</b>."
   ]
  },
  {
   "cell_type": "markdown",
   "id": "ccb3dd8e",
   "metadata": {},
   "source": [
    "<b><i>What if we could perform the same actions in a more convenient way, like: <br>\n",
    "    t[\"march 6\"] = 130, and, <br>\n",
    "    t[\"march 6\"] would have returned 130? </i><b>"
   ]
  },
  {
   "cell_type": "markdown",
   "id": "da119120",
   "metadata": {},
   "source": [
    "<b><i><font color=\"green\">Fortunately, Python operators supports this. We will implement the same below:</i></b>\n",
    "    \n",
    "<a href=\"https://docs.python.org/3/library/operator.html\" target=\"_blank\">Click here</a> for more on <b><u>Standard operators as functions</u></b> from Python Docs."
   ]
  },
  {
   "cell_type": "code",
   "execution_count": 33,
   "id": "ba1d7216",
   "metadata": {},
   "outputs": [],
   "source": [
    "#Use Python standard operators to make functionality more convenient\n",
    "\n",
    "class HashTable:\n",
    "    def __init__(self):\n",
    "        self.MAX = 100 #Specifying array size\n",
    "        self.arr = [None for i in range(self.MAX)] #Initilise array of self.MAX size using List Comprehension - list of 100 None (index 0 to 99). ##List Comprehension --> [0 for x in range(n)]\n",
    "        \n",
    "    def get_hash(self, key):\n",
    "        h = 0\n",
    "        for c in key:\n",
    "            h += ord(c)\n",
    "        \n",
    "        return h % self.MAX\n",
    "    \n",
    "    def __setitem__(self, key, value): #Just replaced add with __setitem__\n",
    "        h = self.get_hash(key)\n",
    "        self.arr[h] = value\n",
    "        \n",
    "    def __getitem__(self, key): #Just replaced add with __getitem__\n",
    "        h = self.get_hash(key)\n",
    "        return self.arr[h]"
   ]
  },
  {
   "cell_type": "code",
   "execution_count": 34,
   "id": "30bca6c1",
   "metadata": {},
   "outputs": [],
   "source": [
    "t = HashTable()\n",
    "t[\"march 6\"] = 130 #Invokes __setitem__ ##See Python Docs for understanding how."
   ]
  },
  {
   "cell_type": "code",
   "execution_count": 35,
   "id": "fba73de8",
   "metadata": {},
   "outputs": [
    {
     "data": {
      "text/plain": [
       "130"
      ]
     },
     "execution_count": 35,
     "metadata": {},
     "output_type": "execute_result"
    }
   ],
   "source": [
    "t[\"march 6\"] #Invokes __getitem__ ##See Python Docs for understanding how."
   ]
  },
  {
   "cell_type": "code",
   "execution_count": 36,
   "id": "c62f37fe",
   "metadata": {},
   "outputs": [],
   "source": [
    "t[\"march 1\"] = 20\n",
    "t[\"dec 17\"] = 27"
   ]
  },
  {
   "cell_type": "code",
   "execution_count": 37,
   "id": "3e3202a8",
   "metadata": {},
   "outputs": [
    {
     "name": "stdout",
     "output_type": "stream",
     "text": [
      "[None, None, None, None, 20, None, None, None, None, 130, None, None, None, None, None, None, None, None, None, None, None, None, None, None, None, None, None, None, None, None, None, None, None, None, None, None, 27, None, None, None, None, None, None, None, None, None, None, None, None, None, None, None, None, None, None, None, None, None, None, None, None, None, None, None, None, None, None, None, None, None, None, None, None, None, None, None, None, None, None, None, None, None, None, None, None, None, None, None, None, None, None, None, None, None, None, None, None, None, None, None]\n"
     ]
    }
   ],
   "source": [
    "#Let us see what happened to our array\n",
    "print(t.arr)"
   ]
  },
  {
   "cell_type": "markdown",
   "id": "dfad2edd",
   "metadata": {},
   "source": [
    "<b><i>We can see all the values we inserted at index returned by the hash function for their particular key.</i></b>"
   ]
  },
  {
   "cell_type": "code",
   "execution_count": 24,
   "id": "f1547937",
   "metadata": {},
   "outputs": [
    {
     "data": {
      "text/plain": [
       "27"
      ]
     },
     "execution_count": 24,
     "metadata": {},
     "output_type": "execute_result"
    }
   ],
   "source": [
    "t[\"dec 17\"]"
   ]
  },
  {
   "cell_type": "code",
   "execution_count": 25,
   "id": "12f3fe21",
   "metadata": {},
   "outputs": [],
   "source": [
    "t[\"december 17\"] #Not a valid key that in inserted or set yet ##Should return \"None\""
   ]
  },
  {
   "cell_type": "code",
   "execution_count": 26,
   "id": "15f5dd25",
   "metadata": {},
   "outputs": [
    {
     "data": {
      "text/plain": [
       "20"
      ]
     },
     "execution_count": 26,
     "metadata": {},
     "output_type": "execute_result"
    }
   ],
   "source": [
    "t[\"march 1\"]"
   ]
  },
  {
   "cell_type": "code",
   "execution_count": 27,
   "id": "d2c622e4",
   "metadata": {},
   "outputs": [],
   "source": [
    "#Delete existing value based on key using Python Standard Operators\n",
    "\n",
    "class HashTable:\n",
    "    def __init__(self):\n",
    "        self.MAX = 100 #Specifying array size\n",
    "        self.arr = [None for i in range(self.MAX)] #Initilise array of self.MAX size using List Comprehension - list of 100 None (index 0 to 99). ##List Comprehension --> [0 for x in range(n)]\n",
    "        \n",
    "    def get_hash(self, key):\n",
    "        h = 0\n",
    "        for c in key:\n",
    "            h += ord(c)\n",
    "        \n",
    "        return h % self.MAX\n",
    "    \n",
    "    def __setitem__(self, key, value):\n",
    "        h = self.get_hash(key)\n",
    "        self.arr[h] = value\n",
    "        \n",
    "    def __getitem__(self, key):\n",
    "        h = self.get_hash(key)\n",
    "        return self.arr[h]\n",
    "    \n",
    "    def __delitem__(self, key):\n",
    "        h = self.get_hash(key)\n",
    "        self.arr[h] = None #Update the value of the index returned by for the key to \"None\""
   ]
  },
  {
   "cell_type": "code",
   "execution_count": 29,
   "id": "d2b0201c",
   "metadata": {},
   "outputs": [
    {
     "name": "stdout",
     "output_type": "stream",
     "text": [
      "Before deleting: [None, None, None, None, 20, None, None, None, None, 130, None, None, None, None, None, None, None, None, None, None, None, None, None, None, None, None, None, None, None, None, None, None, None, None, None, None, 27, None, None, None, None, None, None, None, None, None, None, None, None, None, None, None, None, None, None, None, None, None, None, None, None, None, None, None, None, None, None, None, None, None, None, None, None, None, None, None, None, None, None, None, None, None, None, None, None, None, None, None, None, None, None, None, None, None, None, None, None, None, None, None]\n",
      "\n",
      "After deleting: [None, None, None, None, 20, None, None, None, None, None, None, None, None, None, None, None, None, None, None, None, None, None, None, None, None, None, None, None, None, None, None, None, None, None, None, None, 27, None, None, None, None, None, None, None, None, None, None, None, None, None, None, None, None, None, None, None, None, None, None, None, None, None, None, None, None, None, None, None, None, None, None, None, None, None, None, None, None, None, None, None, None, None, None, None, None, None, None, None, None, None, None, None, None, None, None, None, None, None, None, None]\n"
     ]
    }
   ],
   "source": [
    "t = HashTable()\n",
    "t[\"march 6\"] = 130\n",
    "t[\"march 1\"] = 20\n",
    "t[\"dec 17\"] = 27\n",
    "\n",
    "print(\"Before deleting:\", t.arr)\n",
    "print()\n",
    "\n",
    "#Delete entry of \"march 6\"\n",
    "del t[\"march 6\"]\n",
    "print(\"After deleting:\", t.arr) #130 should be absent"
   ]
  },
  {
   "cell_type": "markdown",
   "id": "9ac1270d",
   "metadata": {},
   "source": [
    "<b><i>We can see 130 missing at index 9 after deletion.</i><b>"
   ]
  },
  {
   "cell_type": "markdown",
   "id": "c34f9662",
   "metadata": {},
   "source": [
    "<h2>Collision Handling in Hash Table/Map</h2>"
   ]
  },
  {
   "cell_type": "markdown",
   "id": "0c9b5ec7",
   "metadata": {},
   "source": [
    "<b><i>A collision, or more specifically, a hash code collision in a Hash Table/Map, is a situation where two or more key objects produce the same final hash value and hence point to the same bucket location or array index.</i></b>\n",
    "\n",
    "<u>Example:</u> (dog, god), (cat, act), (tab, bat) are only examples of words with the same set of characters. Certainly the sum of the ASCII numbers for their characters will be similar if we follow the hashing based on ASCII number addition technique. Secondly, not just for words with similar characters, but based on the hash function used to accomodate the key-value mapped elements within a fixed array size, there can be scenarios where two or more key objects produce the same final hash value and hence point to the same bucket location or array index."
   ]
  },
  {
   "cell_type": "markdown",
   "id": "6c287e05",
   "metadata": {},
   "source": [
    "<img align=\"left\" src=\"Hash Table Collision.png\" alt=\"Hash Table Collision\" style=\"height:300px;\">"
   ]
  },
  {
   "cell_type": "markdown",
   "id": "b97eb037",
   "metadata": {},
   "source": [
    "<h4>Let's see the issue with a code</h4>"
   ]
  },
  {
   "cell_type": "code",
   "execution_count": 5,
   "id": "34f6a594",
   "metadata": {},
   "outputs": [],
   "source": [
    "#Code which does not handle Hash Table/Map Collisions\n",
    "\n",
    "class HashTable:\n",
    "    def __init__(self):\n",
    "        self.MAX = 10 #Specifying array size\n",
    "        self.arr = [None for i in range(self.MAX)] #Initilise array of self.MAX size using List Comprehension - list of 10 None (index 0 to 9). ##List Comprehension --> [0 for x in range(n)]\n",
    "        \n",
    "    def get_hash(self, key):\n",
    "        h = 0\n",
    "        for c in key:\n",
    "            h += ord(c)\n",
    "        \n",
    "        return h % self.MAX\n",
    "    \n",
    "    def __setitem__(self, key, value):\n",
    "        h = self.get_hash(key)\n",
    "        self.arr[h] = value\n",
    "        \n",
    "    def __getitem__(self, key):\n",
    "        h = self.get_hash(key)\n",
    "        return self.arr[h]\n",
    "    \n",
    "    def __delitem__(self, key):\n",
    "        h = self.get_hash(key)\n",
    "        self.arr[h] = None"
   ]
  },
  {
   "cell_type": "code",
   "execution_count": 6,
   "id": "55ee94d1",
   "metadata": {},
   "outputs": [],
   "source": [
    "t = HashTable()"
   ]
  },
  {
   "cell_type": "code",
   "execution_count": 7,
   "id": "f871cbd6",
   "metadata": {},
   "outputs": [
    {
     "data": {
      "text/plain": [
       "9"
      ]
     },
     "execution_count": 7,
     "metadata": {},
     "output_type": "execute_result"
    }
   ],
   "source": [
    "t.get_hash(\"march 6\")"
   ]
  },
  {
   "cell_type": "code",
   "execution_count": 8,
   "id": "0aca337b",
   "metadata": {},
   "outputs": [
    {
     "data": {
      "text/plain": [
       "9"
      ]
     },
     "execution_count": 8,
     "metadata": {},
     "output_type": "execute_result"
    }
   ],
   "source": [
    "t.get_hash(\"march 17\")"
   ]
  },
  {
   "cell_type": "markdown",
   "id": "48f1ada8",
   "metadata": {},
   "source": [
    "We notice, with our hash function implementation, both our key objects, \"march 6\" and \"march 17\", return index 9 to place their respective values in."
   ]
  },
  {
   "cell_type": "code",
   "execution_count": 9,
   "id": "e7ad8747",
   "metadata": {},
   "outputs": [],
   "source": [
    "t[\"march 6\"] = 120\n",
    "t[\"march 8\"] = 67\n",
    "t[\"march 9\"] = 24"
   ]
  },
  {
   "cell_type": "code",
   "execution_count": 10,
   "id": "76af611d",
   "metadata": {},
   "outputs": [
    {
     "data": {
      "text/plain": [
       "120"
      ]
     },
     "execution_count": 10,
     "metadata": {},
     "output_type": "execute_result"
    }
   ],
   "source": [
    "t[\"march 6\"]"
   ]
  },
  {
   "cell_type": "code",
   "execution_count": 11,
   "id": "826ad922",
   "metadata": {},
   "outputs": [],
   "source": [
    "t[\"march 17\"] = 459"
   ]
  },
  {
   "cell_type": "code",
   "execution_count": 12,
   "id": "ca63088c",
   "metadata": {},
   "outputs": [
    {
     "data": {
      "text/plain": [
       "459"
      ]
     },
     "execution_count": 12,
     "metadata": {},
     "output_type": "execute_result"
    }
   ],
   "source": [
    "t[\"march 17\"]"
   ]
  },
  {
   "cell_type": "code",
   "execution_count": 13,
   "id": "3d63b1f3",
   "metadata": {},
   "outputs": [
    {
     "data": {
      "text/plain": [
       "459"
      ]
     },
     "execution_count": 13,
     "metadata": {},
     "output_type": "execute_result"
    }
   ],
   "source": [
    "t[\"march 6\"] #Should return wrong value - 459, and not 120"
   ]
  },
  {
   "cell_type": "markdown",
   "id": "c6f7f6b3",
   "metadata": {},
   "source": [
    "<b><i><font color=\"red\">The value being returned for \"march 6\" is not 120 which is wrong. Instead it returned 459 for \"march 6\" which is actually the value for key \"march 17\" as both the key objects mapped to the same array index in our hash function implementation.</i></b>"
   ]
  },
  {
   "cell_type": "markdown",
   "id": "51a2df81",
   "metadata": {},
   "source": [
    "<b><i>The value at index 9 of the array is updated from 120 to 459</i></b>\n",
    "\n",
    "<img align=\"left\" src=\"Hash Collision Replacement.png\" alt=\"Hash Collision Replacement\" style=\"height:300px;\">"
   ]
  },
  {
   "cell_type": "markdown",
   "id": "c94dab3d",
   "metadata": {},
   "source": [
    "<b>How do we handle such collisions?</b>\n",
    "\n",
    "<b><i><font color=\"green\">Of many available ways of handling Hash Table/Map Collision, we will look at Chaining/Separate Chaining (preffered way of handling Hash Table/Map collision) and Probing (Linear and Quadratic).</i></b>"
   ]
  },
  {
   "cell_type": "markdown",
   "id": "ab1db814",
   "metadata": {},
   "source": [
    "<h3>Chaining/Separate Chaining</h3>"
   ]
  },
  {
   "cell_type": "markdown",
   "id": "61eabcc1",
   "metadata": {},
   "source": [
    "<i>In chaining/separate chaining, instead of directly storing the element at the index returned by the hash function for the key object, we store a Linked List (in Python, we can use normal lists and store keys and their values as tuples treating them as individual elements in the list) at each index and keep adding new nodes/tuples at the end of the existing list at that index. This way, the list at each index can keep growing and multiple keys can share the same hash value.</i>"
   ]
  },
  {
   "cell_type": "markdown",
   "id": "a7abdb72",
   "metadata": {},
   "source": [
    "<i>\n",
    "<b>The amortized average case time complexity Θ(1)which is a constant time operation, however, the worst case time complexity can go upto O(n).</b>\n",
    "    \n",
    "<u>Explanation:</u> Imagine a bad hashing function, where all the keys generate the same hash value pointing to the same index, we will have all the elements in a bucket in one index and it will act as a long Linked List. In that case, the search complexity will be same as that of a Linked List, which is O(n).\n",
    "</i>"
   ]
  },
  {
   "cell_type": "markdown",
   "id": "196b43b5",
   "metadata": {},
   "source": [
    "<b><i>In chaining/separate chaining, it is important to store both the key (at index 0) and the value (at index 1) within a sub-datastructure as a single element at the end of the index returned by the hash function as there can be multiple key-value pairs at a single array index.</i></b>"
   ]
  },
  {
   "cell_type": "markdown",
   "id": "2f128249",
   "metadata": {},
   "source": [
    "<h3>Implementation of Hash Table/Map Collision handling using Chaining/Separate Chaining</h3>"
   ]
  },
  {
   "cell_type": "code",
   "execution_count": 15,
   "id": "668df120",
   "metadata": {},
   "outputs": [],
   "source": [
    "#Handle Hash Table/Map Collisions using Chaining/Separate Chaining while insering key-value pairs by avoiding\n",
    "#overwriting\n",
    "\n",
    "#First change - Use sub-list at each array index which can store multiple tuples\n",
    "\n",
    "#Second change - When we were not handling collisions, we used to replace the value at index returned by the hash\n",
    "#function. Now, we have a list at that index and we need to keep appending the latest key-value pair to end of the\n",
    "#list at that index\n",
    "\n",
    "class HashTable:\n",
    "    def __init__(self):\n",
    "        self.MAX = 10 #Specifying array size\n",
    "        self.arr = [[] for i in range(self.MAX)] #List of 10 empty lists (index 0 to 9) where every sub-list can contain multiple tuples because we can not store just the value but also need to store the key for look-up as each index might have multiple values\n",
    "                                                 #Initilise array of self.MAX size using List Comprehension. ##List Comprehension --> [0 for x in range(n)]\n",
    "        \n",
    "    def get_hash(self, key):\n",
    "        h = 0\n",
    "        for c in key:\n",
    "            h += ord(c)\n",
    "        \n",
    "        return h % self.MAX\n",
    "    \n",
    "    def __setitem__(self, key, value):\n",
    "        h = self.get_hash(key)\n",
    "        #Scenario - self.arr[h] now contains a list to which we need to do either of the following:\n",
    "        #Case 1 - Update the value of the key if the key already exists\n",
    "        #Case 2 - Append a new key-value pair to the end if the key doesn't exist in the list\n",
    "        \n",
    "        found = False #Used as flag for checking if key already exists in a tuple in the array index\n",
    "        \n",
    "        #Case 1 implementation\n",
    "        for i, element in enumerate(self.arr[h]):\n",
    "            if element[0] == key:\n",
    "                self.arr[h][i] = (key, value)\n",
    "                #We are inserting the key-value pairs in tuples. Tuples are immutable, so we cannot do:\n",
    "                #element[1] = value\n",
    "                #Instead of tuple, had we used another array/list, it would have worked.\n",
    "                found = True\n",
    "        \n",
    "        #Case 2 implementation\n",
    "        if not found:\n",
    "            self.arr[h].append((key, value))"
   ]
  },
  {
   "cell_type": "code",
   "execution_count": 16,
   "id": "a9484fb0",
   "metadata": {},
   "outputs": [
    {
     "name": "stdout",
     "output_type": "stream",
     "text": [
      "[[], [], [], [], [], [], [], [], [], []]\n"
     ]
    }
   ],
   "source": [
    "t = HashTable()\n",
    "print(t.arr)"
   ]
  },
  {
   "cell_type": "code",
   "execution_count": 17,
   "id": "6699ddf1",
   "metadata": {},
   "outputs": [
    {
     "name": "stdout",
     "output_type": "stream",
     "text": [
      "[[], [('march 8', 67)], [('march 9', 4)], [], [], [], [], [], [], [('march 6', 120)]]\n"
     ]
    }
   ],
   "source": [
    "t[\"march 6\"] = 120\n",
    "t[\"march 8\"] = 67\n",
    "t[\"march 9\"] = 4\n",
    "print(t.arr)"
   ]
  },
  {
   "cell_type": "code",
   "execution_count": 18,
   "id": "07b26657",
   "metadata": {},
   "outputs": [
    {
     "name": "stdout",
     "output_type": "stream",
     "text": [
      "[[], [('march 8', 67)], [('march 9', 4)], [], [], [], [], [], [], [('march 6', 120), ('march 17', 459)]]\n"
     ]
    }
   ],
   "source": [
    "t[\"march 17\"] = 459 #Adding \"march 17\" in the sub-list at index 9 with \"march 6\"\n",
    "print(t.arr)"
   ]
  },
  {
   "cell_type": "code",
   "execution_count": 19,
   "id": "d6e7d4fb",
   "metadata": {},
   "outputs": [
    {
     "name": "stdout",
     "output_type": "stream",
     "text": [
      "[[], [('march 8', 67)], [('march 9', 4)], [], [], [], [], [], [], [('march 6', 78), ('march 17', 459)]]\n"
     ]
    }
   ],
   "source": [
    "t[\"march 6\"] = 78 #Updating the value for key \"march 6\"\n",
    "print(t.arr)"
   ]
  },
  {
   "cell_type": "code",
   "execution_count": 20,
   "id": "3f37eb82",
   "metadata": {},
   "outputs": [],
   "source": [
    "#Modify Hash Table/Map retrieval when each array index has multiple key-value pairs\n",
    "\n",
    "#We iterate through all the element at the array index returned by the hash function and match the key with the key\n",
    "#present in the tuple (index 0 of element) and return the value of that particular element (index 1 of element)\n",
    "\n",
    "\n",
    "class HashTable:\n",
    "    def __init__(self):\n",
    "        self.MAX = 10 #Specifying array size\n",
    "        self.arr = [[] for i in range(self.MAX)] #List of 10 empty lists (index 0 to 9) where every sub-list can contain multiple tuples because we can not store just the value but also need to store the key for look-up as each index might have multiple values\n",
    "                                                 #Initilise array of self.MAX size using List Comprehension. ##List Comprehension --> [0 for x in range(n)]\n",
    "        \n",
    "    def get_hash(self, key):\n",
    "        h = 0\n",
    "        for c in key:\n",
    "            h += ord(c)\n",
    "        \n",
    "        return h % self.MAX\n",
    "    \n",
    "    def __setitem__(self, key, value):\n",
    "        h = self.get_hash(key)\n",
    "        #Scenario - self.arr[h] now contains a list to which we need to do either of the following:\n",
    "        #Case 1 - Update the value of the key if the key already exists\n",
    "        #Case 2 - Append a new key-value pair to the end if the key doesn't exist in the list\n",
    "        \n",
    "        found = False #Used as flag for checking if key already exists in a tuple in the array index\n",
    "        \n",
    "        #Case 1 implementation\n",
    "        for i, element in enumerate(self.arr[h]):\n",
    "            if element[0] == key:\n",
    "                self.arr[h][i] = (key, value)\n",
    "                #We are inserting the key-value pairs in tuples. Tuples are immutable, so we cannot do:\n",
    "                #element[1] = value\n",
    "                #Instead of tuple, had we used another array/list, it would have worked.\n",
    "                found = True\n",
    "        \n",
    "        #Case 2 implementation\n",
    "        if not found:\n",
    "            self.arr[h].append((key, value))\n",
    "            \n",
    "    def __getitem__(self, key):\n",
    "        h = self.get_hash(key)\n",
    "        for element in self.arr[h]:\n",
    "            if element[0] == key:\n",
    "                return element[1]"
   ]
  },
  {
   "cell_type": "code",
   "execution_count": 21,
   "id": "582f8ce0",
   "metadata": {},
   "outputs": [],
   "source": [
    "t = HashTable()\n",
    "t[\"march 6\"] = 120\n",
    "t[\"march 8\"] = 67\n",
    "t[\"march 9\"] = 4\n",
    "t[\"march 17\"] = 459"
   ]
  },
  {
   "cell_type": "code",
   "execution_count": 22,
   "id": "33cc4e5a",
   "metadata": {},
   "outputs": [
    {
     "name": "stdout",
     "output_type": "stream",
     "text": [
      "[[], [('march 8', 67)], [('march 9', 4)], [], [], [], [], [], [], [('march 6', 120), ('march 17', 459)]]\n"
     ]
    }
   ],
   "source": [
    "print(t.arr)"
   ]
  },
  {
   "cell_type": "code",
   "execution_count": 9,
   "id": "7322b4bf",
   "metadata": {},
   "outputs": [
    {
     "data": {
      "text/plain": [
       "120"
      ]
     },
     "execution_count": 9,
     "metadata": {},
     "output_type": "execute_result"
    }
   ],
   "source": [
    "t[\"march 6\"]"
   ]
  },
  {
   "cell_type": "code",
   "execution_count": 10,
   "id": "231c7070",
   "metadata": {},
   "outputs": [
    {
     "data": {
      "text/plain": [
       "67"
      ]
     },
     "execution_count": 10,
     "metadata": {},
     "output_type": "execute_result"
    }
   ],
   "source": [
    "t[\"march 8\"]"
   ]
  },
  {
   "cell_type": "code",
   "execution_count": 11,
   "id": "84e349f6",
   "metadata": {},
   "outputs": [
    {
     "data": {
      "text/plain": [
       "4"
      ]
     },
     "execution_count": 11,
     "metadata": {},
     "output_type": "execute_result"
    }
   ],
   "source": [
    "t[\"march 9\"]"
   ]
  },
  {
   "cell_type": "code",
   "execution_count": 12,
   "id": "da3ad0c5",
   "metadata": {},
   "outputs": [
    {
     "data": {
      "text/plain": [
       "459"
      ]
     },
     "execution_count": 12,
     "metadata": {},
     "output_type": "execute_result"
    }
   ],
   "source": [
    "t[\"march 17\"]"
   ]
  },
  {
   "cell_type": "code",
   "execution_count": 13,
   "id": "3d393673",
   "metadata": {},
   "outputs": [],
   "source": [
    "t[\"march 6\"] = 78 #Update value of \"march 6\""
   ]
  },
  {
   "cell_type": "code",
   "execution_count": 14,
   "id": "5ade1f33",
   "metadata": {},
   "outputs": [
    {
     "data": {
      "text/plain": [
       "78"
      ]
     },
     "execution_count": 14,
     "metadata": {},
     "output_type": "execute_result"
    }
   ],
   "source": [
    "t[\"march 6\"]"
   ]
  },
  {
   "cell_type": "code",
   "execution_count": 24,
   "id": "f13d9b47",
   "metadata": {},
   "outputs": [],
   "source": [
    "#Modify Hash Table/Map key-value pair deletion when each array index has multiple key-value pairs\n",
    "\n",
    "class HashTable:\n",
    "    def __init__(self):\n",
    "        self.MAX = 10 #Specifying array size\n",
    "        self.arr = [[] for i in range(self.MAX)] #List of 10 empty lists (index 0 to 9) where every sub-list can contain multiple tuples because we can not store just the value but also need to store the key for look-up as each index might have multiple values\n",
    "                                                 #Initilise array of self.MAX size using List Comprehension. ##List Comprehension --> [0 for x in range(n)]\n",
    "        \n",
    "    def get_hash(self, key):\n",
    "        h = 0\n",
    "        for c in key:\n",
    "            h += ord(c)\n",
    "        \n",
    "        return h % self.MAX\n",
    "    \n",
    "    def __setitem__(self, key, value):\n",
    "        h = self.get_hash(key)\n",
    "        found = False\n",
    "        \n",
    "        for i, element in enumerate(self.arr[h]):\n",
    "            if element[0] == key:\n",
    "                self.arr[h][i] = (key, value)\n",
    "                found = True\n",
    "                break\n",
    "                \n",
    "        if not found:\n",
    "            self.arr[h].append((key, value))\n",
    "            \n",
    "    def __getitem__(self, key):\n",
    "        h = self.get_hash(key)\n",
    "        for element in self.arr[h]:\n",
    "            if element[0] == key:\n",
    "                return element[1]\n",
    "            \n",
    "    def __delitem__(self, key):\n",
    "        h = self.get_hash(key)\n",
    "        for i, element in enumerate(self.arr[h]):\n",
    "            if element[0] == key:\n",
    "                del self.arr[h][i]"
   ]
  },
  {
   "cell_type": "code",
   "execution_count": 29,
   "id": "8109c24f",
   "metadata": {},
   "outputs": [],
   "source": [
    "t = HashTable()\n",
    "t[\"march 6\"] = 120\n",
    "t[\"march 8\"] = 67\n",
    "t[\"march 9\"] = 4\n",
    "t[\"march 17\"] = 459\n",
    "t[\"march 6\"] = 78"
   ]
  },
  {
   "cell_type": "code",
   "execution_count": 30,
   "id": "0eaf7b84",
   "metadata": {},
   "outputs": [
    {
     "name": "stdout",
     "output_type": "stream",
     "text": [
      "[[], [('march 8', 67)], [('march 9', 4)], [], [], [], [], [], [], [('march 6', 78), ('march 17', 459)]]\n"
     ]
    }
   ],
   "source": [
    "print(t.arr)"
   ]
  },
  {
   "cell_type": "code",
   "execution_count": 31,
   "id": "1d7dfffe",
   "metadata": {},
   "outputs": [
    {
     "data": {
      "text/plain": [
       "78"
      ]
     },
     "execution_count": 31,
     "metadata": {},
     "output_type": "execute_result"
    }
   ],
   "source": [
    "t[\"march 6\"]"
   ]
  },
  {
   "cell_type": "code",
   "execution_count": 32,
   "id": "0b1e3daf",
   "metadata": {},
   "outputs": [
    {
     "name": "stdout",
     "output_type": "stream",
     "text": [
      "[[], [('march 8', 67)], [('march 9', 4)], [], [], [], [], [], [], [('march 17', 459)]]\n"
     ]
    }
   ],
   "source": [
    "del t[\"march 6\"]\n",
    "print(t.arr)"
   ]
  },
  {
   "cell_type": "code",
   "execution_count": 34,
   "id": "72ff8207",
   "metadata": {},
   "outputs": [],
   "source": [
    "t[\"march 6\"] #Return \"None\", i.e. No Output"
   ]
  },
  {
   "cell_type": "code",
   "execution_count": 35,
   "id": "eaddcd48",
   "metadata": {},
   "outputs": [
    {
     "data": {
      "text/plain": [
       "4"
      ]
     },
     "execution_count": 35,
     "metadata": {},
     "output_type": "execute_result"
    }
   ],
   "source": [
    "t[\"march 9\"]"
   ]
  },
  {
   "cell_type": "code",
   "execution_count": 36,
   "id": "987b0ea4",
   "metadata": {},
   "outputs": [
    {
     "name": "stdout",
     "output_type": "stream",
     "text": [
      "[[], [], [('march 9', 4)], [], [], [], [], [], [], [('march 17', 459)]]\n"
     ]
    }
   ],
   "source": [
    "del t[\"march 8\"]\n",
    "print(t.arr)"
   ]
  },
  {
   "cell_type": "markdown",
   "id": "74a09295",
   "metadata": {},
   "source": [
    "<h2>Exercise 1</h2>\n",
    "\n",
    "nyc_weather.csv contains new york city weather for first few days in the month of January. Write a program that can answer following:<br>\n",
    "\n",
    "1. What was the average temperature in first week of Jan?<br>\n",
    "2. What was the maximum temperature in first 10 days of Jan?<br>\n",
    "\n",
    "Figure out data structure that is best for this problem."
   ]
  },
  {
   "cell_type": "code",
   "execution_count": 45,
   "id": "a903ca70",
   "metadata": {},
   "outputs": [
    {
     "name": "stdout",
     "output_type": "stream",
     "text": [
      "[27, 31, 23, 34, 37, 38, 29, 30, 35, 30]\n"
     ]
    }
   ],
   "source": [
    "#This problem can be solved using lists/arrays\n",
    "\n",
    "temp = list()\n",
    "\n",
    "with open(\"nyc_weather.csv\", \"r+\") as file:\n",
    "    for line in file:\n",
    "        try:\n",
    "            t = int((line.split(\",\"))[1])\n",
    "            temp.append(t)\n",
    "        except:\n",
    "            pass\n",
    "    \n",
    "print(temp)"
   ]
  },
  {
   "cell_type": "code",
   "execution_count": 46,
   "id": "c08cff5a",
   "metadata": {},
   "outputs": [
    {
     "data": {
      "text/plain": [
       "31.285714285714285"
      ]
     },
     "execution_count": 46,
     "metadata": {},
     "output_type": "execute_result"
    }
   ],
   "source": [
    "#1\n",
    "sum(temp[:7])/len(temp[:7])"
   ]
  },
  {
   "cell_type": "code",
   "execution_count": 47,
   "id": "5d06fc29",
   "metadata": {},
   "outputs": [
    {
     "data": {
      "text/plain": [
       "38"
      ]
     },
     "execution_count": 47,
     "metadata": {},
     "output_type": "execute_result"
    }
   ],
   "source": [
    "#2\n",
    "max(temp[:10])"
   ]
  },
  {
   "cell_type": "markdown",
   "id": "19c2b567",
   "metadata": {},
   "source": [
    "<h2>Exercise 2</h2>\n",
    "\n",
    "nyc_weather.csv contains new york city weather for first few days in the month of January. Write a program that can answer following: <br>\n",
    "\n",
    "1. What was the temperature on Jan 9?<br>\n",
    "2. What was the temperature on Jan 4?<br>\n",
    "\n",
    "Figure out data structure that is best for this problem"
   ]
  },
  {
   "cell_type": "code",
   "execution_count": 48,
   "id": "9233816f",
   "metadata": {},
   "outputs": [
    {
     "name": "stdout",
     "output_type": "stream",
     "text": [
      "{'Jan 1': 27, 'Jan 2': 31, 'Jan 3': 23, 'Jan 4': 34, 'Jan 5': 37, 'Jan 6': 38, 'Jan 7': 29, 'Jan 8': 30, 'Jan 9': 35, 'Jan 10': 30}\n"
     ]
    }
   ],
   "source": [
    "#Best data structure for solving this problem is hash table/map. We will use Python dictionary.\n",
    "\n",
    "temp = dict()\n",
    "\n",
    "with open(\"nyc_weather.csv\", \"r+\") as file:\n",
    "    for line in file:\n",
    "        try:\n",
    "            d = (line.split(\",\"))[0]\n",
    "            t = int((line.split(\",\"))[1])\n",
    "            temp[d] = t\n",
    "        except:\n",
    "            pass\n",
    "    \n",
    "print(temp)"
   ]
  },
  {
   "cell_type": "code",
   "execution_count": 49,
   "id": "e2623eee",
   "metadata": {},
   "outputs": [
    {
     "data": {
      "text/plain": [
       "35"
      ]
     },
     "execution_count": 49,
     "metadata": {},
     "output_type": "execute_result"
    }
   ],
   "source": [
    "#1\n",
    "temp[\"Jan 9\"]"
   ]
  },
  {
   "cell_type": "code",
   "execution_count": 50,
   "id": "8df92fbe",
   "metadata": {},
   "outputs": [
    {
     "data": {
      "text/plain": [
       "34"
      ]
     },
     "execution_count": 50,
     "metadata": {},
     "output_type": "execute_result"
    }
   ],
   "source": [
    "#2\n",
    "temp[\"Jan 4\"]"
   ]
  },
  {
   "cell_type": "markdown",
   "id": "fa8e7348",
   "metadata": {},
   "source": [
    "<h2>Exercise 3</h2>\n",
    "\n",
    "poem.txt Contains famous poem \"Road not taken\" by poet Robert Frost. You have to read this file in python and print every word and its count as show below. Think about the best data structure that you can use to solve this problem and figure out why you selected that specific data structure. <br>\n",
    "\n",
    "'diverged': 2,<br>\n",
    "'in': 3,<br>\n",
    "'I': 8"
   ]
  },
  {
   "cell_type": "code",
   "execution_count": 56,
   "id": "1f647272",
   "metadata": {},
   "outputs": [
    {
     "data": {
      "text/plain": [
       "{'Two': 2,\n",
       " 'roads': 2,\n",
       " 'diverged': 2,\n",
       " 'in': 3,\n",
       " 'a': 3,\n",
       " 'yellow': 1,\n",
       " 'wood,': 2,\n",
       " 'And': 6,\n",
       " 'sorry': 1,\n",
       " 'I': 8,\n",
       " 'could': 2,\n",
       " 'not': 1,\n",
       " 'travel': 1,\n",
       " 'both': 2,\n",
       " 'be': 2,\n",
       " 'one': 3,\n",
       " 'traveler,': 1,\n",
       " 'long': 1,\n",
       " 'stood': 1,\n",
       " 'looked': 1,\n",
       " 'down': 1,\n",
       " 'as': 5,\n",
       " 'far': 1,\n",
       " 'To': 1,\n",
       " 'where': 1,\n",
       " 'it': 2,\n",
       " 'bent': 1,\n",
       " 'the': 8,\n",
       " 'undergrowth;': 1,\n",
       " 'Then': 1,\n",
       " 'took': 2,\n",
       " 'other,': 1,\n",
       " 'just': 1,\n",
       " 'fair,': 1,\n",
       " 'having': 1,\n",
       " 'perhaps': 1,\n",
       " 'better': 1,\n",
       " 'claim,': 1,\n",
       " 'Because': 1,\n",
       " 'was': 1,\n",
       " 'grassy': 1,\n",
       " 'and': 3,\n",
       " 'wanted': 1,\n",
       " 'wear;': 1,\n",
       " 'Though': 1,\n",
       " 'for': 2,\n",
       " 'that': 3,\n",
       " 'passing': 1,\n",
       " 'there': 1,\n",
       " 'Had': 1,\n",
       " 'worn': 1,\n",
       " 'them': 1,\n",
       " 'really': 1,\n",
       " 'about': 1,\n",
       " 'same,': 1,\n",
       " 'morning': 1,\n",
       " 'equally': 1,\n",
       " 'lay': 1,\n",
       " 'In': 1,\n",
       " 'leaves': 1,\n",
       " 'no': 1,\n",
       " 'step': 1,\n",
       " 'had': 1,\n",
       " 'trodden': 1,\n",
       " 'black.': 1,\n",
       " 'Oh,': 1,\n",
       " 'kept': 1,\n",
       " 'first': 1,\n",
       " 'another': 1,\n",
       " 'day!': 1,\n",
       " 'Yet': 1,\n",
       " 'knowing': 1,\n",
       " 'how': 1,\n",
       " 'way': 1,\n",
       " 'leads': 1,\n",
       " 'on': 1,\n",
       " 'to': 1,\n",
       " 'way,': 1,\n",
       " 'doubted': 1,\n",
       " 'if': 1,\n",
       " 'should': 1,\n",
       " 'ever': 1,\n",
       " 'come': 1,\n",
       " 'back.': 1,\n",
       " 'shall': 1,\n",
       " 'telling': 1,\n",
       " 'this': 1,\n",
       " 'with': 1,\n",
       " 'sigh': 1,\n",
       " 'Somewhere': 1,\n",
       " 'ages': 2,\n",
       " 'hence:': 1,\n",
       " 'I—': 1,\n",
       " 'less': 1,\n",
       " 'traveled': 1,\n",
       " 'by,': 1,\n",
       " 'has': 1,\n",
       " 'made': 1,\n",
       " 'all': 1,\n",
       " 'difference.': 1}"
      ]
     },
     "execution_count": 56,
     "metadata": {},
     "output_type": "execute_result"
    }
   ],
   "source": [
    "word_count = dict()\n",
    "\n",
    "with open(\"poem.txt\", \"r+\") as file:\n",
    "    for line in file:\n",
    "        words = line.split()\n",
    "        for word in words:\n",
    "            word = word.replace(\"\\n\",\"\")\n",
    "            if word in word_count:\n",
    "                word_count[word] += 1\n",
    "            else:\n",
    "                word_count[word] = 1\n",
    "                \n",
    "word_count"
   ]
  },
  {
   "cell_type": "markdown",
   "id": "ad3ad47f",
   "metadata": {},
   "source": [
    "<h3>Probing</h3>"
   ]
  },
  {
   "cell_type": "markdown",
   "id": "f9c1d518",
   "metadata": {},
   "source": [
    "<i>The alternate approach of handling Hash Table/Map collisions is using Probing (Linear and Quadratic), Doble Hashing and Open Addressing. With each of these individual approaches have their respective pros and cons when weighed against each other, we will only implement Linear Probing considering it's ease in implementation over the rest. </i>\n",
    "\n",
    "<a href=\"https://www.geeksforgeeks.org/hashing-set-3-open-addressing/\" target=\"_blank\">Click here</a> for detailed description of each of the collision handling techniques from GFG."
   ]
  },
  {
   "cell_type": "markdown",
   "id": "a5f3d345",
   "metadata": {},
   "source": [
    "<b><i>In linear probing, the hash table is searched sequentially that starts from the original location of the hash. If in case the location that we get is already occupied, then we check for the next location.</i></b>\n",
    "\n",
    "The function used for rehashing is as follows: <b><u>get_hash(key) = (n+1) % self.MAX</u></b> until an empty index is returned by the get_hash(key) function."
   ]
  },
  {
   "cell_type": "markdown",
   "id": "a973e5b1",
   "metadata": {},
   "source": [
    "<h3>Implementation of Hash Table/Map Collision handling using Linear Probing</h3>"
   ]
  },
  {
   "cell_type": "code",
   "execution_count": 116,
   "id": "db8098b9",
   "metadata": {},
   "outputs": [],
   "source": [
    "class HashTable:  \n",
    "    def __init__(self):\n",
    "        self.MAX = 10 # I am keeping size very low to demonstrate linear probing easily but usually the size should be high\n",
    "        self.arr = [None for i in range(self.MAX)]\n",
    "        \n",
    "    def get_hash(self, key):\n",
    "        hash = 0\n",
    "        for char in key:\n",
    "            hash += ord(char)\n",
    "        return hash % self.MAX\n",
    "    \n",
    "    def __getitem__(self, key):\n",
    "        h = self.get_hash(key)\n",
    "        if self.arr[h] is None:\n",
    "            return\n",
    "        prob_range = self.get_prob_range(h)\n",
    "        for prob_index in prob_range:\n",
    "            element = self.arr[prob_index]\n",
    "            if element is None:\n",
    "                return\n",
    "            if element[0] == key:\n",
    "                return element[1]\n",
    "           \n",
    "    def __setitem__(self, key, val):\n",
    "        h = self.get_hash(key)\n",
    "        if self.arr[h] is None:\n",
    "            self.arr[h] = (key,val)\n",
    "        else:\n",
    "            new_h = self.find_slot(key, h)\n",
    "            self.arr[new_h] = (key,val)\n",
    "        print(self.arr)\n",
    "        \n",
    "    def get_prob_range(self, index):\n",
    "        return [*range(index, len(self.arr))] + [*range(0,index)]\n",
    "    \n",
    "    def find_slot(self, key, index):\n",
    "        prob_range = self.get_prob_range(index)\n",
    "        for prob_index in prob_range:\n",
    "            if self.arr[prob_index] is None:\n",
    "                return prob_index\n",
    "            if self.arr[prob_index][0] == key:\n",
    "                return prob_index\n",
    "        raise Exception(\"Hashmap Overflow\")\n",
    "        \n",
    "    def __delitem__(self, key):\n",
    "        h = self.get_hash(key)\n",
    "        prob_range = self.get_prob_range(h)\n",
    "        for prob_index in prob_range:\n",
    "            if self.arr[prob_index] is None:\n",
    "                return # item not found so return. You can also throw exception\n",
    "            if self.arr[prob_index][0] == key:\n",
    "                self.arr[prob_index] = None\n",
    "        print(self.arr)"
   ]
  },
  {
   "cell_type": "code",
   "execution_count": 117,
   "id": "0bd4616a",
   "metadata": {},
   "outputs": [
    {
     "name": "stdout",
     "output_type": "stream",
     "text": [
      "[None, None, None, None, None, None, None, None, None, ('march 6', 20)]\n",
      "[('march 17', 88), None, None, None, None, None, None, None, None, ('march 6', 20)]\n"
     ]
    }
   ],
   "source": [
    "t = HashTable()\n",
    "t[\"march 6\"] = 20\n",
    "t[\"march 17\"] =  88"
   ]
  },
  {
   "cell_type": "code",
   "execution_count": 118,
   "id": "adb3a168",
   "metadata": {},
   "outputs": [
    {
     "name": "stdout",
     "output_type": "stream",
     "text": [
      "[('march 17', 29), None, None, None, None, None, None, None, None, ('march 6', 20)]\n"
     ]
    }
   ],
   "source": [
    "t[\"march 17\"] = 29"
   ]
  },
  {
   "cell_type": "code",
   "execution_count": 119,
   "id": "79ac27d4",
   "metadata": {},
   "outputs": [
    {
     "name": "stdout",
     "output_type": "stream",
     "text": [
      "[('march 17', 29), ('nov 1', 1), None, None, None, None, None, None, None, ('march 6', 20)]\n"
     ]
    }
   ],
   "source": [
    "t[\"nov 1\"] = 1"
   ]
  },
  {
   "cell_type": "code",
   "execution_count": 120,
   "id": "d03814ae",
   "metadata": {},
   "outputs": [
    {
     "name": "stdout",
     "output_type": "stream",
     "text": [
      "[('march 17', 29), ('nov 1', 1), None, None, None, None, None, ('march 33', 234), None, ('march 6', 20)]\n"
     ]
    }
   ],
   "source": [
    "t[\"march 33\"] = 234"
   ]
  },
  {
   "cell_type": "code",
   "execution_count": 121,
   "id": "9c78bc3f",
   "metadata": {},
   "outputs": [],
   "source": [
    "t[\"dec 1\"]"
   ]
  },
  {
   "cell_type": "code",
   "execution_count": 122,
   "id": "c49a1a2c",
   "metadata": {},
   "outputs": [
    {
     "data": {
      "text/plain": [
       "234"
      ]
     },
     "execution_count": 122,
     "metadata": {},
     "output_type": "execute_result"
    }
   ],
   "source": [
    "t[\"march 33\"]"
   ]
  },
  {
   "cell_type": "code",
   "execution_count": 123,
   "id": "3f96ee23",
   "metadata": {},
   "outputs": [
    {
     "name": "stdout",
     "output_type": "stream",
     "text": [
      "[('march 17', 29), ('nov 1', 1), None, None, None, None, None, ('march 33', 999), None, ('march 6', 20)]\n"
     ]
    }
   ],
   "source": [
    "t[\"march 33\"] = 999"
   ]
  },
  {
   "cell_type": "code",
   "execution_count": 124,
   "id": "fa4020c8",
   "metadata": {},
   "outputs": [
    {
     "data": {
      "text/plain": [
       "999"
      ]
     },
     "execution_count": 124,
     "metadata": {},
     "output_type": "execute_result"
    }
   ],
   "source": [
    "t[\"march 33\"]"
   ]
  },
  {
   "cell_type": "code",
   "execution_count": 125,
   "id": "74566cf2",
   "metadata": {},
   "outputs": [
    {
     "name": "stdout",
     "output_type": "stream",
     "text": [
      "[('march 17', 29), ('nov 1', 1), None, None, None, None, None, ('march 33', 999), ('april 1', 87), ('march 6', 20)]\n"
     ]
    }
   ],
   "source": [
    "t[\"april 1\"] = 87"
   ]
  },
  {
   "cell_type": "code",
   "execution_count": 126,
   "id": "f40fd9f5",
   "metadata": {},
   "outputs": [
    {
     "name": "stdout",
     "output_type": "stream",
     "text": [
      "[('march 17', 29), ('nov 1', 1), ('april 2', 123), None, None, None, None, ('march 33', 999), ('april 1', 87), ('march 6', 20)]\n"
     ]
    }
   ],
   "source": [
    "t[\"april 2\"] = 123"
   ]
  },
  {
   "cell_type": "code",
   "execution_count": 127,
   "id": "7b6c321d",
   "metadata": {},
   "outputs": [
    {
     "name": "stdout",
     "output_type": "stream",
     "text": [
      "[('march 17', 29), ('nov 1', 1), ('april 2', 123), ('april 3', 234234), None, None, None, ('march 33', 999), ('april 1', 87), ('march 6', 20)]\n"
     ]
    }
   ],
   "source": [
    "t[\"april 3\"] = 234234"
   ]
  },
  {
   "cell_type": "code",
   "execution_count": 128,
   "id": "fe96399b",
   "metadata": {},
   "outputs": [
    {
     "name": "stdout",
     "output_type": "stream",
     "text": [
      "[('march 17', 29), ('nov 1', 1), ('april 2', 123), ('april 3', 234234), ('april 4', 91), None, None, ('march 33', 999), ('april 1', 87), ('march 6', 20)]\n"
     ]
    }
   ],
   "source": [
    "t[\"april 4\"] = 91"
   ]
  },
  {
   "cell_type": "code",
   "execution_count": 129,
   "id": "a6ace530",
   "metadata": {},
   "outputs": [
    {
     "name": "stdout",
     "output_type": "stream",
     "text": [
      "[('march 17', 29), ('nov 1', 1), ('april 2', 123), ('april 3', 234234), ('april 4', 91), ('May 22', 4), None, ('march 33', 999), ('april 1', 87), ('march 6', 20)]\n"
     ]
    }
   ],
   "source": [
    "t[\"May 22\"] = 4"
   ]
  },
  {
   "cell_type": "code",
   "execution_count": 130,
   "id": "2bc9c95c",
   "metadata": {},
   "outputs": [
    {
     "name": "stdout",
     "output_type": "stream",
     "text": [
      "[('march 17', 29), ('nov 1', 1), ('april 2', 123), ('april 3', 234234), ('april 4', 91), ('May 22', 4), ('May 7', 47), ('march 33', 999), ('april 1', 87), ('march 6', 20)]\n"
     ]
    }
   ],
   "source": [
    "t[\"May 7\"] = 47"
   ]
  },
  {
   "cell_type": "code",
   "execution_count": 131,
   "id": "76ff4a88",
   "metadata": {},
   "outputs": [
    {
     "ename": "Exception",
     "evalue": "Hashmap Overflow",
     "output_type": "error",
     "traceback": [
      "\u001b[0;31m---------------------------------------------------------------------------\u001b[0m",
      "\u001b[0;31mException\u001b[0m                                 Traceback (most recent call last)",
      "Input \u001b[0;32mIn [131]\u001b[0m, in \u001b[0;36m<cell line: 1>\u001b[0;34m()\u001b[0m\n\u001b[0;32m----> 1\u001b[0m t[\u001b[38;5;124m\"\u001b[39m\u001b[38;5;124mJan 1\u001b[39m\u001b[38;5;124m\"\u001b[39m] \u001b[38;5;241m=\u001b[39m \u001b[38;5;241m0\u001b[39m\n",
      "Input \u001b[0;32mIn [116]\u001b[0m, in \u001b[0;36mHashTable.__setitem__\u001b[0;34m(self, key, val)\u001b[0m\n\u001b[1;32m     27\u001b[0m     \u001b[38;5;28mself\u001b[39m\u001b[38;5;241m.\u001b[39marr[h] \u001b[38;5;241m=\u001b[39m (key,val)\n\u001b[1;32m     28\u001b[0m \u001b[38;5;28;01melse\u001b[39;00m:\n\u001b[0;32m---> 29\u001b[0m     new_h \u001b[38;5;241m=\u001b[39m \u001b[38;5;28;43mself\u001b[39;49m\u001b[38;5;241;43m.\u001b[39;49m\u001b[43mfind_slot\u001b[49m\u001b[43m(\u001b[49m\u001b[43mkey\u001b[49m\u001b[43m,\u001b[49m\u001b[43m \u001b[49m\u001b[43mh\u001b[49m\u001b[43m)\u001b[49m\n\u001b[1;32m     30\u001b[0m     \u001b[38;5;28mself\u001b[39m\u001b[38;5;241m.\u001b[39marr[new_h] \u001b[38;5;241m=\u001b[39m (key,val)\n\u001b[1;32m     31\u001b[0m \u001b[38;5;28mprint\u001b[39m(\u001b[38;5;28mself\u001b[39m\u001b[38;5;241m.\u001b[39marr)\n",
      "Input \u001b[0;32mIn [116]\u001b[0m, in \u001b[0;36mHashTable.find_slot\u001b[0;34m(self, key, index)\u001b[0m\n\u001b[1;32m     41\u001b[0m     \u001b[38;5;28;01mif\u001b[39;00m \u001b[38;5;28mself\u001b[39m\u001b[38;5;241m.\u001b[39marr[prob_index][\u001b[38;5;241m0\u001b[39m] \u001b[38;5;241m==\u001b[39m key:\n\u001b[1;32m     42\u001b[0m         \u001b[38;5;28;01mreturn\u001b[39;00m prob_index\n\u001b[0;32m---> 43\u001b[0m \u001b[38;5;28;01mraise\u001b[39;00m \u001b[38;5;167;01mException\u001b[39;00m(\u001b[38;5;124m\"\u001b[39m\u001b[38;5;124mHashmap Overflow\u001b[39m\u001b[38;5;124m\"\u001b[39m)\n",
      "\u001b[0;31mException\u001b[0m: Hashmap Overflow"
     ]
    }
   ],
   "source": [
    "t[\"Jan 1\"] = 0"
   ]
  },
  {
   "cell_type": "code",
   "execution_count": 132,
   "id": "ecb1dbff",
   "metadata": {},
   "outputs": [
    {
     "name": "stdout",
     "output_type": "stream",
     "text": [
      "[('march 17', 29), ('nov 1', 1), None, ('april 3', 234234), ('april 4', 91), ('May 22', 4), ('May 7', 47), ('march 33', 999), ('april 1', 87), ('march 6', 20)]\n"
     ]
    }
   ],
   "source": [
    "del t[\"april 2\"]"
   ]
  },
  {
   "cell_type": "code",
   "execution_count": 133,
   "id": "4a1f8bc8",
   "metadata": {},
   "outputs": [
    {
     "name": "stdout",
     "output_type": "stream",
     "text": [
      "[('march 17', 29), ('nov 1', 1), ('Jan 1', 0), ('april 3', 234234), ('april 4', 91), ('May 22', 4), ('May 7', 47), ('march 33', 999), ('april 1', 87), ('march 6', 20)]\n"
     ]
    }
   ],
   "source": [
    "t[\"Jan 1\"] = 0"
   ]
  },
  {
   "cell_type": "code",
   "execution_count": 134,
   "id": "3c034f0a",
   "metadata": {},
   "outputs": [
    {
     "name": "stdout",
     "output_type": "stream",
     "text": [
      "Hashmap Overflow\n"
     ]
    }
   ],
   "source": [
    "try:\n",
    "    t[\"dec 31\"] = 99\n",
    "except Exception as e:\n",
    "    print(e)"
   ]
  },
  {
   "cell_type": "markdown",
   "id": "50561f87",
   "metadata": {},
   "source": [
    "<i>Here, once the initially initilised array is full, we are returning an exception stating, \"Hashmap Overflow\" for ease of implementation. However, in an actual implementation of Hash Table/Map, we were required to triple (increase by 2x) the size of the initial array, re-map the existing elements from the current array to the new array following the hash function's algorithm against the new size of the array, and finally insert the new element. This is a continuous process.</i>"
   ]
  }
 ],
 "metadata": {
  "kernelspec": {
   "display_name": "Python 3 (ipykernel)",
   "language": "python",
   "name": "python3"
  },
  "language_info": {
   "codemirror_mode": {
    "name": "ipython",
    "version": 3
   },
   "file_extension": ".py",
   "mimetype": "text/x-python",
   "name": "python",
   "nbconvert_exporter": "python",
   "pygments_lexer": "ipython3",
   "version": "3.9.12"
  }
 },
 "nbformat": 4,
 "nbformat_minor": 5
}
