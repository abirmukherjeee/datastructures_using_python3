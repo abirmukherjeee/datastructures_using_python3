{
 "cells": [
  {
   "cell_type": "markdown",
   "id": "2edf9c15",
   "metadata": {},
   "source": [
    "<h1>General (n-ary) Trees in Python</h1>"
   ]
  },
  {
   "cell_type": "markdown",
   "id": "650b8e48",
   "metadata": {},
   "source": [
    "<b><i>A tree is non-linear and a hierarchical data structure consisting of a collection of nodes such that each node of the tree stores a value and a list of references to other nodes. A tree data structure is used to represent and store hierarchical data such as organization hierachy, product categories, geographic locations, directory structure, etc.</i></b>"
   ]
  },
  {
   "cell_type": "markdown",
   "id": "ce4c13bd",
   "metadata": {},
   "source": [
    "Please read <a href=\"https://www.geeksforgeeks.org/introduction-to-tree-data-structure-and-algorithm-tutorials/\" target=\"_blank\">Introduction to Tree</a> from GFG."
   ]
  },
  {
   "cell_type": "markdown",
   "id": "8c16a76d",
   "metadata": {},
   "source": [
    "<i>Let us consider we are building an e-commerce website for electronic items, in which we want to categorically respresent and store our data as below:</i>\n",
    "\n",
    "<img align=\"left\" src=\"Categorised Products.png\" alt=\"Categorised Products\">"
   ]
  },
  {
   "cell_type": "markdown",
   "id": "db5d5871",
   "metadata": {},
   "source": [
    "<i>A look at the data above conveniently convinces us that we cannot use any of the linear data structures (arrays, linked lists, queues, stacks, etc.) for represeenting the hierarchical data above. Unlike linear data structures where the data is stored in sequence, each node in the data above needs to have a parent-child relationship with other nodes which cannot be defined in a linear data structure.</i>\n",
    "\n",
    "<b><i><font color=\"green\">Such hierarchical and categorically related data, are best represented using Trees.</i></b>"
   ]
  },
  {
   "cell_type": "markdown",
   "id": "c61766bb",
   "metadata": {},
   "source": [
    "<h2>Implement Gerenal n-ary Tree in Python</h2>"
   ]
  },
  {
   "cell_type": "markdown",
   "id": "067dac1c",
   "metadata": {},
   "source": [
    "<i>We will define a tree data structure and use it to store and represent the data above.</i>"
   ]
  },
  {
   "cell_type": "code",
   "execution_count": 51,
   "id": "54698d48",
   "metadata": {},
   "outputs": [],
   "source": [
    "class TreeNode:\n",
    "    def __init__(self, data):\n",
    "        self.data = data\n",
    "        self.children = []\n",
    "        self.parent = None\n",
    "        \n",
    "    def add_child(self, child):\n",
    "        child.parent = self #Define parent for child which has to be added\n",
    "        self.children.append(child) #Add child to the parent define above\n",
    "        \n",
    "    def get_level(self):\n",
    "        level = 0\n",
    "        p = self.parent\n",
    "        \n",
    "        while p:\n",
    "            level += 1\n",
    "            p = p.parent\n",
    "            \n",
    "        return level\n",
    "        \n",
    "    def print_tree(self):\n",
    "        prefix = ((\" \" * self.get_level() * 4) + \"|__\") if self.parent else \"\" #No prefix for root\n",
    "                                                                               #Ternary operator in Python\n",
    "        print(prefix + str(self.data))\n",
    "        \n",
    "        if self.children: #No need to check for children in leaf nodes\n",
    "            for child in self.children:\n",
    "                child.print_tree()"
   ]
  },
  {
   "cell_type": "code",
   "execution_count": 52,
   "id": "7dfce69e",
   "metadata": {},
   "outputs": [],
   "source": [
    "#Build product tree for electronic items\n",
    "\n",
    "def build_product_tree():\n",
    "    root = TreeNode(\"Electronics\")\n",
    "    \n",
    "    laptops = TreeNode(\"Laptops\")\n",
    "    root.add_child(laptops) #Define relationship between root and laptops node\n",
    "    \n",
    "    laptops.add_child(TreeNode(\"Macbook\")) #Define children of laptops node\n",
    "    laptops.add_child(TreeNode(\"Microsoft Surface\"))\n",
    "    laptops.add_child(TreeNode(\"Thinkpad\"))\n",
    "    \n",
    "    cell_phones = TreeNode(\"Cell Phones\")\n",
    "    root.add_child(cell_phones)\n",
    "    \n",
    "    cell_phones.add_child(TreeNode(\"iPhone\"))\n",
    "    cell_phones.add_child(TreeNode(\"Google Pixel\"))\n",
    "    cell_phones.add_child(TreeNode(\"Vivo\"))\n",
    "    \n",
    "    televisions = TreeNode(\"Televisions\")\n",
    "    root.add_child(televisions)\n",
    "    \n",
    "    televisions.add_child(TreeNode(\"Samsung\"))\n",
    "    televisions.add_child(TreeNode(\"LG\"))\n",
    "    \n",
    "    return root"
   ]
  },
  {
   "cell_type": "code",
   "execution_count": 53,
   "id": "d3988c2e",
   "metadata": {},
   "outputs": [
    {
     "name": "stdout",
     "output_type": "stream",
     "text": [
      "Electronics\n",
      "    |__Laptops\n",
      "        |__Macbook\n",
      "        |__Microsoft Surface\n",
      "        |__Thinkpad\n",
      "    |__Cell Phones\n",
      "        |__iPhone\n",
      "        |__Google Pixel\n",
      "        |__Vivo\n",
      "    |__Televisions\n",
      "        |__Samsung\n",
      "        |__LG\n"
     ]
    }
   ],
   "source": [
    "if __name__ == \"__main__\":\n",
    "    root = build_product_tree()\n",
    "    root.print_tree()"
   ]
  },
  {
   "cell_type": "markdown",
   "id": "6a4c9090",
   "metadata": {},
   "source": [
    "<h2>Exercise 1</h2>"
   ]
  },
  {
   "cell_type": "markdown",
   "id": "50b684a6",
   "metadata": {},
   "source": [
    "Below is the management hierarchy of a company:\n",
    "\n",
    "<img align=\"left\" src=\"exercise-1_1.png\" alt=\"exercise-1_1\">"
   ]
  },
  {
   "cell_type": "markdown",
   "id": "e6f22a64",
   "metadata": {},
   "source": [
    "Extend tree class built above so that it takes name and designation in data part of TreeNode class. Now extend print_tree function such that it can print either name tree, designation tree or name and designation tree. As shown below:\n",
    "\n",
    "<img align=\"left\" src=\"exercise-1_2.png\" alt=\"exercise-1_2\">"
   ]
  },
  {
   "cell_type": "markdown",
   "id": "e1c12215",
   "metadata": {},
   "source": [
    "Here is how your main function should will look like:\n",
    "\n",
    "if __name__ == '__main__': <br>\n",
    "    &emsp; root_node = build_management_tree() <br>\n",
    "    &emsp; root_node.print_tree(\"name\") # prints only name hierarchy <br>\n",
    "    &emsp; root_node.print_tree(\"designation\") # prints only designation hierarchy <br>\n",
    "    &emsp; root_node.print_tree(\"both\") # prints both (name and designation) hierarchy <br>"
   ]
  },
  {
   "cell_type": "code",
   "execution_count": 70,
   "id": "c04432a0",
   "metadata": {},
   "outputs": [],
   "source": [
    "class TreeNode:\n",
    "    def __init__(self, name, designation):\n",
    "        self.name = name\n",
    "        self.designation = designation\n",
    "        self.children = []\n",
    "        self.parent = None\n",
    "        \n",
    "    def add_child(self, child):\n",
    "        child.parent = self #Define parent for child which has to be added\n",
    "        self.children.append(child) #Add child to the parent define above\n",
    "        \n",
    "    def get_level(self):\n",
    "        level = 0\n",
    "        p = self.parent\n",
    "        \n",
    "        while p:\n",
    "            level += 1\n",
    "            p = p.parent\n",
    "            \n",
    "        return level\n",
    "        \n",
    "    def print_tree(self, property_type):\n",
    "        prefix = ((\" \" * self.get_level() * 4) + \"|__\") if self.parent else \"\" #No prefix for root\n",
    "                                                                               #Ternary operator in Python\n",
    "            \n",
    "        if property_type.lower() == \"both\":\n",
    "            print(prefix + str(self.name) + \"(\" + str(self.designation) + \")\")\n",
    "            \n",
    "        elif property_type.lower() == \"name\":\n",
    "            print(prefix + str(self.name))\n",
    "            \n",
    "        elif property_type.lower() == \"designation\":\n",
    "            print(prefix + str(self.designation))\n",
    "            \n",
    "        else:\n",
    "            print(\"No such property.\")\n",
    "            return\n",
    "        \n",
    "        if self.children: #No need to check for children in leaf nodes\n",
    "            for child in self.children:\n",
    "                child.print_tree(property_type)"
   ]
  },
  {
   "cell_type": "code",
   "execution_count": 71,
   "id": "d30e8724",
   "metadata": {},
   "outputs": [],
   "source": [
    "def build_management_tree():\n",
    "    ceo = TreeNode(\"Nilupul\", \"CEO\")\n",
    "    \n",
    "    cto = TreeNode(\"Chinmay\", \"CTO\")\n",
    "    ceo.add_child(cto)\n",
    "    \n",
    "    infra_head = TreeNode(\"Vishwa\", \"Infrastructure Head\")\n",
    "    cto.add_child(infra_head)\n",
    "    \n",
    "    infra_head.add_child(TreeNode(\"Dhaval\", \"Cloud Manager\"))\n",
    "    infra_head.add_child(TreeNode(\"Abhijit\", \"App Manager\"))\n",
    "    \n",
    "    cto.add_child(TreeNode(\"Aamir\", \"Application Head\"))\n",
    "    \n",
    "    hr_head = TreeNode(\"Gels\", \"HR Head\")\n",
    "    ceo.add_child(hr_head)\n",
    "    \n",
    "    hr_head.add_child(TreeNode(\"Peter\", \"Recruitment Manager\"))\n",
    "    hr_head.add_child(TreeNode(\"Waqas\", \"Policy Manager\"))\n",
    "    \n",
    "    return ceo"
   ]
  },
  {
   "cell_type": "code",
   "execution_count": 72,
   "id": "98b59dd3",
   "metadata": {},
   "outputs": [
    {
     "name": "stdout",
     "output_type": "stream",
     "text": [
      "CEO\n",
      "    |__CTO\n",
      "        |__Infrastructure Head\n",
      "            |__Cloud Manager\n",
      "            |__App Manager\n",
      "        |__Application Head\n",
      "    |__HR Head\n",
      "        |__Recruitment Manager\n",
      "        |__Policy Manager\n"
     ]
    }
   ],
   "source": [
    "if __name__ == \"__main__\":\n",
    "    root = build_management_tree()\n",
    "    root.print_tree(\"DESIGNATION\")"
   ]
  },
  {
   "cell_type": "code",
   "execution_count": 73,
   "id": "23f4d0eb",
   "metadata": {},
   "outputs": [
    {
     "name": "stdout",
     "output_type": "stream",
     "text": [
      "Nilupul\n",
      "    |__Chinmay\n",
      "        |__Vishwa\n",
      "            |__Dhaval\n",
      "            |__Abhijit\n",
      "        |__Aamir\n",
      "    |__Gels\n",
      "        |__Peter\n",
      "        |__Waqas\n"
     ]
    }
   ],
   "source": [
    "root.print_tree(\"name\")"
   ]
  },
  {
   "cell_type": "code",
   "execution_count": 74,
   "id": "0ce088ad",
   "metadata": {},
   "outputs": [
    {
     "name": "stdout",
     "output_type": "stream",
     "text": [
      "Nilupul(CEO)\n",
      "    |__Chinmay(CTO)\n",
      "        |__Vishwa(Infrastructure Head)\n",
      "            |__Dhaval(Cloud Manager)\n",
      "            |__Abhijit(App Manager)\n",
      "        |__Aamir(Application Head)\n",
      "    |__Gels(HR Head)\n",
      "        |__Peter(Recruitment Manager)\n",
      "        |__Waqas(Policy Manager)\n"
     ]
    }
   ],
   "source": [
    "root.print_tree(\"Both\")"
   ]
  },
  {
   "cell_type": "markdown",
   "id": "baa34c45",
   "metadata": {},
   "source": [
    "<h2>Exercise 2</h2>"
   ]
  },
  {
   "cell_type": "markdown",
   "id": "2f463671",
   "metadata": {},
   "source": [
    "Build below location tree using <b>TreeNode</b> class\n",
    "\n",
    "<img align=\"left\" src=\"exercise-2_1.png\" alt=\"exercise-2_1\">"
   ]
  },
  {
   "cell_type": "markdown",
   "id": "89c21754",
   "metadata": {},
   "source": [
    "Now modify print_tree method to take tree level as input. And that should print tree only upto that level as shown below:\n",
    "\n",
    "<img align=\"left\" src=\"exercise-2_2.png\" alt=\"exercise-2_2\">"
   ]
  },
  {
   "cell_type": "code",
   "execution_count": 2,
   "id": "027239bf",
   "metadata": {},
   "outputs": [],
   "source": [
    "class TreeNode:\n",
    "    def __init__(self, data):\n",
    "        self.data = data\n",
    "        self.children = []\n",
    "        self.parent = None\n",
    "        \n",
    "    def add_child(self, child):\n",
    "        child.parent = self #Define parent for child which has to be added\n",
    "        self.children.append(child) #Add child to the parent define above\n",
    "        \n",
    "    def get_level(self):\n",
    "        level = 0\n",
    "        p = self.parent\n",
    "        \n",
    "        while p:\n",
    "            level += 1\n",
    "            p = p.parent\n",
    "            \n",
    "        return level\n",
    "        \n",
    "    def print_tree(self, level):\n",
    "        if self.get_level() > level:\n",
    "            return\n",
    "        \n",
    "        prefix = ((\" \" * self.get_level() * 4) + \"|__\") if self.parent else \"\" #No prefix for root\n",
    "                                                                               #Ternary operator in Python\n",
    "        print(prefix + str(self.data))\n",
    "        \n",
    "        if self.children: #No need to check for children in leaf nodes\n",
    "            for child in self.children:\n",
    "                child.print_tree(level)"
   ]
  },
  {
   "cell_type": "code",
   "execution_count": 3,
   "id": "f0d70432",
   "metadata": {},
   "outputs": [],
   "source": [
    "def build_location_tree():\n",
    "    root = TreeNode(\"Global\")\n",
    "    \n",
    "    india = TreeNode(\"India\")\n",
    "    gujrat = TreeNode(\"Gujrat\")\n",
    "    gujrat.add_child(TreeNode(\"Ahmedabad\"))\n",
    "    gujrat.add_child(TreeNode(\"Baroda\"))\n",
    "    karnataka = TreeNode(\"Karnataka\")\n",
    "    karnataka.add_child(TreeNode(\"Bengaluru\"))\n",
    "    karnataka.add_child(TreeNode(\"Mysore\"))\n",
    "    \n",
    "    india.add_child(gujrat)\n",
    "    india.add_child(karnataka)\n",
    "    \n",
    "    root.add_child(india)\n",
    "    \n",
    "    usa = TreeNode(\"USA\")\n",
    "    new_jersey = TreeNode(\"New Jersey\")\n",
    "    new_jersey.add_child(TreeNode(\"Princeton\"))\n",
    "    new_jersey.add_child(TreeNode(\"Trenton\"))\n",
    "    california = TreeNode(\"California\")\n",
    "    california.add_child(TreeNode(\"San Francisco\"))\n",
    "    california.add_child(TreeNode(\"Mountain View\"))\n",
    "    california.add_child(TreeNode(\"Palo Alto\"))\n",
    "    \n",
    "    usa.add_child(new_jersey)\n",
    "    usa.add_child(california)\n",
    "    \n",
    "    root.add_child(usa)\n",
    "    \n",
    "    return root"
   ]
  },
  {
   "cell_type": "code",
   "execution_count": 4,
   "id": "57fa2f06",
   "metadata": {},
   "outputs": [
    {
     "name": "stdout",
     "output_type": "stream",
     "text": [
      "Global\n",
      "    |__India\n",
      "    |__USA\n"
     ]
    }
   ],
   "source": [
    "root_node = build_location_tree()\n",
    "root_node.print_tree(1)"
   ]
  },
  {
   "cell_type": "code",
   "execution_count": 5,
   "id": "c23add96",
   "metadata": {},
   "outputs": [
    {
     "name": "stdout",
     "output_type": "stream",
     "text": [
      "Global\n",
      "    |__India\n",
      "        |__Gujrat\n",
      "        |__Karnataka\n",
      "    |__USA\n",
      "        |__New Jersey\n",
      "        |__California\n"
     ]
    }
   ],
   "source": [
    "root_node.print_tree(2)"
   ]
  },
  {
   "cell_type": "code",
   "execution_count": 6,
   "id": "dbac648f",
   "metadata": {},
   "outputs": [
    {
     "name": "stdout",
     "output_type": "stream",
     "text": [
      "Global\n",
      "    |__India\n",
      "        |__Gujrat\n",
      "            |__Ahmedabad\n",
      "            |__Baroda\n",
      "        |__Karnataka\n",
      "            |__Bengaluru\n",
      "            |__Mysore\n",
      "    |__USA\n",
      "        |__New Jersey\n",
      "            |__Princeton\n",
      "            |__Trenton\n",
      "        |__California\n",
      "            |__San Francisco\n",
      "            |__Mountain View\n",
      "            |__Palo Alto\n"
     ]
    }
   ],
   "source": [
    "root_node.print_tree(3)"
   ]
  }
 ],
 "metadata": {
  "kernelspec": {
   "display_name": "Python 3 (ipykernel)",
   "language": "python",
   "name": "python3"
  },
  "language_info": {
   "codemirror_mode": {
    "name": "ipython",
    "version": 3
   },
   "file_extension": ".py",
   "mimetype": "text/x-python",
   "name": "python",
   "nbconvert_exporter": "python",
   "pygments_lexer": "ipython3",
   "version": "3.9.12"
  }
 },
 "nbformat": 4,
 "nbformat_minor": 5
}
