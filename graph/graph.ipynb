{
 "cells": [
  {
   "cell_type": "markdown",
   "id": "b02b97a2",
   "metadata": {},
   "source": [
    "<h1>Graph in Python</h1>"
   ]
  },
  {
   "cell_type": "markdown",
   "id": "39bf5f66",
   "metadata": {},
   "source": [
    "<b><i>Graphs in data structures are non-linear data structures made up of a finite number of nodes or vertices and the edges that connect them.</i></b>\n",
    "\n",
    "<i>Graphs in data structures are used to address real-world problems in which it represents the problem area as a network like telephone networks, circuit networks and social networks.<i>\n",
    "    \n",
    "Please read <a href=\"https://www.geeksforgeeks.org/graph-data-structure-and-algorithms/\" target=\"_blank\">Graph Data Structure And Algorithms</a> from GFG."
   ]
  },
  {
   "cell_type": "markdown",
   "id": "078c6808",
   "metadata": {},
   "source": [
    "<i>An example of graph data-structure is our social media platforms where every profile is a node and the connection between them is formed by edges. If two profiles have connected using connection requests, there is an edge between them and if they haven't, there isn't an edge between them. Also, what we see as connection suggestions are an utility of graph data structure, wherein a connection of our existing connections are suggested as people we might know.</i>"
   ]
  },
  {
   "cell_type": "markdown",
   "id": "7afc12fa",
   "metadata": {},
   "source": [
    "<i>Platforms like Facebook and LinkedIn use undirected graphs where upon accepting the connection request either profiles are connected to each other and can view each other's profile activities and updates. A platform like Instagram uses directed graphs, wherein a follower sends a follow request, that if approved, a directed access is established for viewing the target profile. The target profile cannot view the profile of the follower unless they send back a follow request that establishes a connection (edge) in the reverse direction.</i>\n",
    "\n",
    "<i>Platforms like Google Maps and MakeMyTrip internally make use of graph data structures to view direction of roads to reach a destination and booking flights respectively. Connection suggestions in social media platforms and product suggestions in online shopping platforms are also implementations of graph data-structure. Infact, the entire topology of internet and it's users can be visualised as a graph data-structure, with the end-users, servers being considered as nodes, and an established connection between them as edges between the nodes.</i>"
   ]
  },
  {
   "cell_type": "markdown",
   "id": "89ac6548",
   "metadata": {},
   "source": [
    "<i>An example of directed graph consisting of a network of flight routes is below:</i>\n",
    "\n",
    "<img align=\"left\" src=\"Directed Flight Routes.png\" alt=\"Directed Flight Routes\">"
   ]
  },
  {
   "cell_type": "markdown",
   "id": "b7703a8f",
   "metadata": {},
   "source": [
    "<i>A basic difference between a tree and a graph data structure is that in a tree there can be only one path between any two nodes. However, in graph data structure, there can be any random number of paths between any two nodes. For example, in the above graph of directed flight routes, there are 3 possible paths between Mumbai and New York:</i>\n",
    "\n",
    "1. <i>Mumbai-Paris-New York</i>\n",
    "2. <i>Mumbai-Dubai-New York</i>\n",
    "3. <i>Mumbai-Paris-Dubai-New York</i>\n",
    "\n",
    "<i>This is not possible in a tree data structure. However, tree can be considered as a specific implementation of graph data structure.</i>"
   ]
  },
  {
   "cell_type": "markdown",
   "id": "a1dca384",
   "metadata": {},
   "source": [
    "<h2>Implement Graph Data-structure in Python</h2>"
   ]
  },
  {
   "cell_type": "markdown",
   "id": "9288e0fa",
   "metadata": {},
   "source": [
    "<i>Taking the above directed graph, let us represent the connection between 2 nodes using tuples where every tuple will indicate a direct route.</i>\n",
    "\n",
    "1. <i>(\"Mumbai\", \"Paris\")</i>\n",
    "2. <i>(\"Mumbai\", \"Dubai\")</i>\n",
    "3. <i>(\"Paris\", \"Dubai\")</i>\n",
    "4. <i>(\"Paris\", \"New York\")</i>\n",
    "5. <i>(\"Dubai\", \"New York\")</i>\n",
    "6. <i>(\"New York\", \"Toronto\")</i>\n",
    "\n",
    "<i>Above 6 is the list of direct connections from the graph, where every tuple, the first element represents the starting node and the second element represents the destination node.</i>"
   ]
  },
  {
   "cell_type": "markdown",
   "id": "380de87b",
   "metadata": {},
   "source": [
    "<i>Let us do the below operations for the above directed graph:</i>\n",
    "\n",
    "1. <i>Find all possible paths between two nodes (cities)</i>\n",
    "2. <i>Find path with least number of edges (stops, i.e. layovers) between two nodes (cities)</i>"
   ]
  },
  {
   "cell_type": "code",
   "execution_count": 1,
   "id": "791169ae",
   "metadata": {},
   "outputs": [],
   "source": [
    "#List of routes\n",
    "routes = [\n",
    "    (\"Mumbai\", \"Paris\"),\n",
    "    (\"Mumbai\", \"Dubai\"),\n",
    "    (\"Paris\", \"Dubai\"),\n",
    "    (\"Paris\", \"New York\"),\n",
    "    (\"Dubai\", \"New York\"),\n",
    "    (\"New York\", \"Toronto\")\n",
    "]"
   ]
  },
  {
   "cell_type": "markdown",
   "id": "77dd7505",
   "metadata": {},
   "source": [
    "<i>The above list of tuples is the simplest form of input we can give to our graph. However, while performing the above two intended operations, it will be quite an expensive operation to repetedly read from the list above and determine the result. If we can transform the above list of tuples, into a dictionary as shown below, the operations might be vastly simplified.</i>\n",
    "\n",
    "<i>{\n",
    "    \"Mumbai\": [\"Paris\", \"Dubai\"],\n",
    "    \"Paris\": [\"Dubai\", \"New York\"],\n",
    "    \"Dubai\": [\"New York\"],\n",
    "    \"New York\": [\"Toronto\"]\n",
    "}</i>"
   ]
  },
  {
   "cell_type": "code",
   "execution_count": 2,
   "id": "98a26107",
   "metadata": {},
   "outputs": [],
   "source": [
    "class Graph:\n",
    "    def __init__(self, edges):\n",
    "        self.edges = edges\n",
    "        \n",
    "        self.graph_dict = dict()\n",
    "        for start, end in self.edges:\n",
    "            if start not in self.graph_dict:\n",
    "                self.graph_dict[start] = [end]\n",
    "            else:\n",
    "                self.graph_dict[start].append(end)\n",
    "                \n",
    "        print(\"Graph dictionary:\", self.graph_dict) #Just for visualization"
   ]
  },
  {
   "cell_type": "code",
   "execution_count": 3,
   "id": "96a37253",
   "metadata": {},
   "outputs": [
    {
     "name": "stdout",
     "output_type": "stream",
     "text": [
      "Graph dictionary: {'Mumbai': ['Paris', 'Dubai'], 'Paris': ['Dubai', 'New York'], 'Dubai': ['New York'], 'New York': ['Toronto']}\n"
     ]
    }
   ],
   "source": [
    "if __name__ == \"__main__\":\n",
    "    routes = [\n",
    "        (\"Mumbai\", \"Paris\"),\n",
    "        (\"Mumbai\", \"Dubai\"),\n",
    "        (\"Paris\", \"Dubai\"),\n",
    "        (\"Paris\", \"New York\"),\n",
    "        (\"Dubai\", \"New York\"),\n",
    "        (\"New York\", \"Toronto\")\n",
    "    ]\n",
    "    \n",
    "    route_graph = Graph(routes)"
   ]
  },
  {
   "cell_type": "markdown",
   "id": "cc3beedd",
   "metadata": {},
   "source": [
    "<i>We can see the intended dictionary is prepared. Let's proceed with finding all possible routes between two nodes and the path with least edges between two nodes.</i>"
   ]
  },
  {
   "cell_type": "markdown",
   "id": "90929d02",
   "metadata": {},
   "source": [
    "<b><i>Just like Tree, Graph is a recursive data-structure.</i></b>"
   ]
  },
  {
   "cell_type": "code",
   "execution_count": 4,
   "id": "90dd1e2b",
   "metadata": {},
   "outputs": [],
   "source": [
    "class Graph:\n",
    "    def __init__(self, edges):\n",
    "        self.edges = edges\n",
    "        \n",
    "        self.graph_dict = dict()\n",
    "        for start, end in self.edges:\n",
    "            if start not in self.graph_dict:\n",
    "                self.graph_dict[start] = [end]\n",
    "            else:\n",
    "                self.graph_dict[start].append(end)\n",
    "                \n",
    "    def get_all_paths(self, start, end, path = []): #Get all possible paths between \"start\" and \"end\"\n",
    "        path = path + [start]\n",
    "        \n",
    "        if start == end: #Recursion base condition\n",
    "            return path\n",
    "        \n",
    "        if start not in self.graph_dict: #Edge case - No route originating from \"start\"\n",
    "            return []\n",
    "        \n",
    "        #Regular case - Recursion\n",
    "        paths = list()\n",
    "        \n",
    "        for node in self.graph_dict[start]: #Iterate over all direct routes from \"start\"\n",
    "            if node not in path: #Check if node is already traversed\n",
    "                new_paths = self.get_all_paths(node, end, path) #Recursive call to get path between node and \"end\"\n",
    "                \n",
    "                for p in new_paths: #List of all possible paths between \"start\" and \"end\"\n",
    "                    paths.append(p)\n",
    "                    \n",
    "        return paths\n",
    "    \n",
    "    def get_minimum_stops_path(self, start, end, path = []): #Get path with minimum stops between \"start\" and \"end\"\n",
    "        path = path + [start]\n",
    "        \n",
    "        if start == end: #Recursion base condition\n",
    "            return path\n",
    "        \n",
    "        if start not in self.graph_dict: #Edge case - No route originating from \"start\"\n",
    "            return None\n",
    "        \n",
    "        #Regular case - Recursion\n",
    "        minimum_stops_path = None\n",
    "        \n",
    "        for node in self.graph_dict[start]: #Iterate over all direct routes from \"start\"\n",
    "            if node not in path: #Check if node is already traversed\n",
    "                new_path = self.get_minimum_stops_path(node, end, path)\n",
    "                \n",
    "                if new_path: #Mandatory check as edge case can return \"None\"\n",
    "                    if minimum_stops_path is None or len(new_path) < len(minimum_stops_path):\n",
    "                        minimum_stops_path = new_path\n",
    "                        \n",
    "        return minimum_stops_path"
   ]
  },
  {
   "cell_type": "code",
   "execution_count": 5,
   "id": "6ca4a57c",
   "metadata": {},
   "outputs": [
    {
     "name": "stdout",
     "output_type": "stream",
     "text": [
      "All possible paths between Mumbai and Mumbai: ['Mumbai']\n",
      "Minimum stops paths between Mumbai and Mumbai: ['Mumbai']\n",
      "\n",
      "All possible path between Toronto and Mumbai: []\n",
      "Minimum stops paths between Toronto and Mumbai: None\n",
      "\n",
      "All possible path between Mumbai and New York: ['Mumbai', 'Paris', 'Dubai', 'New York', 'Mumbai', 'Paris', 'New York', 'Mumbai', 'Dubai', 'New York']\n",
      "Minimum stops paths between Mumbai and New York: ['Mumbai', 'Paris', 'New York']\n",
      "\n",
      "All possible path between Paris and New York: ['Paris', 'Dubai', 'New York', 'Paris', 'New York']\n",
      "Minimum stops paths between Paris and New York: ['Paris', 'New York']\n"
     ]
    }
   ],
   "source": [
    "if __name__ == \"__main__\":\n",
    "    routes = [\n",
    "        (\"Mumbai\", \"Paris\"),\n",
    "        (\"Mumbai\", \"Dubai\"),\n",
    "        (\"Paris\", \"Dubai\"),\n",
    "        (\"Paris\", \"New York\"),\n",
    "        (\"Dubai\", \"New York\"),\n",
    "        (\"New York\", \"Toronto\")\n",
    "    ]\n",
    "    \n",
    "    route_graph = Graph(routes)\n",
    "    \n",
    "    start, end = \"Mumbai\", \"Mumbai\" #Check when start and end is same\n",
    "    print(f\"All possible paths between {start} and {end}:\", route_graph.get_all_paths(start, end))\n",
    "    print(f\"Minimum stops paths between {start} and {end}:\", route_graph.get_minimum_stops_path(start,end))\n",
    "    print()\n",
    "    \n",
    "    start, end = \"Toronto\", \"Mumbai\" #Check when start has no routes starting from itself\n",
    "    print(f\"All possible path between {start} and {end}:\", route_graph.get_all_paths(start, end))\n",
    "    print(f\"Minimum stops paths between {start} and {end}:\", route_graph.get_minimum_stops_path(start,end))\n",
    "    print()\n",
    "    \n",
    "    start, end = \"Mumbai\", \"New York\" #Regular case\n",
    "    print(f\"All possible path between {start} and {end}:\", route_graph.get_all_paths(start, end))\n",
    "    print(f\"Minimum stops paths between {start} and {end}:\", route_graph.get_minimum_stops_path(start,end))\n",
    "    print()\n",
    "    \n",
    "    start, end = \"Paris\", \"New York\" #Regular case\n",
    "    print(f\"All possible path between {start} and {end}:\", route_graph.get_all_paths(start, end))\n",
    "    print(f\"Minimum stops paths between {start} and {end}:\", route_graph.get_minimum_stops_path(start,end))"
   ]
  }
 ],
 "metadata": {
  "kernelspec": {
   "display_name": "Python 3 (ipykernel)",
   "language": "python",
   "name": "python3"
  },
  "language_info": {
   "codemirror_mode": {
    "name": "ipython",
    "version": 3
   },
   "file_extension": ".py",
   "mimetype": "text/x-python",
   "name": "python",
   "nbconvert_exporter": "python",
   "pygments_lexer": "ipython3",
   "version": "3.9.12"
  }
 },
 "nbformat": 4,
 "nbformat_minor": 5
}
