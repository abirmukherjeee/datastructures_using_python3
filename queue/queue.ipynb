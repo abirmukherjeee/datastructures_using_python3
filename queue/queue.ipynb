{
 "cells": [
  {
   "cell_type": "markdown",
   "id": "78edea30",
   "metadata": {},
   "source": [
    "<h1>Python Queue</h1>"
   ]
  },
  {
   "cell_type": "markdown",
   "id": "5e9516d5",
   "metadata": {},
   "source": [
    "<b><i>A queue is defined as a linear data structure that is open at both ends and the operations are performed in First In First Out (FIFO) order.</i></b>\n",
    "\n",
    "<i>We define a queue to be a list in which all additions to the list are made at one end, and all deletions from the list are made at the other end.  The element which is first pushed into the order, the operation is first performed on that.</i>"
   ]
  },
  {
   "cell_type": "markdown",
   "id": "bb927cbc",
   "metadata": {},
   "source": [
    "<i>A real life example of a queue can be seen in a ticket counter, where the person who gets in the line earlier, also leaves the line earlier when compared to people who got in the line later.</i>"
   ]
  },
  {
   "cell_type": "markdown",
   "id": "8ad9e576",
   "metadata": {},
   "source": [
    "<b><i>How do portals like Yahoo Finance or Money Control consume the price of stocks and make it available for us to track? These portals get their input feed from a stock exchange like Bombay Stock Exchange. Coming to the technical architecture, the engineering team at BSE will be continuously providing the prices of respective stocks to these portals. But how does a portal like Yahoo Finance consume this information being sent by BSE?</i></b>"
   ]
  },
  {
   "cell_type": "markdown",
   "id": "f23b215f",
   "metadata": {},
   "source": [
    "<h5>Micro-service Architecture</h5>\n",
    "\n",
    "<i>One way to receive the prices of respective stocks if for Yahoo Finance to build a HTTP server and BSE to continuouly make HTTP POST API synchronous calls to the HTTP server to communicate the information in the form of a JSON objects.</i>\n",
    "    \n",
    "<i>But what would happen if the HTTP server needs maintenance or is down for any reason for as little as 5 minutes? In that case, BSE would be making the HTTP POST API calls but it would only be resulting in loss of data - the prices that were posted during the time the HTTP server was down would be lost. For the portal, once the HTTP server comes back up after 5 minutes, there would be no way to retrieve the old lost prices for which BSE had made synchronous HTTP POST API calls.</i>\n",
    "\n",
    "<i>Also, what if tomorrow Google Finance and Money Control also want to consume the prices of respective stocks from BSE?Now, the team at BSE have to update their code and add Google's and Money Control's URL to post the prices to their portals. This is called a tightly coupled architecture which has a lot of issues, like - every time a new consumer is to be on-boarded, the respective URL needs to be added by the producer. Also, if there is any change in the URL at the consumer end, the same has to be updated by the producer to ensure data is sent to the correct end-points.</i>"
   ]
  },
  {
   "cell_type": "markdown",
   "id": "ac1c89be",
   "metadata": {},
   "source": [
    "<h5>Queue Architecture</h5>\n",
    "\n",
    "<i>What if there was a memory buffer where BSE could just upload the prices of respective stocks every minute for the consumers to consume? Portals like Yahoo Finance could just read the prices from the buffer in the order they were entered. Also, once Yahoo Finance consumes the price of a stock at a paticular time, their pointer will move to the next element to read the prices of the stocks at the next minute, leaving Google Finance and Money Control to consume prices that Yahoo Finance might already have consumed if their respective pointers point to those elements. This is possible because each portal will have their respective pointers which will consume the price of the respective stock at the minute the pointer is pointing.</i>\n",
    "\n",
    "<b><i>This memory buffer we used and the architure it followed for inserting and consuming information is the implementation of a Stack data-structure.</i></b>\n",
    "\n",
    "<i>It also enables loose coupling between the systems, i.e. tomorrow, if IND Money intends to get the prices of respective stocks from BSE, IND Money can start reading the information pushed by BSE in the memory buffer without the team at BSE requiring to perform any additional action. <b>A queue is thus a very flexible data-structure with very minimal issues.</b></i>\n",
    "\n",
    "<i>The architecture we just talked about above is also called the producer-consumer problem, where one entity produce some information and some other entities are consuming the information produced by a producer in a way that they are not tightly coupled.</i>\n",
    "\n",
    "<b><i>Here, whatever is pushed first in the buffer is consumed first, hence it is called FIFO (First In First Out) data-structure, unlike Stack.</i></b>\n",
    "\n",
    "<img align=\"left\" src=\"Queue Producer Consumer.png\" alt=\"Stack LIFO\" style=\"border: 5px solid #555;\">"
   ]
  },
  {
   "cell_type": "markdown",
   "id": "76776145",
   "metadata": {},
   "source": [
    "<h2>Python Queue ADT Implementation using Python List</h2>"
   ]
  },
  {
   "cell_type": "code",
   "execution_count": 1,
   "id": "8ff348c7",
   "metadata": {},
   "outputs": [],
   "source": [
    "stock_price_queue = []"
   ]
  },
  {
   "cell_type": "code",
   "execution_count": 2,
   "id": "2e3254ad",
   "metadata": {},
   "outputs": [],
   "source": [
    "#We always insert at the 0th index\n",
    "\n",
    "stock_price_queue.insert(0, 131.10)\n",
    "stock_price_queue.insert(0, 132.12)\n",
    "stock_price_queue.insert(0, 135)"
   ]
  },
  {
   "cell_type": "code",
   "execution_count": 3,
   "id": "74af5daa",
   "metadata": {},
   "outputs": [
    {
     "data": {
      "text/plain": [
       "[135, 132.12, 131.1]"
      ]
     },
     "execution_count": 3,
     "metadata": {},
     "output_type": "execute_result"
    }
   ],
   "source": [
    "stock_price_queue"
   ]
  },
  {
   "cell_type": "markdown",
   "id": "573b1165",
   "metadata": {},
   "source": [
    "<i>We can see that 131.1 was the first element we inserted. However, as newer elements were pushed into the list after 131.1, 131.1 kept moving further down the list.<b> As we know that queue is a first-in first-out data-structure, 131.1 should be the first element we consume from this queue.</b></i>"
   ]
  },
  {
   "cell_type": "code",
   "execution_count": 4,
   "id": "be70942a",
   "metadata": {},
   "outputs": [
    {
     "data": {
      "text/plain": [
       "131.1"
      ]
     },
     "execution_count": 4,
     "metadata": {},
     "output_type": "execute_result"
    }
   ],
   "source": [
    "stock_price_queue.pop()"
   ]
  },
  {
   "cell_type": "code",
   "execution_count": 5,
   "id": "387499fe",
   "metadata": {},
   "outputs": [
    {
     "data": {
      "text/plain": [
       "[135, 132.12]"
      ]
     },
     "execution_count": 5,
     "metadata": {},
     "output_type": "execute_result"
    }
   ],
   "source": [
    "stock_price_queue"
   ]
  },
  {
   "cell_type": "code",
   "execution_count": 6,
   "id": "dfbca014",
   "metadata": {},
   "outputs": [
    {
     "data": {
      "text/plain": [
       "132.12"
      ]
     },
     "execution_count": 6,
     "metadata": {},
     "output_type": "execute_result"
    }
   ],
   "source": [
    "stock_price_queue.pop()"
   ]
  },
  {
   "cell_type": "code",
   "execution_count": 7,
   "id": "0b23fa19",
   "metadata": {},
   "outputs": [
    {
     "data": {
      "text/plain": [
       "[135]"
      ]
     },
     "execution_count": 7,
     "metadata": {},
     "output_type": "execute_result"
    }
   ],
   "source": [
    "stock_price_queue"
   ]
  },
  {
   "cell_type": "code",
   "execution_count": 8,
   "id": "650d5907",
   "metadata": {},
   "outputs": [
    {
     "data": {
      "text/plain": [
       "135"
      ]
     },
     "execution_count": 8,
     "metadata": {},
     "output_type": "execute_result"
    }
   ],
   "source": [
    "stock_price_queue.pop()"
   ]
  },
  {
   "cell_type": "code",
   "execution_count": 9,
   "id": "29456c0f",
   "metadata": {},
   "outputs": [
    {
     "data": {
      "text/plain": [
       "[]"
      ]
     },
     "execution_count": 9,
     "metadata": {},
     "output_type": "execute_result"
    }
   ],
   "source": [
    "stock_price_queue"
   ]
  },
  {
   "cell_type": "code",
   "execution_count": 10,
   "id": "459b96a5",
   "metadata": {},
   "outputs": [
    {
     "ename": "IndexError",
     "evalue": "pop from empty list",
     "output_type": "error",
     "traceback": [
      "\u001b[0;31m---------------------------------------------------------------------------\u001b[0m",
      "\u001b[0;31mIndexError\u001b[0m                                Traceback (most recent call last)",
      "Input \u001b[0;32mIn [10]\u001b[0m, in \u001b[0;36m<cell line: 1>\u001b[0;34m()\u001b[0m\n\u001b[0;32m----> 1\u001b[0m \u001b[43mstock_price_queue\u001b[49m\u001b[38;5;241;43m.\u001b[39;49m\u001b[43mpop\u001b[49m\u001b[43m(\u001b[49m\u001b[43m)\u001b[49m\n",
      "\u001b[0;31mIndexError\u001b[0m: pop from empty list"
     ]
    }
   ],
   "source": [
    "stock_price_queue.pop() #Error/Exception - Nothing to pop from empty list"
   ]
  },
  {
   "cell_type": "markdown",
   "id": "9cd99b27",
   "metadata": {},
   "source": [
    "<i>As was the case with Stack ADT, Python Queue ADT can be implemented using Python lists, but are not the recommended approach for the implementation since Python lists have the constraint of being dynamic arrays, in which elements need to be copied from one memory area to a new memory area if the initial memory allocated for the list is exhausted. This can increase the time-complexity of operations to be performed on the queue.<b> The preffered/recommended implementation of Queues in Python is using the deque module from Collections class.</b></i>"
   ]
  },
  {
   "cell_type": "markdown",
   "id": "ff8b8f14",
   "metadata": {},
   "source": [
    "<h2>Python Queue ADT Implementation using collections.deque()</h2>"
   ]
  },
  {
   "cell_type": "markdown",
   "id": "8cab961c",
   "metadata": {},
   "source": [
    "<b><i>collections.deque() is Python's specific generalisation of Stacks and Queues which is itself implemented using Doubly Linked Lists.</i></b>\n",
    "\n",
    "<i>Reference to Python's <a href=\"https://docs.python.org/3/library/collections.html#collections.deque\" target=\"_blank\">collections.deque()</a> from Python Docs.</i>"
   ]
  },
  {
   "cell_type": "code",
   "execution_count": 11,
   "id": "98e8c68e",
   "metadata": {},
   "outputs": [],
   "source": [
    "from collections import deque\n",
    "\n",
    "q = deque()"
   ]
  },
  {
   "cell_type": "code",
   "execution_count": 12,
   "id": "4160cb11",
   "metadata": {},
   "outputs": [
    {
     "data": {
      "text/plain": [
       "['__add__',\n",
       " '__bool__',\n",
       " '__class__',\n",
       " '__class_getitem__',\n",
       " '__contains__',\n",
       " '__copy__',\n",
       " '__delattr__',\n",
       " '__delitem__',\n",
       " '__dir__',\n",
       " '__doc__',\n",
       " '__eq__',\n",
       " '__format__',\n",
       " '__ge__',\n",
       " '__getattribute__',\n",
       " '__getitem__',\n",
       " '__gt__',\n",
       " '__hash__',\n",
       " '__iadd__',\n",
       " '__imul__',\n",
       " '__init__',\n",
       " '__init_subclass__',\n",
       " '__iter__',\n",
       " '__le__',\n",
       " '__len__',\n",
       " '__lt__',\n",
       " '__mul__',\n",
       " '__ne__',\n",
       " '__new__',\n",
       " '__reduce__',\n",
       " '__reduce_ex__',\n",
       " '__repr__',\n",
       " '__reversed__',\n",
       " '__rmul__',\n",
       " '__setattr__',\n",
       " '__setitem__',\n",
       " '__sizeof__',\n",
       " '__str__',\n",
       " '__subclasshook__',\n",
       " 'append',\n",
       " 'appendleft',\n",
       " 'clear',\n",
       " 'copy',\n",
       " 'count',\n",
       " 'extend',\n",
       " 'extendleft',\n",
       " 'index',\n",
       " 'insert',\n",
       " 'maxlen',\n",
       " 'pop',\n",
       " 'popleft',\n",
       " 'remove',\n",
       " 'reverse',\n",
       " 'rotate']"
      ]
     },
     "execution_count": 12,
     "metadata": {},
     "output_type": "execute_result"
    }
   ],
   "source": [
    "#For Stack ADT, we always append at the end, but for Queue ADT, we append at the beginning and remove from the end\n",
    "\n",
    "#Check available functions it supports for appending to the beginning\n",
    "dir(q)"
   ]
  },
  {
   "cell_type": "markdown",
   "id": "17c40946",
   "metadata": {},
   "source": [
    "<i>Referencing the available functions with the documentation of collections.deque(), we would be needing the <b>appendleft()</b> function to push to the queue and <b>pop()</b> to remove from the same.</i>"
   ]
  },
  {
   "cell_type": "code",
   "execution_count": 13,
   "id": "1f143b03",
   "metadata": {},
   "outputs": [],
   "source": [
    "q.appendleft(5)\n",
    "q.appendleft(10)\n",
    "q.appendleft(15)"
   ]
  },
  {
   "cell_type": "code",
   "execution_count": 14,
   "id": "e83f4068",
   "metadata": {},
   "outputs": [
    {
     "data": {
      "text/plain": [
       "deque([15, 10, 5])"
      ]
     },
     "execution_count": 14,
     "metadata": {},
     "output_type": "execute_result"
    }
   ],
   "source": [
    "q"
   ]
  },
  {
   "cell_type": "code",
   "execution_count": 15,
   "id": "8f6bf045",
   "metadata": {},
   "outputs": [
    {
     "data": {
      "text/plain": [
       "5"
      ]
     },
     "execution_count": 15,
     "metadata": {},
     "output_type": "execute_result"
    }
   ],
   "source": [
    "q.pop() #Should pop out 5 as queue is FIFO"
   ]
  },
  {
   "cell_type": "code",
   "execution_count": 16,
   "id": "f2ebb014",
   "metadata": {},
   "outputs": [
    {
     "data": {
      "text/plain": [
       "deque([15, 10])"
      ]
     },
     "execution_count": 16,
     "metadata": {},
     "output_type": "execute_result"
    }
   ],
   "source": [
    "q"
   ]
  },
  {
   "cell_type": "code",
   "execution_count": 17,
   "id": "fbc4684c",
   "metadata": {},
   "outputs": [
    {
     "data": {
      "text/plain": [
       "10"
      ]
     },
     "execution_count": 17,
     "metadata": {},
     "output_type": "execute_result"
    }
   ],
   "source": [
    "q.pop() #Should return 10"
   ]
  },
  {
   "cell_type": "code",
   "execution_count": 18,
   "id": "46a6728c",
   "metadata": {},
   "outputs": [
    {
     "data": {
      "text/plain": [
       "deque([15])"
      ]
     },
     "execution_count": 18,
     "metadata": {},
     "output_type": "execute_result"
    }
   ],
   "source": [
    "q"
   ]
  },
  {
   "cell_type": "code",
   "execution_count": 19,
   "id": "1b051c9d",
   "metadata": {},
   "outputs": [
    {
     "data": {
      "text/plain": [
       "15"
      ]
     },
     "execution_count": 19,
     "metadata": {},
     "output_type": "execute_result"
    }
   ],
   "source": [
    "q.pop()"
   ]
  },
  {
   "cell_type": "code",
   "execution_count": 20,
   "id": "3d51954b",
   "metadata": {},
   "outputs": [
    {
     "data": {
      "text/plain": [
       "deque([])"
      ]
     },
     "execution_count": 20,
     "metadata": {},
     "output_type": "execute_result"
    }
   ],
   "source": [
    "q"
   ]
  },
  {
   "cell_type": "code",
   "execution_count": 21,
   "id": "3774992f",
   "metadata": {},
   "outputs": [
    {
     "ename": "IndexError",
     "evalue": "pop from an empty deque",
     "output_type": "error",
     "traceback": [
      "\u001b[0;31m---------------------------------------------------------------------------\u001b[0m",
      "\u001b[0;31mIndexError\u001b[0m                                Traceback (most recent call last)",
      "Input \u001b[0;32mIn [21]\u001b[0m, in \u001b[0;36m<cell line: 1>\u001b[0;34m()\u001b[0m\n\u001b[0;32m----> 1\u001b[0m \u001b[43mq\u001b[49m\u001b[38;5;241;43m.\u001b[39;49m\u001b[43mpop\u001b[49m\u001b[43m(\u001b[49m\u001b[43m)\u001b[49m\n",
      "\u001b[0;31mIndexError\u001b[0m: pop from an empty deque"
     ]
    }
   ],
   "source": [
    "q.pop() #Error/Exception - Can't pop from empty queue"
   ]
  },
  {
   "cell_type": "markdown",
   "id": "4c1d9ef1",
   "metadata": {},
   "source": [
    "<h2>Implement Stack ADT using collections.deque()</h2>"
   ]
  },
  {
   "cell_type": "code",
   "execution_count": 22,
   "id": "c09cff16",
   "metadata": {},
   "outputs": [],
   "source": [
    "#Custom implementation to follow the proper Stack template prototype - enqueue(value), dequeue(), is_empty(), size()\n",
    "\n",
    "from collections import deque\n",
    "\n",
    "class Queue:\n",
    "    def __init__(self):\n",
    "        self.buffer = deque()\n",
    "        \n",
    "    def enqueue(self, value):\n",
    "        self.buffer.appendleft(value)\n",
    "        \n",
    "    def dequeue(self):\n",
    "        return self.buffer.pop()\n",
    "        \n",
    "    def is_empty(self):\n",
    "        return (len(self.buffer) == 0)\n",
    "    \n",
    "    def size(self):\n",
    "        return len(self.buffer)"
   ]
  },
  {
   "cell_type": "code",
   "execution_count": 23,
   "id": "d24f7cdb",
   "metadata": {},
   "outputs": [],
   "source": [
    "q = Queue()"
   ]
  },
  {
   "cell_type": "code",
   "execution_count": 24,
   "id": "ac920721",
   "metadata": {},
   "outputs": [
    {
     "data": {
      "text/plain": [
       "deque([])"
      ]
     },
     "execution_count": 24,
     "metadata": {},
     "output_type": "execute_result"
    }
   ],
   "source": [
    "q.buffer #Empty Queue"
   ]
  },
  {
   "cell_type": "code",
   "execution_count": 25,
   "id": "fa8e3fad",
   "metadata": {},
   "outputs": [
    {
     "data": {
      "text/plain": [
       "True"
      ]
     },
     "execution_count": 25,
     "metadata": {},
     "output_type": "execute_result"
    }
   ],
   "source": [
    "q.is_empty()"
   ]
  },
  {
   "cell_type": "code",
   "execution_count": 26,
   "id": "2981d584",
   "metadata": {},
   "outputs": [
    {
     "data": {
      "text/plain": [
       "0"
      ]
     },
     "execution_count": 26,
     "metadata": {},
     "output_type": "execute_result"
    }
   ],
   "source": [
    "q.size()"
   ]
  },
  {
   "cell_type": "code",
   "execution_count": 27,
   "id": "9a42f998",
   "metadata": {},
   "outputs": [],
   "source": [
    "#Enqueue into queue - queue of dictionaries\n",
    "\n",
    "q.enqueue({\n",
    "    \"company\": \"Reliance Inc.\",\n",
    "    \"timestamp\": \"2021/12/01 11:00:00\",\n",
    "    \"price\": 131.10\n",
    "})"
   ]
  },
  {
   "cell_type": "code",
   "execution_count": 28,
   "id": "4eb6bee1",
   "metadata": {},
   "outputs": [
    {
     "data": {
      "text/plain": [
       "deque([{'company': 'Reliance Inc.',\n",
       "        'timestamp': '2021/12/01 11:00:00',\n",
       "        'price': 131.1}])"
      ]
     },
     "execution_count": 28,
     "metadata": {},
     "output_type": "execute_result"
    }
   ],
   "source": [
    "q.buffer"
   ]
  },
  {
   "cell_type": "code",
   "execution_count": 29,
   "id": "9136a1b4",
   "metadata": {},
   "outputs": [],
   "source": [
    "q.enqueue({\n",
    "    \"company\": \"Reliance Inc.\",\n",
    "    \"timestamp\": \"2021/12/01 11:01:00\",\n",
    "    \"price\": 132.12\n",
    "})\n",
    "\n",
    "q.enqueue({\n",
    "    \"company\": \"Reliance Inc.\",\n",
    "    \"timestamp\": \"2021/12/01 11:03:00\",\n",
    "    \"price\": 135\n",
    "})"
   ]
  },
  {
   "cell_type": "code",
   "execution_count": 30,
   "id": "751b0139",
   "metadata": {},
   "outputs": [
    {
     "data": {
      "text/plain": [
       "deque([{'company': 'Reliance Inc.',\n",
       "        'timestamp': '2021/12/01 11:03:00',\n",
       "        'price': 135},\n",
       "       {'company': 'Reliance Inc.',\n",
       "        'timestamp': '2021/12/01 11:01:00',\n",
       "        'price': 132.12},\n",
       "       {'company': 'Reliance Inc.',\n",
       "        'timestamp': '2021/12/01 11:00:00',\n",
       "        'price': 131.1}])"
      ]
     },
     "execution_count": 30,
     "metadata": {},
     "output_type": "execute_result"
    }
   ],
   "source": [
    "q.buffer"
   ]
  },
  {
   "cell_type": "markdown",
   "id": "4cbdc2b1",
   "metadata": {},
   "source": [
    "<i>We inserted price with timestamp of 11:00:00 before the other 2 prices, so it is at the end of the queue where the operation will be performed earlier.</i>"
   ]
  },
  {
   "cell_type": "code",
   "execution_count": 31,
   "id": "67b4972f",
   "metadata": {},
   "outputs": [
    {
     "data": {
      "text/plain": [
       "{'company': 'Reliance Inc.',\n",
       " 'timestamp': '2021/12/01 11:00:00',\n",
       " 'price': 131.1}"
      ]
     },
     "execution_count": 31,
     "metadata": {},
     "output_type": "execute_result"
    }
   ],
   "source": [
    "q.dequeue()"
   ]
  },
  {
   "cell_type": "code",
   "execution_count": 32,
   "id": "89982d81",
   "metadata": {},
   "outputs": [
    {
     "data": {
      "text/plain": [
       "deque([{'company': 'Reliance Inc.',\n",
       "        'timestamp': '2021/12/01 11:03:00',\n",
       "        'price': 135},\n",
       "       {'company': 'Reliance Inc.',\n",
       "        'timestamp': '2021/12/01 11:01:00',\n",
       "        'price': 132.12}])"
      ]
     },
     "execution_count": 32,
     "metadata": {},
     "output_type": "execute_result"
    }
   ],
   "source": [
    "q.buffer"
   ]
  },
  {
   "cell_type": "code",
   "execution_count": 33,
   "id": "42ab0542",
   "metadata": {},
   "outputs": [
    {
     "data": {
      "text/plain": [
       "2"
      ]
     },
     "execution_count": 33,
     "metadata": {},
     "output_type": "execute_result"
    }
   ],
   "source": [
    "q.size()"
   ]
  },
  {
   "cell_type": "markdown",
   "id": "86b7f928",
   "metadata": {},
   "source": [
    "<i>In out example above, the various platforms like Yahoo Finance and Google Finance will perform the dequeue operation for their respective pointer and the team at BSE will perform the enqueue operation.</i>"
   ]
  },
  {
   "cell_type": "code",
   "execution_count": 34,
   "id": "620eb552",
   "metadata": {},
   "outputs": [
    {
     "data": {
      "text/plain": [
       "{'company': 'Reliance Inc.',\n",
       " 'timestamp': '2021/12/01 11:01:00',\n",
       " 'price': 132.12}"
      ]
     },
     "execution_count": 34,
     "metadata": {},
     "output_type": "execute_result"
    }
   ],
   "source": [
    "q.dequeue()"
   ]
  },
  {
   "cell_type": "code",
   "execution_count": 35,
   "id": "1b370f4b",
   "metadata": {},
   "outputs": [
    {
     "data": {
      "text/plain": [
       "{'company': 'Reliance Inc.', 'timestamp': '2021/12/01 11:03:00', 'price': 135}"
      ]
     },
     "execution_count": 35,
     "metadata": {},
     "output_type": "execute_result"
    }
   ],
   "source": [
    "q.dequeue()"
   ]
  },
  {
   "cell_type": "code",
   "execution_count": 36,
   "id": "b935ac7a",
   "metadata": {},
   "outputs": [
    {
     "data": {
      "text/plain": [
       "deque([])"
      ]
     },
     "execution_count": 36,
     "metadata": {},
     "output_type": "execute_result"
    }
   ],
   "source": [
    "q.buffer"
   ]
  },
  {
   "cell_type": "code",
   "execution_count": 37,
   "id": "a16b3512",
   "metadata": {},
   "outputs": [
    {
     "ename": "IndexError",
     "evalue": "pop from an empty deque",
     "output_type": "error",
     "traceback": [
      "\u001b[0;31m---------------------------------------------------------------------------\u001b[0m",
      "\u001b[0;31mIndexError\u001b[0m                                Traceback (most recent call last)",
      "Input \u001b[0;32mIn [37]\u001b[0m, in \u001b[0;36m<cell line: 1>\u001b[0;34m()\u001b[0m\n\u001b[0;32m----> 1\u001b[0m \u001b[43mq\u001b[49m\u001b[38;5;241;43m.\u001b[39;49m\u001b[43mdequeue\u001b[49m\u001b[43m(\u001b[49m\u001b[43m)\u001b[49m\n",
      "Input \u001b[0;32mIn [22]\u001b[0m, in \u001b[0;36mQueue.dequeue\u001b[0;34m(self)\u001b[0m\n\u001b[1;32m     12\u001b[0m \u001b[38;5;28;01mdef\u001b[39;00m \u001b[38;5;21mdequeue\u001b[39m(\u001b[38;5;28mself\u001b[39m):\n\u001b[0;32m---> 13\u001b[0m     \u001b[38;5;28;01mreturn\u001b[39;00m \u001b[38;5;28;43mself\u001b[39;49m\u001b[38;5;241;43m.\u001b[39;49m\u001b[43mbuffer\u001b[49m\u001b[38;5;241;43m.\u001b[39;49m\u001b[43mpop\u001b[49m\u001b[43m(\u001b[49m\u001b[43m)\u001b[49m\n",
      "\u001b[0;31mIndexError\u001b[0m: pop from an empty deque"
     ]
    }
   ],
   "source": [
    "q.dequeue() #Error - Empty queue"
   ]
  },
  {
   "cell_type": "code",
   "execution_count": 38,
   "id": "745113c2",
   "metadata": {},
   "outputs": [
    {
     "data": {
      "text/plain": [
       "0"
      ]
     },
     "execution_count": 38,
     "metadata": {},
     "output_type": "execute_result"
    }
   ],
   "source": [
    "q.size()"
   ]
  },
  {
   "cell_type": "code",
   "execution_count": 39,
   "id": "75b4e629",
   "metadata": {},
   "outputs": [
    {
     "data": {
      "text/plain": [
       "True"
      ]
     },
     "execution_count": 39,
     "metadata": {},
     "output_type": "execute_result"
    }
   ],
   "source": [
    "q.is_empty()"
   ]
  },
  {
   "cell_type": "markdown",
   "id": "082f3d6a",
   "metadata": {},
   "source": [
    "<b><i>The worst time-complexity of the legal insertion and deletion operations in a queue is O(1)</i></b>\n",
    "\n",
    "<i>Search and access operations are not allowed operations in a Queue ADT, however they can be performed at O(n) worst-case time-complexity.</i>"
   ]
  },
  {
   "cell_type": "markdown",
   "id": "9e04742d",
   "metadata": {},
   "source": [
    "<h2>Exercise 1</h2>"
   ]
  },
  {
   "cell_type": "markdown",
   "id": "45af4253",
   "metadata": {},
   "source": [
    "Using the Queue class from above, design a food ordering system where your Python program will run two threads:\n",
    "\n",
    "1. Place Order: This thread will be placing an order and inserting that into a queue. This thread places new order every 0.5 second. (hint: use time.sleep(0.5) function) <br>\n",
    "2. Serve Order: This thread will server the order. All you need to do is pop the order out of the queue and print it. This thread serves an order every 2 seconds. Also start this thread 1 second after place order thread is started.\n",
    "\n",
    "Use this video to get yourself familiar with <a href=\"https://www.youtube.com/watch?v=PJ4t2U15ACo&list=PLeo1K3hjS3uub3PRhdoCTY8BxMKSW7RjN&index=3\" target=\"_blank\">Multithreading in Python</a>.\n",
    "\n",
    "Pass following list as an argument to place order thread: <br>\n",
    "orders = ['pizza','samosa','pasta','biryani','burger']\n",
    "\n",
    "This problem is a producer, consumer problem where place_order thread is producing orders whereas server_order thread is consuming the food orders."
   ]
  },
  {
   "cell_type": "code",
   "execution_count": 40,
   "id": "7d7fdc2e",
   "metadata": {},
   "outputs": [],
   "source": [
    "from collections import deque\n",
    "\n",
    "class Queue:\n",
    "    def __init__(self):\n",
    "        self.buffer = deque()\n",
    "        \n",
    "    def enqueue(self, value):\n",
    "        self.buffer.appendleft(value)\n",
    "        \n",
    "    def dequeue(self):\n",
    "        return self.buffer.pop()\n",
    "        \n",
    "    def is_empty(self):\n",
    "        return (len(self.buffer) == 0)\n",
    "    \n",
    "    def size(self):\n",
    "        return len(self.buffer)"
   ]
  },
  {
   "cell_type": "code",
   "execution_count": 41,
   "id": "9fce3e79",
   "metadata": {},
   "outputs": [
    {
     "name": "stdout",
     "output_type": "stream",
     "text": [
      "Placing order for: pizza\n",
      "Placing order for: samosa\n",
      "Placing order for: pasta\n",
      "Placing order for: biryani\n",
      "Placing order for: burger\n",
      "Serving order for: pizza\n",
      "Serving order for: samosa\n",
      "Serving order for: pasta\n",
      "Serving order for: biryani\n",
      "Serving order for: burger\n",
      "Completed in: 13.539191007614136 seconds\n"
     ]
    }
   ],
   "source": [
    "#Without multi-threading\n",
    "\n",
    "orders_queue = Queue()\n",
    "\n",
    "import time\n",
    "\n",
    "def place_order(orders):\n",
    "    for order in orders:\n",
    "        print(\"Placing order for:\", order)\n",
    "        orders_queue.enqueue(order)\n",
    "        time.sleep(0.5)\n",
    "        \n",
    "def serve_order():\n",
    "    time.sleep(1)\n",
    "    while not orders_queue.is_empty():\n",
    "        print(\"Serving order for:\", orders_queue.dequeue())\n",
    "        time.sleep(2)\n",
    "\n",
    "orders = ['pizza','samosa','pasta','biryani','burger']\n",
    "\n",
    "t = time.time()\n",
    "\n",
    "place_order(orders)\n",
    "serve_order()\n",
    "\n",
    "print(\"Completed in:\", time.time() - t, \"seconds\")"
   ]
  },
  {
   "cell_type": "code",
   "execution_count": 42,
   "id": "90d7499d",
   "metadata": {},
   "outputs": [
    {
     "name": "stdout",
     "output_type": "stream",
     "text": [
      "Placing order for: pizza\n",
      "Placing order for: samosa\n",
      "Serving order for: pizza\n",
      "Placing order for: pasta\n",
      "Placing order for: biryani\n",
      "Placing order for: burger\n",
      "Serving order for: samosa\n",
      "Serving order for: pasta\n",
      "Serving order for: biryani\n",
      "Serving order for: burger\n",
      "Completed in: 11.022597074508667 seconds\n"
     ]
    }
   ],
   "source": [
    "#With multi-threading\n",
    "\n",
    "orders_queue = Queue()\n",
    "\n",
    "import time\n",
    "import threading\n",
    "\n",
    "def place_order(orders):\n",
    "    for order in orders:\n",
    "        print(\"Placing order for:\", order)\n",
    "        orders_queue.enqueue(order)\n",
    "        time.sleep(0.5)\n",
    "        \n",
    "def serve_order():\n",
    "    time.sleep(1)\n",
    "    while not orders_queue.is_empty():\n",
    "        print(\"Serving order for:\", orders_queue.dequeue())\n",
    "        time.sleep(2)\n",
    "\n",
    "orders = ['pizza','samosa','pasta','biryani','burger']\n",
    "\n",
    "t = time.time()\n",
    "\n",
    "thread1 = threading.Thread(target=place_order, args=(orders,))\n",
    "thread2 = threading.Thread(target=serve_order)\n",
    "\n",
    "thread1.start()\n",
    "thread2.start()\n",
    "\n",
    "thread1.join()\n",
    "thread2.join()\n",
    "\n",
    "print(\"Completed in:\", time.time() - t, \"seconds\")"
   ]
  },
  {
   "cell_type": "markdown",
   "id": "798c103a",
   "metadata": {},
   "source": [
    "<h2>Exercise 2</h2>"
   ]
  },
  {
   "cell_type": "markdown",
   "id": "fd796bc8",
   "metadata": {},
   "source": [
    "Write a program to print binary numbers from 1 to 10 using Queue. Use Queue class implemented above. Binary sequence should look like: <br>\n",
    "    1 <br>\n",
    "    10 <br>\n",
    "    11 <br>\n",
    "    100 <br>\n",
    "    101 <br>\n",
    "    110 <br>\n",
    "    111 <br>\n",
    "    1000 <br>\n",
    "    1001 <br>\n",
    "    1010\n",
    "    \n",
    "<u>Hint:</u> Notice a pattern above. After 1, second and third number is 1+0 and 1+1. 4th and 5th number are second number (i.e. 10) + 0 and second number (i.e. 10) + 1.\n",
    "\n",
    "Also add front() function in queue class that can return the front element in the queue."
   ]
  },
  {
   "cell_type": "code",
   "execution_count": 43,
   "id": "80f0e98a",
   "metadata": {},
   "outputs": [],
   "source": [
    "from collections import deque\n",
    "\n",
    "class Queue:\n",
    "    def __init__(self):\n",
    "        self.buffer = deque()\n",
    "        \n",
    "    def enqueue(self, value):\n",
    "        self.buffer.appendleft(value)\n",
    "        \n",
    "    def dequeue(self):\n",
    "        if not self.is_empty():\n",
    "            return self.buffer.pop()\n",
    "        \n",
    "    def is_empty(self):\n",
    "        return (len(self.buffer) == 0)\n",
    "    \n",
    "    def size(self):\n",
    "        return len(self.buffer)\n",
    "    \n",
    "    def front(self):\n",
    "        return self.buffer[-1]"
   ]
  },
  {
   "cell_type": "code",
   "execution_count": 44,
   "id": "db1584f0",
   "metadata": {},
   "outputs": [
    {
     "name": "stdout",
     "output_type": "stream",
     "text": [
      "1\n",
      "10\n",
      "11\n",
      "100\n",
      "101\n",
      "110\n",
      "111\n",
      "1000\n",
      "1001\n",
      "1010\n"
     ]
    }
   ],
   "source": [
    "def produce_binary_numbers(n):\n",
    "    number_queue = Queue()\n",
    "    number_queue.enqueue(\"1\")\n",
    "    \n",
    "    for i in range(n):\n",
    "        front = number_queue.front()\n",
    "        print(front)\n",
    "        \n",
    "        number_queue.enqueue(str(front) + \"0\")\n",
    "        number_queue.enqueue(str(front) + \"1\")\n",
    "        \n",
    "        number_queue.dequeue()\n",
    "        \n",
    "produce_binary_numbers(10)"
   ]
  }
 ],
 "metadata": {
  "kernelspec": {
   "display_name": "Python 3 (ipykernel)",
   "language": "python",
   "name": "python3"
  },
  "language_info": {
   "codemirror_mode": {
    "name": "ipython",
    "version": 3
   },
   "file_extension": ".py",
   "mimetype": "text/x-python",
   "name": "python",
   "nbconvert_exporter": "python",
   "pygments_lexer": "ipython3",
   "version": "3.9.12"
  }
 },
 "nbformat": 4,
 "nbformat_minor": 5
}
